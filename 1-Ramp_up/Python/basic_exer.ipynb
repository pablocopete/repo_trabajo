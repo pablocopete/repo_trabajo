{
 "cells": [
  {
   "cell_type": "markdown",
   "id": "172e7b03",
   "metadata": {},
   "source": [
    "\n",
    "## Ejercicio 1\n",
    "Crea una variable llamada `nombre` con tu nombre y otra llamada `edad` con tu edad (como número entero). Imprime por pantalla un mensaje que diga \"Hola, me llamo [nombre] y tengo [edad] años.\" usando estas variables.\n",
    "\n"
   ]
  },
  {
   "cell_type": "code",
   "execution_count": 1,
   "id": "8a381bc9",
   "metadata": {},
   "outputs": [
    {
     "name": "stdout",
     "output_type": "stream",
     "text": [
      "Hola, me llamo Pablo y tengo 23 años.\n"
     ]
    }
   ],
   "source": [
    "nombre, edad = 'Pablo', 23\n",
    "print(f'Hola, me llamo {nombre} y tengo {edad} años.')\n"
   ]
  },
  {
   "cell_type": "markdown",
   "id": "1e0deb75",
   "metadata": {},
   "source": [
    "\n",
    "\n",
    "## Ejercicio 2\n",
    "Pide al usuario que introduzca dos números enteros por teclado. Guarda estos números en variables, súmalos y muestra el resultado por pantalla con el mensaje \"La suma es: [resultado]\".\n",
    "\n",
    "> **TIP:** La función `input()` devuelve texto (string). Necesitarás convertirlo a entero usando `int()`.\n"
   ]
  },
  {
   "cell_type": "code",
   "execution_count": 12,
   "id": "ee6e54f2",
   "metadata": {},
   "outputs": [
    {
     "name": "stdout",
     "output_type": "stream",
     "text": [
      "La suma es 30\n"
     ]
    }
   ],
   "source": [
    "numero1, numero2 = None, None\n",
    "while (type(numero1) is not int) or (type(numero2) is not int):\n",
    "    try:\n",
    "        numero1 = int(input('Dime un número entero'))\n",
    "        numero2 = int(input('Dime otro número entero'))\n",
    "    except:\n",
    "        continue\n",
    "    \n",
    "\n",
    "print(f'La suma es {numero1 + numero2}')"
   ]
  },
  {
   "cell_type": "markdown",
   "id": "c6a3cee8",
   "metadata": {},
   "source": [
    "\n",
    "## Ejercicio 3\n",
    "Dada la variable `temperatura = 25.5`, escribe código que imprima \"Hace calor\" si la temperatura es mayor o igual a 25, y \"No hace calor\" si es menor.\n",
    "\n",
    "> ```python\n",
    "> temperatura = 25.5\n",
    "> ```\n"
   ]
  },
  {
   "cell_type": "code",
   "execution_count": 16,
   "id": "718083c0",
   "metadata": {},
   "outputs": [
    {
     "name": "stdout",
     "output_type": "stream",
     "text": [
      "Hace calor\n"
     ]
    }
   ],
   "source": [
    "temperatura = 25.5\n",
    "\n",
    "if temperatura >= 25:\n",
    "    print('Hace calor')\n",
    "else:\n",
    "    print('No hace calor')"
   ]
  },
  {
   "cell_type": "markdown",
   "id": "c40f5874",
   "metadata": {},
   "source": [
    "\n",
    "## Ejercicio 4\n",
    "Dada la cadena `frase = \"python es divertido\"`, utiliza métodos de string para:\n",
    "1. Imprimir la frase completa en mayúsculas.\n",
    "2. Imprimir la frase con la primera letra de cada palabra en mayúscula.\n",
    "3. Encontrar la posición (índice) de la palabra \"divertido\".\n",
    "\n",
    "> ```python\n",
    "> frase = \"python es divertido\"\n",
    "> ```\n"
   ]
  },
  {
   "cell_type": "code",
   "execution_count": 21,
   "id": "382e9c86",
   "metadata": {},
   "outputs": [
    {
     "name": "stdout",
     "output_type": "stream",
     "text": [
      "PYTHON ES DIVERTIDO\n",
      "Python Es Divertido\n",
      "10\n"
     ]
    }
   ],
   "source": [
    "frase = 'python es divertido'\n",
    "\n",
    "print(frase.upper())\n",
    "print(frase.title())\n",
    "print(frase.find('divertido'))"
   ]
  },
  {
   "cell_type": "markdown",
   "id": "2329de09",
   "metadata": {},
   "source": [
    "\n",
    "## Ejercicio 5 (Similar al ejemplo)\n",
    "Dada la siguiente lista, crea una nueva lista que contenga solo los números pares de la lista original.\n",
    "> ```python\n",
    "> numeros = [1, 2, 3, 4, 5, 6, 7, 8, 9, 10]\n",
    "> ```\n",
    "> **TIP:** Usa el operador módulo (`%`) para comprobar si un número es par. Itera sobre la lista original y añade los pares a una nueva lista.\n"
   ]
  },
  {
   "cell_type": "code",
   "execution_count": 23,
   "id": "ec96e737",
   "metadata": {},
   "outputs": [
    {
     "name": "stdout",
     "output_type": "stream",
     "text": [
      "[2, 4, 6, 8, 10]\n"
     ]
    }
   ],
   "source": [
    "numeros = [1, 2, 3, 4, 5, 6, 7, 8, 9, 10]\n",
    "num_pares = []\n",
    "\n",
    "for number in numeros:\n",
    "    if (number % 2) == 0:\n",
    "        num_pares.append(number)\n",
    "\n",
    "print(num_pares)"
   ]
  },
  {
   "cell_type": "markdown",
   "id": "b71469cc",
   "metadata": {},
   "source": [
    "\n",
    "## Ejercicio 6\n",
    "Tienes la siguiente lista de asignaturas. Añade \"Física\" al final de la lista e inserta \"Química\" en la segunda posición (índice 1). Imprime la lista resultante.\n",
    "> ```python\n",
    "> asignaturas = [\"Matemáticas\", \"Historia\", \"Lengua\"]\n",
    "> ```\n"
   ]
  },
  {
   "cell_type": "code",
   "execution_count": 26,
   "id": "b2c618ff",
   "metadata": {},
   "outputs": [
    {
     "name": "stdout",
     "output_type": "stream",
     "text": [
      "['Matemñaticas', 'Química', 'Historia', 'Lengua', 'Física']\n"
     ]
    }
   ],
   "source": [
    "asignaturas = ['Matemñaticas', 'Historia', 'Lengua']\n",
    "asignaturas.append('Física')\n",
    "asignaturas.insert(1, 'Química')\n",
    "print(asignaturas)"
   ]
  },
  {
   "cell_type": "markdown",
   "id": "80100492",
   "metadata": {},
   "source": [
    "\n",
    "## Ejercicio 7\n",
    "Escribe un programa que pida al usuario su nota (un número del 0 al 10) e imprima:\n",
    "- \"Suspenso\" si la nota es menor que 5.\n",
    "- \"Aprobado\" si la nota es 5 o mayor, pero menor que 7.\n",
    "- \"Notable\" si la nota es 7 o mayor, pero menor que 9.\n",
    "- \"Sobresaliente\" si la nota es 9 o 10.\n",
    "Maneja el caso de que introduzca un número fuera del rango 0-10 con un mensaje de error.\n",
    "\n",
    "> **TIP:** Usa `if`, `elif` y `else`. No olvides convertir la entrada a número (`float` o `int`).\n"
   ]
  },
  {
   "cell_type": "code",
   "execution_count": null,
   "id": "284b134f",
   "metadata": {},
   "outputs": [
    {
     "name": "stdout",
     "output_type": "stream",
     "text": [
      "Sobresaliente\n"
     ]
    }
   ],
   "source": [
    "nota = None\n",
    "\n",
    "while ((type(nota) != float) and (type(nota) != int)) or (nota < 0) or (nota > 10):\n",
    "        nota = input('Dime la nota')\n",
    "        try:\n",
    "                nota = float(nota)\n",
    "        except: \n",
    "                continue\n",
    "\n",
    "# En el caso de que el anterior bucle no estuviera, deberíamos tener en cuenta los posibles casos en el\n",
    "# que el input no fuera un número en el rango 0-10\n",
    "    \n",
    "if nota < 5:\n",
    "        print('Suspenso')\n",
    "elif nota < 7:\n",
    "        print('Aprobado')\n",
    "elif nota < 9:\n",
    "        print('Notable')\n",
    "else:\n",
    "        print('Sobresaliente')"
   ]
  },
  {
   "cell_type": "markdown",
   "id": "7a8ca9ef",
   "metadata": {},
   "source": [
    "\n",
    "## Ejercicio 8\n",
    "Usando un bucle `for`, imprime cada uno de los días de la semana contenidos en la siguiente tupla.\n",
    "> ```python\n",
    "> dias_semana = (\"Lunes\", \"Martes\", \"Miércoles\", \"Jueves\", \"Viernes\", \"Sábado\", \"Domingo\")\n",
    "> ```\n"
   ]
  },
  {
   "cell_type": "code",
   "execution_count": 32,
   "id": "067b6c61",
   "metadata": {},
   "outputs": [
    {
     "name": "stdout",
     "output_type": "stream",
     "text": [
      "Lunes\n",
      "Martes\n",
      "Miércoles\n",
      "Jueves\n",
      "Viernes\n",
      "Sábado\n",
      "Domingo\n"
     ]
    }
   ],
   "source": [
    "dias_semana = (\"Lunes\", \"Martes\", \"Miércoles\", \"Jueves\", \"Viernes\", \"Sábado\", \"Domingo\")\n",
    "\n",
    "for dia in dias_semana:\n",
    "    print(dia)"
   ]
  },
  {
   "cell_type": "markdown",
   "id": "c33636ea",
   "metadata": {},
   "source": [
    "\n",
    "## Ejercicio 9\n",
    "Calcula la suma de todos los números en la siguiente lista usando un bucle `for`.\n",
    "> ```python\n",
    "> valores = [10, 20, 30, 40, 50]\n",
    "> ```\n",
    "> **TIP:** Inicializa una variable `suma` a 0 antes del bucle.\n"
   ]
  },
  {
   "cell_type": "code",
   "execution_count": 33,
   "id": "ad598028",
   "metadata": {},
   "outputs": [
    {
     "name": "stdout",
     "output_type": "stream",
     "text": [
      "150\n"
     ]
    }
   ],
   "source": [
    "suma = 0\n",
    "valores = [10, 20, 30, 40, 50]\n",
    "\n",
    "for numero in valores:\n",
    "    suma += numero\n",
    "\n",
    "print(suma)"
   ]
  },
  {
   "cell_type": "markdown",
   "id": "06f573a7",
   "metadata": {},
   "source": [
    "\n",
    "## Ejercicio 10\n",
    "Crea un diccionario que represente un coche, con las claves \"marca\", \"modelo\" y \"año\". Asígnale valores de ejemplo (ej: \"Toyota\", \"Corolla\", 2021). Luego, imprime el valor asociado a la clave \"modelo\".\n"
   ]
  },
  {
   "cell_type": "code",
   "execution_count": 34,
   "id": "fda47542",
   "metadata": {},
   "outputs": [
    {
     "name": "stdout",
     "output_type": "stream",
     "text": [
      "Corolla\n"
     ]
    }
   ],
   "source": [
    "coche = {'marca': 'Toyota',\n",
    "         'modelo': 'Corolla',\n",
    "         'año': 2021}\n",
    "\n",
    "print(coche['modelo'])"
   ]
  },
  {
   "cell_type": "markdown",
   "id": "b70f420e",
   "metadata": {},
   "source": [
    "\n",
    "## Ejercicio 11\n",
    "Dado el siguiente diccionario, añade una nueva clave \"ciudad\" con el valor \"Madrid\". Después, itera sobre el diccionario e imprime cada par clave-valor en el formato \"Clave: [clave], Valor: [valor]\".\n",
    "> ```python\n",
    "> persona = {\"nombre\": \"Ana\", \"edad\": 28}\n",
    "> ```\n",
    "> **TIP:** Puedes usar el método `.items()` para iterar sobre claves y valores simultáneamente.\n"
   ]
  },
  {
   "cell_type": "code",
   "execution_count": 36,
   "id": "1d42bc0f",
   "metadata": {},
   "outputs": [
    {
     "name": "stdout",
     "output_type": "stream",
     "text": [
      "Clave: nombre, valor: Ana\n",
      "Clave: edad, valor: 28\n",
      "Clave: ciudad, valor: Madrid\n"
     ]
    }
   ],
   "source": [
    "persona = {\"nombre\": \"Ana\", \"edad\": 28}\n",
    "persona['ciudad'] = 'Madrid'\n",
    "\n",
    "for clave, valor in persona.items():\n",
    "    print(f'Clave: {clave}, valor: {valor}')\n"
   ]
  },
  {
   "cell_type": "markdown",
   "id": "3a56b745",
   "metadata": {},
   "source": [
    "\n",
    "## Ejercicio 12\n",
    "Crea una tupla con los números del 1 al 5. Intenta cambiar el segundo elemento (índice 1) a 10. Observa y explica (en un comentario en tu código) qué sucede. Luego, imprime la tupla original.\n",
    "\n",
    "> **TIP:** Las tuplas son inmutables.\n"
   ]
  },
  {
   "cell_type": "code",
   "execution_count": null,
   "id": "11482826",
   "metadata": {},
   "outputs": [
    {
     "ename": "TypeError",
     "evalue": "'tuple' object does not support item assignment",
     "output_type": "error",
     "traceback": [
      "\u001b[31m---------------------------------------------------------------------------\u001b[39m",
      "\u001b[31mTypeError\u001b[39m                                 Traceback (most recent call last)",
      "\u001b[36mCell\u001b[39m\u001b[36m \u001b[39m\u001b[32mIn[38]\u001b[39m\u001b[32m, line 2\u001b[39m\n\u001b[32m      1\u001b[39m tupla = (\u001b[32m1\u001b[39m, \u001b[32m2\u001b[39m, \u001b[32m3\u001b[39m, \u001b[32m4\u001b[39m, \u001b[32m5\u001b[39m)\n\u001b[32m----> \u001b[39m\u001b[32m2\u001b[39m \u001b[43mtupla\u001b[49m\u001b[43m[\u001b[49m\u001b[32;43m1\u001b[39;49m\u001b[43m]\u001b[49m = \u001b[32m10\u001b[39m\n\u001b[32m      3\u001b[39m \u001b[38;5;28mprint\u001b[39m(\u001b[38;5;28mtype\u001b[39m(tupla))\n",
      "\u001b[31mTypeError\u001b[39m: 'tuple' object does not support item assignment"
     ]
    }
   ],
   "source": [
    "tupla = (1, 2, 3, 4, 5)\n",
    "tupla[1] = 10"
   ]
  },
  {
   "cell_type": "code",
   "execution_count": 40,
   "id": "93f3b7dd",
   "metadata": {},
   "outputs": [
    {
     "name": "stdout",
     "output_type": "stream",
     "text": [
      "(1, 10, 3, 4, 5)\n"
     ]
    }
   ],
   "source": [
    "# Como se trata de una tupla, se trata de un objeto inmutable, no podemos cambiar sus elementos, para ello, deberíamos ayudarnos de\n",
    "# variables auxiliares o convertirlo en lista, cambiarlo y retornarlo a tupla\n",
    "\n",
    "tupla = list(tupla)\n",
    "tupla[1] = 10\n",
    "tupla = tuple(tupla)\n",
    "print(tupla)"
   ]
  },
  {
   "cell_type": "markdown",
   "id": "d0a50b85",
   "metadata": {},
   "source": [
    "\n",
    "## Ejercicio 13\n",
    "Crea un set (conjunto) a partir de la siguiente lista para eliminar los elementos duplicados. Imprime el set resultante.\n",
    "> ```python\n",
    "> lista_con_duplicados = [1, 2, 2, 3, 4, 4, 4, 5, 1]\n",
    "> ```\n"
   ]
  },
  {
   "cell_type": "code",
   "execution_count": 42,
   "id": "089145d3",
   "metadata": {},
   "outputs": [
    {
     "name": "stdout",
     "output_type": "stream",
     "text": [
      "{1, 2, 3, 4, 5}\n"
     ]
    }
   ],
   "source": [
    "lista_con_duplicados = [1, 2, 2, 3, 4, 4, 4, 5, 1]\n",
    "mi_set = set(lista_con_duplicados)\n",
    "print(mi_set)"
   ]
  },
  {
   "cell_type": "markdown",
   "id": "ee3405ef",
   "metadata": {},
   "source": [
    "\n",
    "## Ejercicio 14\n",
    "Escribe un bucle `while` que imprima los números del 1 al 5 (ambos incluidos).\n",
    "\n",
    "> **TIP:** Necesitarás un contador que se incremente en cada iteración y una condición de parada.\n"
   ]
  },
  {
   "cell_type": "code",
   "execution_count": 45,
   "id": "40f61471",
   "metadata": {},
   "outputs": [
    {
     "name": "stdout",
     "output_type": "stream",
     "text": [
      "1\n",
      "2\n",
      "3\n",
      "4\n",
      "5\n"
     ]
    }
   ],
   "source": [
    "numero = 1\n",
    "\n",
    "while numero < 6:\n",
    "    print(numero)\n",
    "    numero += 1"
   ]
  },
  {
   "cell_type": "markdown",
   "id": "2b1ec49f",
   "metadata": {},
   "source": [
    "\n",
    "## Ejercicio 15\n",
    "Dada la lista `ejer_15 = [3, 20, 3, 47, 19, 3, 29, 45, 67, 78, 90, 3, 3]`, crea una *nueva lista* que contenga todos los elementos de `ejer_15` excepto los que sean iguales a 3.\n",
    "\n",
    "> ```python\n",
    "> ejer_15 = [3, 20, 3, 47, 19, 3, 29, 45, 67, 78, 90, 3, 3]\n",
    "> ```\n",
    "> **TIP:** Es más seguro iterar sobre la lista original y añadir los elementos deseados a una nueva lista, en lugar de eliminar sobre la que iteras.\n"
   ]
  },
  {
   "cell_type": "code",
   "execution_count": 52,
   "id": "c360de86",
   "metadata": {},
   "outputs": [
    {
     "name": "stdout",
     "output_type": "stream",
     "text": [
      "[20, 47, 19, 29, 45, 67, 78, 90]\n",
      "[20, 47, 19, 29, 45, 67, 78, 90]\n"
     ]
    }
   ],
   "source": [
    "ejer_15 = [3, 20, 3, 47, 19, 3, 29, 45, 67, 78, 90, 3, 3]\n",
    "\n",
    "# Opcion 1\n",
    "n_veces = ejer_15.count(3)\n",
    "\n",
    "for i in range(n_veces):\n",
    "    ejer_15.remove(3)\n",
    "\n",
    "print(ejer_15)\n",
    "\n",
    "# Opcion 2\n",
    "mi_lista = []\n",
    "\n",
    "for i in range(len(ejer_15)):\n",
    "    if ejer_15[i] != 3:\n",
    "        mi_lista.append(ejer_15[i])\n",
    "\n",
    "print(ejer_15)"
   ]
  },
  {
   "cell_type": "markdown",
   "id": "8e8b8150",
   "metadata": {},
   "source": [
    "\n",
    "## Ejercicio 16\n",
    "Usando una list comprehension, crea una lista que contenga los cuadrados de los números del 1 al 10.\n",
    "\n",
    "> **TIP:** La sintaxis es `[expresion for elemento in iterable]`. `range(1, 11)` te dará los números del 1 al 10.\n"
   ]
  },
  {
   "cell_type": "code",
   "execution_count": 60,
   "id": "61fe9135",
   "metadata": {},
   "outputs": [
    {
     "name": "stdout",
     "output_type": "stream",
     "text": [
      "[1, 2, 3, 4, 5, 6, 7, 8, 9, 10]\n",
      "[1, 4, 9, 16, 25, 36, 49, 64, 81, 100]\n"
     ]
    }
   ],
   "source": [
    "lista = []\n",
    "for i in range(1, 11):\n",
    "    lista.append(i)\n",
    "print(lista)\n",
    "\n",
    "lista_cuadrados = [numero**2 for numero in lista]\n",
    "print(lista_cuadrados)"
   ]
  },
  {
   "cell_type": "markdown",
   "id": "b7230e28",
   "metadata": {},
   "source": [
    "\n",
    "## Ejercicio 17\n",
    "Escribe un programa que pida al usuario un número. Intenta convertir la entrada a entero usando `int()`. Si el usuario introduce algo que no es un número entero (por ejemplo, texto), el programa debe capturar el error (`ValueError`) e imprimir \"Entrada inválida. Por favor, introduce un número entero.\" en lugar de fallar. Usa `try`/`except`.\n"
   ]
  },
  {
   "cell_type": "code",
   "execution_count": 62,
   "id": "a1ef5284",
   "metadata": {},
   "outputs": [
    {
     "name": "stdout",
     "output_type": "stream",
     "text": [
      "Entrada inválida. Por favor, introduce un número entero\n"
     ]
    }
   ],
   "source": [
    "try:\n",
    "    numero = int(input('Introduce un número entero:'))\n",
    "except ValueError:\n",
    "    print('Entrada inválida. Por favor, introduce un número entero')\n"
   ]
  },
  {
   "cell_type": "markdown",
   "id": "218f7992",
   "metadata": {},
   "source": [
    "\n",
    "## Ejercicio 18\n",
    "Itera sobre la siguiente lista de números. Si encuentras el número 0, detén el bucle inmediatamente e imprime \"Se encontró el cero\". Si terminas de recorrer la lista sin encontrar el 0, imprime \"No se encontró el cero\".\n",
    "> ```python\n",
    "> numeros_buscar = [12, 5, -3, 8, 0, 15, 4]\n",
    "> ```\n",
    "> **TIP:** Usa un bucle `for` con `break` y la cláusula `else` del `for`.\n"
   ]
  },
  {
   "cell_type": "code",
   "execution_count": 69,
   "id": "cf962d44",
   "metadata": {},
   "outputs": [
    {
     "name": "stdout",
     "output_type": "stream",
     "text": [
      "Se encontró el 0\n",
      "No se encontró el 0\n"
     ]
    }
   ],
   "source": [
    "numeros_buscar = [12, 5, -3, 8, 0, 15, 4]\n",
    "\n",
    "for numero in numeros_buscar:\n",
    "    if numero == 0:\n",
    "        print('Se encontró el 0')\n",
    "        break\n",
    "else:\n",
    "    print('No se encontró el 0')\n",
    "\n",
    "# Quitamos el 0\n",
    "numeros_buscar = [12, 5, -3, 8, 15, 4]\n",
    "\n",
    "for numero in numeros_buscar:\n",
    "    if numero == 0:\n",
    "        print('Se encontró el 0')\n",
    "        break\n",
    "else:\n",
    "    print('No se encontró el 0')"
   ]
  },
  {
   "cell_type": "markdown",
   "id": "3005707f",
   "metadata": {},
   "source": [
    "\n",
    "## Ejercicio 19\n",
    "Itera sobre la lista `procesar = [1, -2, 3, -4, 5, -6]`. Imprime solo los números positivos. Si encuentras un número negativo, debes saltar a la siguiente iteración sin imprimirlo.\n",
    "> ```python\n",
    "> procesar = [1, -2, 3, -4, 5, -6]\n",
    "> ```\n",
    "> **TIP:** Usa un `if` dentro del bucle y la palabra clave `continue`.\n"
   ]
  },
  {
   "cell_type": "code",
   "execution_count": 72,
   "id": "e4af48f0",
   "metadata": {},
   "outputs": [
    {
     "name": "stdout",
     "output_type": "stream",
     "text": [
      "1\n",
      "3\n",
      "5\n",
      "1\n",
      "3\n",
      "5\n"
     ]
    }
   ],
   "source": [
    "procesar = [1, -2, 3, -4, 5, -6]\n",
    "\n",
    "for numero in procesar:\n",
    "    if numero >= 0:\n",
    "        print(numero)\n",
    "\n",
    "# Lo de arriba funciona aunque no tengo muy claro si quizás querías que hiciésemos:\n",
    "procesar = [1, -2, 3, -4, 5, -6]\n",
    "\n",
    "for numero in procesar:\n",
    "    if numero >= 0:\n",
    "        print(numero)\n",
    "    else:\n",
    "        continue"
   ]
  },
  {
   "cell_type": "markdown",
   "id": "ae9a4e85",
   "metadata": {},
   "source": [
    "\n",
    "## Ejercicio 20\n",
    "Tienes una lista de diccionarios representando estudiantes. Itera sobre la lista e imprime el nombre de los estudiantes que hayan aprobado (nota >= 5).\n",
    "> ```python\n",
    "> estudiantes = [\n",
    ">     {\"nombre\": \"Carlos\", \"nota\": 7},\n",
    ">     {\"nombre\": \"Laura\", \"nota\": 4},\n",
    ">     {\"nombre\": \"Pedro\", \"nota\": 9},\n",
    ">     {\"nombre\": \"Sofia\", \"nota\": 5}\n",
    "> ]\n",
    "> ```\n",
    "> **TIP:** Dentro del bucle `for`, accederás a cada diccionario. Usa la clave \"nota\" para comprobar la condición y la clave \"nombre\" para imprimir.\n"
   ]
  },
  {
   "cell_type": "code",
   "execution_count": null,
   "id": "7bb226d1",
   "metadata": {},
   "outputs": [
    {
     "name": "stdout",
     "output_type": "stream",
     "text": [
      "El/la estudiante Carlos ha aprobado\n",
      "El/la estudiante Pedro ha aprobado\n",
      "El/la estudiante Sofia ha aprobado\n"
     ]
    }
   ],
   "source": [
    "estudiantes = [ \n",
    "    {\"nombre\": \"Carlos\", \"nota\": 7}, \n",
    "    {\"nombre\": \"Laura\", \"nota\": 4}, \n",
    "    {\"nombre\": \"Pedro\", \"nota\": 9},\n",
    "    {\"nombre\": \"Sofia\", \"nota\": 5}]\n",
    "\n",
    "for diccionario in estudiantes:\n",
    "    if diccionario['nota'] >= 5:\n",
    "        print(f'El/la estudiante {diccionario[\"nombre\"]} ha aprobado') # Importante usar distinto tipo de comillas o da error"
   ]
  },
  {
   "cell_type": "code",
   "execution_count": null,
   "id": "e305eaaf",
   "metadata": {},
   "outputs": [],
   "source": []
  }
 ],
 "metadata": {
  "kernelspec": {
   "display_name": "data_analysis_env",
   "language": "python",
   "name": "python3"
  },
  "language_info": {
   "codemirror_mode": {
    "name": "ipython",
    "version": 3
   },
   "file_extension": ".py",
   "mimetype": "text/x-python",
   "name": "python",
   "nbconvert_exporter": "python",
   "pygments_lexer": "ipython3",
   "version": "3.11.11"
  }
 },
 "nbformat": 4,
 "nbformat_minor": 5
}
