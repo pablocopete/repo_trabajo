{
 "cells": [
  {
   "cell_type": "markdown",
   "metadata": {},
   "source": [
    "![imagen](./img/ejercicios.png)"
   ]
  },
  {
   "cell_type": "markdown",
   "metadata": {},
   "source": [
    "# Ejercicios funciones\n",
    "## Ejercicio 1\n",
    "Escribe una función que convierta números del 1 al 7 en nombres de los dias de la semana. La función constará de un único argumento numérico y una salida de tipo string"
   ]
  },
  {
   "cell_type": "code",
   "execution_count": 2,
   "metadata": {},
   "outputs": [
    {
     "name": "stdout",
     "output_type": "stream",
     "text": [
      "viernes\n"
     ]
    }
   ],
   "source": [
    "def convertir(numero):\n",
    "    my_dict = {\n",
    "        1: 'lunes',\n",
    "        2: 'martes',\n",
    "        3: 'miércoles',\n",
    "        4: 'jueves',\n",
    "        5: 'viernes',\n",
    "        6: 'sábado',\n",
    "        7: 'domingo'\n",
    "    }\n",
    "\n",
    "    dia = my_dict[numero]\n",
    "    return dia\n",
    "\n",
    "print(convertir(5))"
   ]
  },
  {
   "cell_type": "markdown",
   "metadata": {},
   "source": [
    "## Ejercicio 2\n",
    "En el ejercicio 8 de flujos de control, creábamos una pirámide invertida de números desde el 5. Crea una función que replique el comportamiento de la pirámide, y utiliza un único parámetro de entrada de la función para determinar el número de filas de la pirámide."
   ]
  },
  {
   "cell_type": "code",
   "execution_count": 10,
   "metadata": {},
   "outputs": [
    {
     "name": "stdout",
     "output_type": "stream",
     "text": [
      "20 19 18 17 16 15 14 13 12 11 10 9 8 7 6 5 4 3 2 1\n",
      "19 18 17 16 15 14 13 12 11 10 9 8 7 6 5 4 3 2 1\n",
      "18 17 16 15 14 13 12 11 10 9 8 7 6 5 4 3 2 1\n",
      "17 16 15 14 13 12 11 10 9 8 7 6 5 4 3 2 1\n",
      "16 15 14 13 12 11 10 9 8 7 6 5 4 3 2 1\n",
      "15 14 13 12 11 10 9 8 7 6 5 4 3 2 1\n",
      "14 13 12 11 10 9 8 7 6 5 4 3 2 1\n",
      "13 12 11 10 9 8 7 6 5 4 3 2 1\n",
      "12 11 10 9 8 7 6 5 4 3 2 1\n",
      "11 10 9 8 7 6 5 4 3 2 1\n",
      "10 9 8 7 6 5 4 3 2 1\n",
      "9 8 7 6 5 4 3 2 1\n",
      "8 7 6 5 4 3 2 1\n",
      "7 6 5 4 3 2 1\n",
      "6 5 4 3 2 1\n",
      "5 4 3 2 1\n",
      "4 3 2 1\n",
      "3 2 1\n",
      "2 1\n",
      "1\n"
     ]
    }
   ],
   "source": [
    "def piramide(n_filas):\n",
    "    my_list = list(range(n_filas, 0, -1))\n",
    "\n",
    "    my_str = ' '.join(str(numero) for numero in my_list)\n",
    "    \n",
    "    for i in range(n_filas):\n",
    "        print(my_str)\n",
    "        index = my_str.find(' ')\n",
    "        my_str = my_str[index+1:]\n",
    "        i += 1\n",
    "    return\n",
    "\n",
    "piramide(20)\n"
   ]
  },
  {
   "cell_type": "markdown",
   "metadata": {},
   "source": [
    "## Ejercicio 3\n",
    "Escribe una función que compare dos números. La función tiene dos argumentos y hay tres salidas posibles: que sean iguales, que el primero sea  mayor que el segundo, o que el segundo sea mayor que el primero"
   ]
  },
  {
   "cell_type": "code",
   "execution_count": 13,
   "metadata": {},
   "outputs": [
    {
     "name": "stdout",
     "output_type": "stream",
     "text": [
      "El segundo número es mayor\n"
     ]
    }
   ],
   "source": [
    "def mayor_menor (n_1, n_2):\n",
    "\n",
    "    if n_1 > n_2:\n",
    "        print('El primer número es mayor')\n",
    "    elif n_2 > n_1:\n",
    "        print('El segundo número es mayor')\n",
    "    else:\n",
    "        print('Son iguales')\n",
    "\n",
    "mayor_menor(5, 7)"
   ]
  },
  {
   "attachments": {},
   "cell_type": "markdown",
   "metadata": {},
   "source": [
    "## Ejercicio 4\n",
    "Escribe una función que sea un contador de letras. En el primer argumento tienes que introducir un texto, y el segundo que sea una letra que contar. La función tiene que devolver un entero con el número de veces que aparece esa letra, tanto mayúscula, como minúscula"
   ]
  },
  {
   "cell_type": "code",
   "execution_count": 20,
   "metadata": {},
   "outputs": [
    {
     "name": "stdout",
     "output_type": "stream",
     "text": [
      "6\n"
     ]
    }
   ],
   "source": [
    "def contar_letras(frase, letra):\n",
    "    n_veces = frase.lower().count(letra.lower())\n",
    "    return n_veces\n",
    "\n",
    "print(contar_letras('En un lugar de la Mancha de cuyo nombre no quiero acordarme', 'e'))"
   ]
  },
  {
   "cell_type": "markdown",
   "metadata": {},
   "source": [
    "## Ejercicio 5\n",
    "Escribe una función que tenga un único argumento, un string. La salida de la función tiene que ser un diccionario con el conteo de todas las letras de ese string, siendo la clave la letra y el valor el conteo."
   ]
  },
  {
   "cell_type": "code",
   "execution_count": 37,
   "metadata": {},
   "outputs": [
    {
     "name": "stdout",
     "output_type": "stream",
     "text": [
      "{'e': 3, 'o': 3, 'y': 1, 't': 1, 'a': 4, 'f': 1, 'j': 1, 'm': 2, 'r': 3, 'd': 1, 'v': 1, 'c': 2, 'í': 2, 'i': 3, 'p': 1, 'é': 2, 'n': 3}\n"
     ]
    }
   ],
   "source": [
    "def dict_frase(frase):\n",
    "    my_set = set(frase)\n",
    "    my_set.discard(',')\n",
    "    my_set.discard(' ')\n",
    "    my_dict = {}\n",
    "\n",
    "    for character in my_set:\n",
    "        times = frase.count(character)\n",
    "        my_dict.update({character: times})\n",
    "    \n",
    "    return my_dict\n",
    "\n",
    "print(dict_frase('Viajé, amé, perdí, confíe y me traicionaron'.lower()))"
   ]
  },
  {
   "cell_type": "markdown",
   "metadata": {},
   "source": [
    "## Ejercicio 6\n",
    "Escribir una función que añada o elimine elementos en una lista. La función necesita los siguientes argumentos:\n",
    "* lista: la lista donde se añadirán o eliminarán los elementos\n",
    "* comando: \"add\" o \"remove\"\n",
    "* elemento: Por defecto es None.\n",
    "\n",
    "Tendrá como salida la lista"
   ]
  },
  {
   "cell_type": "code",
   "execution_count": 44,
   "metadata": {},
   "outputs": [
    {
     "name": "stdout",
     "output_type": "stream",
     "text": [
      "Comando incorrecto\n"
     ]
    },
    {
     "data": {
      "text/plain": [
       "[5, 'hola', 7]"
      ]
     },
     "execution_count": 44,
     "metadata": {},
     "output_type": "execute_result"
    }
   ],
   "source": [
    "def add_remove(my_list, command, elemento=None):\n",
    "\n",
    "    if elemento != None:\n",
    "        if command == 'add':\n",
    "            my_list.append(elemento)\n",
    "        elif command == 'remove' and (elemento in my_list):\n",
    "            n_veces = my_list.count(elemento)\n",
    "            for i in range(n_veces):\n",
    "                 my_list.remove(elemento)\n",
    "                 i += 1\n",
    "        else:\n",
    "            print('Comando incorrecto')\n",
    "        \n",
    "    return my_list\n",
    "            \n",
    "add_remove([5, 'hola', 7], 'hola', 7)\n"
   ]
  },
  {
   "cell_type": "markdown",
   "metadata": {},
   "source": [
    "## Ejercicio 7\n",
    "Crea una función que reciba un número arbitrario de palabras, y devuelva una frase completa, separando las palabras con espacios."
   ]
  },
  {
   "cell_type": "code",
   "execution_count": 47,
   "metadata": {},
   "outputs": [
    {
     "data": {
      "text/plain": [
       "'Hola Sofía espero que tengas un buen día'"
      ]
     },
     "execution_count": 47,
     "metadata": {},
     "output_type": "execute_result"
    }
   ],
   "source": [
    "def create_sentence(words):\n",
    "    sentence = ' '.join(word for word in words)\n",
    "    return sentence\n",
    "\n",
    "create_sentence(['Hola', 'Sofía', 'espero', 'que', 'tengas', 'un', 'buen', 'día'])"
   ]
  },
  {
   "cell_type": "markdown",
   "metadata": {},
   "source": [
    "## Ejercicio 8\n",
    "Escribe un programa que obtenga el enésimo número de la [serie de Fibonacci](https://es.wikipedia.org/wiki/Sucesi%C3%B3n_de_Fibonacci). Tienes que crear una función recursiva con un único argumento.\n",
    "\n",
    "```Python\n",
    "fibonacci(2) = 1\n",
    "fibonacci(4) = 3\n",
    "fibonacci(5) = 5\n",
    "fibonacci(8) = 21\n",
    "```"
   ]
  },
  {
   "attachments": {},
   "cell_type": "markdown",
   "metadata": {},
   "source": [
    "fibonacci(n) = fibonacci(n-1) + fibonacci(n-2)"
   ]
  },
  {
   "cell_type": "code",
   "execution_count": 66,
   "metadata": {},
   "outputs": [
    {
     "name": "stdout",
     "output_type": "stream",
     "text": [
      "8\n"
     ]
    }
   ],
   "source": [
    "def create_fibonacci(n):\n",
    "    my_list = [0, 1]\n",
    "\n",
    "    if n >= 2:\n",
    "        for i in range(n-2):\n",
    "            my_list.append(my_list[-1] + my_list[-2])\n",
    "            i += 1\n",
    "            \n",
    "    return my_list[n-1]\n",
    "\n",
    "print(create_fibonacci(7))"
   ]
  },
  {
   "attachments": {},
   "cell_type": "markdown",
   "metadata": {},
   "source": [
    "## Ejercicio 9\n",
    "Define en una única celda las siguientes funciones:\n",
    "* Función que calcule el área de un cuadrado\n",
    "* Función que calcule el área de un triángulo\n",
    "* Función que calcule el área de un círculo\n",
    "\n",
    "En otra celda, calcular el area de:\n",
    "* Dos círculos de radio 10 + un triángulo de base 3 y altura 7\n",
    "* Un cuadrado de lado = 10 + 3 círculos (uno de radio = 4 y los otros dos de radio = 6) + 5 triángulos de base = 2 + altura = 4"
   ]
  },
  {
   "cell_type": "code",
   "execution_count": 67,
   "metadata": {},
   "outputs": [],
   "source": [
    "def area_square(l):\n",
    "    return l*l\n",
    "\n",
    "def area_triangle(b, h):\n",
    "    return b*h/2\n",
    "\n",
    "import math\n",
    "def area_circle(r):\n",
    "    return math.pi * r**2"
   ]
  },
  {
   "cell_type": "code",
   "execution_count": 68,
   "metadata": {},
   "outputs": [
    {
     "name": "stdout",
     "output_type": "stream",
     "text": [
      "638.8185307179587 396.46015351590177\n"
     ]
    }
   ],
   "source": [
    "area_total1 = 2*area_circle(10) + area_triangle(3,7)\n",
    "area_total2 = area_square(10) + area_circle(4) + 2*area_circle(6) + 5*area_triangle(2,4)\n",
    "print(area_total1, area_total2)"
   ]
  },
  {
   "cell_type": "markdown",
   "metadata": {},
   "source": [
    "# Importar funciones"
   ]
  },
  {
   "cell_type": "code",
   "execution_count": 69,
   "metadata": {},
   "outputs": [
    {
     "name": "stdout",
     "output_type": "stream",
     "text": [
      "314.1592653589793\n"
     ]
    }
   ],
   "source": [
    "from funciones import area_circle2\n",
    "\n",
    "print(area_circle2(10))"
   ]
  }
 ],
 "metadata": {
  "kernelspec": {
   "display_name": "data_analysis_env",
   "language": "python",
   "name": "python3"
  },
  "language_info": {
   "codemirror_mode": {
    "name": "ipython",
    "version": 3
   },
   "file_extension": ".py",
   "mimetype": "text/x-python",
   "name": "python",
   "nbconvert_exporter": "python",
   "pygments_lexer": "ipython3",
   "version": "3.11.11"
  }
 },
 "nbformat": 4,
 "nbformat_minor": 4
}
