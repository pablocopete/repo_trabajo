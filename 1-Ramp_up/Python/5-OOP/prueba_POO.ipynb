{
 "cells": [
  {
   "cell_type": "code",
   "execution_count": 20,
   "id": "e17009ae",
   "metadata": {},
   "outputs": [],
   "source": [
    "class Instituto:\n",
    "\n",
    "    estudiantes = {'juan': [1,2,4], 'pepe': [5,7,7], 'raul': [9,9,10]}\n",
    "\n",
    "    def stats(self):\n",
    "        \"\"\"\n",
    "        El método stats devuelve la media de cada estudinate (list) y la media global (float)\n",
    "        \"\"\"\n",
    "        media_estudiante = {}\n",
    "        media_curso = 0\n",
    "\n",
    "        for alumno, notas in self.estudiantes.items():\n",
    "            media_estudiante[alumno] = sum(notas)/len(notas)\n",
    "        \n",
    "        media_curso = sum(media_estudiante.values())/len(media_estudiante.values())\n",
    "\n",
    "        return media_estudiante, media_curso\n",
    "    \n",
    "    def porcentaje_aprobados_total(self):\n",
    "        \"\"\"\n",
    "        Devuelve el porcentaje de alumnos que su media es al menos 5\n",
    "        \"\"\"\n",
    "        aprobados, suspendidos = 0, 0\n",
    "\n",
    "        for alumno, notas in self.estudiantes.items():\n",
    "            if sum(notas)/len(notas) >= 5:\n",
    "                aprobados += 1\n",
    "            else:\n",
    "                suspendidos += 1\n",
    "\n",
    "        return (aprobados/(aprobados + suspendidos) * 100)\n",
    "    \n",
    "    def porcentaje_aprobados_eval(self, evaluacion):\n",
    "        \"\"\"\n",
    "        Devuelve el porcentaje de alumnos aprobados en una evaluación concreta. La evaluacion debe ser un int: 1,2 o 3\n",
    "        \"\"\"\n",
    "        aprobados = 0\n",
    "        for alumno, notas in self.estudiantes.items():\n",
    "            if notas[evaluacion-1] >= 5:\n",
    "                aprobados += 1\n",
    "\n",
    "        return(aprobados/len(self.estudiantes.keys()) * 100)\n",
    "    \n",
    "    def cambiar_nota(self, estudiante, nuevas_notas):\n",
    "        \"\"\"\n",
    "        se le pone una nueva nota (las 3) al alumno en cuestion\n",
    "        \"\"\"\n",
    "\n",
    "        self.estudiantes[estudiante.strip().lower()] = nuevas_notas"
   ]
  },
  {
   "cell_type": "code",
   "execution_count": 21,
   "id": "f7527362",
   "metadata": {},
   "outputs": [],
   "source": [
    "\n",
    "mi_insti = Instituto()"
   ]
  },
  {
   "cell_type": "code",
   "execution_count": 26,
   "id": "a51783ac",
   "metadata": {},
   "outputs": [
    {
     "name": "stdout",
     "output_type": "stream",
     "text": [
      "La media de los estudiantes y del curso son: ({'juan': 8.333333333333334, 'pepe': 6.333333333333333, 'raul': 9.333333333333334}, 8.0)\n",
      "Porcentaje aprobados total: 100.0 %\n",
      "Porcentaje aprobados en la evaluacion 1: 100.0 %\n",
      "Notas de juan: [10, 5, 10]\n"
     ]
    }
   ],
   "source": [
    "print(f'La media de los estudiantes y del curso son: {mi_insti.stats()}')\n",
    "print(f'Porcentaje aprobados total: {mi_insti.porcentaje_aprobados_total()} %')\n",
    "eval = 1\n",
    "print(f'Porcentaje aprobados en la evaluacion {eval}: {mi_insti.porcentaje_aprobados_eval(eval)} %')\n",
    "mi_insti.cambiar_nota('juan', [10, 5, 10])\n",
    "print(f'Notas de juan: {mi_insti.estudiantes[\"juan\"]}')\n"
   ]
  },
  {
   "cell_type": "code",
   "execution_count": null,
   "id": "9d93bc27",
   "metadata": {},
   "outputs": [],
   "source": []
  }
 ],
 "metadata": {
  "kernelspec": {
   "display_name": "data_analysis_env",
   "language": "python",
   "name": "python3"
  },
  "language_info": {
   "codemirror_mode": {
    "name": "ipython",
    "version": 3
   },
   "file_extension": ".py",
   "mimetype": "text/x-python",
   "name": "python",
   "nbconvert_exporter": "python",
   "pygments_lexer": "ipython3",
   "version": "3.11.11"
  }
 },
 "nbformat": 4,
 "nbformat_minor": 5
}
