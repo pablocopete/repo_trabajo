{
 "cells": [
  {
   "cell_type": "markdown",
   "metadata": {},
   "source": [
    "![imagen](./img/ejercicios.png)\n",
    "\n",
    "# Ejercicios Clases y Objetos"
   ]
  },
  {
   "attachments": {},
   "cell_type": "markdown",
   "metadata": {},
   "source": [
    "## Ejercicio 1\n",
    "Somos una empresa que tiene varias tiendas de electrodomésticos. Necesitamos un programa para manejar las tiendas, ver las ventas que han tenido, cuántos empleados hay, etc... Para ello vamos a modelizar la tienda en una clase, que tendrá las siguientes características:\n",
    "* Nombre clase: \"Tienda\"\n",
    "* Atributos comunes:\n",
    "    * Tipo: \"Electrodomésticos\"\n",
    "    * Abierta: True\n",
    "* Atributos propios de cada tienda:\n",
    "    * Nombre - String\n",
    "    * Dirección - String\n",
    "    * Número de empleados - int\n",
    "    * Ventas últimos 3 meses - Lista de 3 numeros\n",
    "* Método para calcular las ventas de todos los meses, que devuelva un número con todas las ventas.\n",
    "* Método que calcula la media de ventas de los últimos meses, por empleado\n",
    "* Método que devuelve en un string el nombre de la tienda, junto con su dirección.\n",
    "* Método que obtiene las ventas del último mes.\n",
    "* Método para dar una proyección de las ventas en caso de haber invertido X dinero en marketing en esa tienda. Siendo X el parámetro de entrada. Si X es menor de 1000, las ventas de los ultimos 3 meses hubiesen sido de (1.2 x ventas), si es mayor o igual de 1000, las ventas hubiesen sido de (1.5 x venta). El método reescribe el atributo de ventas en los últimos 3 meses, y además devuelve las ventas con el aumento.\n",
    "\n",
    "Se pide:\n",
    "1. Implementar la clase \"Tienda\"\n",
    "2. Crear tres tiendas con datos inventados\n",
    "3. Comprueba en al menos una de ellas, todo lo implementado en la clase tienda (sus atributos, media de ventas, ventas/empleado...)\n",
    "3. Calcular las ventas del último mes de todas las tiendas. Para ello usa el bucle `for`\n",
    "4. Imprime por pantalla los nombres de las tiendas cuya dirección lleve el string \"Avenida\"\n",
    "5. Seguro que ya has hecho este apartado... Documenta la clase :)"
   ]
  },
  {
   "cell_type": "code",
   "execution_count": 17,
   "metadata": {},
   "outputs": [],
   "source": [
    "class Tienda(object):\n",
    "    tipo = \"Electrodomesticos\"\n",
    "    abierta = True\n",
    "\n",
    "    def __init__(self, nombre, direccion, n_emp, ventas_3m):\n",
    "        self.nombre = nombre\n",
    "        self.direccion = direccion\n",
    "        self.n_emp = n_emp\n",
    "        self.ventas_3m = ventas_3m\n",
    "\n",
    "    def suma_ventas(self):\n",
    "        return sum(self.ventas_3m)\n",
    "    \n",
    "    def media_emp(self):\n",
    "        return self.suma_ventas()/(self.n_emp+0.00000000000000000000000001)\n",
    "    \n",
    "    def stringtodo(self):\n",
    "        return self.direccion + \" \" + self.nombre\n",
    "    def last_ventas(self):\n",
    "        return self.ventas_3m[-1]\n",
    "        \n",
    "    def proyeccion(self, X):\n",
    "        if X < 1000:\n",
    "            incremento = 1.2\n",
    "        else:\n",
    "            incremento = 1.5\n",
    "        \n",
    "        valores_proyectados = []\n",
    "        for numerin in self.ventas_3m:\n",
    "            valores_proyectados.append(numerin*incremento)\n",
    "        \n",
    "        self.ventas_3m = valores_proyectados\n",
    "        return self.ventas_3m\n",
    "\n",
    "    \n"
   ]
  },
  {
   "cell_type": "code",
   "execution_count": 19,
   "metadata": {},
   "outputs": [
    {
     "data": {
      "text/plain": [
       "3"
      ]
     },
     "execution_count": 19,
     "metadata": {},
     "output_type": "execute_result"
    }
   ],
   "source": [
    "tienda = Tienda(\"a\", \"b\", 2, [1,2,3])\n",
    "tienda.last_ventas()"
   ]
  },
  {
   "cell_type": "markdown",
   "metadata": {},
   "source": [
    "1. Implementar la clase \"Tienda\"\n",
    "2. Crear tres tiendas con datos inventados\n",
    "3. Comprueba en al menos una de ellas, todo lo implementado en la clase tienda (sus atributos, media de ventas, ventas/empleado...)\n",
    "3. Calcular las ventas del último mes de todas las tiendas. Para ello usa el bucle `for`\n",
    "4. Imprime por pantalla los nombres de las tiendas cuya dirección lleve el string \"Avenida\"\n",
    "5. Seguro que ya has hecho este apartado... Documenta la clase :)"
   ]
  },
  {
   "cell_type": "code",
   "execution_count": 23,
   "metadata": {},
   "outputs": [],
   "source": [
    "tienda1 = Tienda(\"a\", \"b\", 2, [1,2,3])\n",
    "tienda2 = Tienda(\"c\", \"d\", 3, [1,5,3])\n",
    "tienda3 = Tienda(\"e\", \"f\", 4, [1,6,3])"
   ]
  },
  {
   "cell_type": "code",
   "execution_count": 29,
   "metadata": {},
   "outputs": [
    {
     "name": "stdout",
     "output_type": "stream",
     "text": [
      "a\n"
     ]
    },
    {
     "data": {
      "text/plain": [
       "25"
      ]
     },
     "execution_count": 29,
     "metadata": {},
     "output_type": "execute_result"
    }
   ],
   "source": [
    "venta = 0\n",
    "for tienda in [tienda1, tienda2, tienda3]:\n",
    "    venta += tienda.suma_ventas()\n",
    "    if \"b\" in tienda.direccion:\n",
    "        print(tienda.nombre)\n",
    "venta"
   ]
  },
  {
   "cell_type": "code",
   "execution_count": null,
   "metadata": {},
   "outputs": [],
   "source": [
    "for tienda in "
   ]
  },
  {
   "cell_type": "code",
   "execution_count": null,
   "metadata": {},
   "outputs": [],
   "source": []
  },
  {
   "cell_type": "markdown",
   "metadata": {},
   "source": [
    "## Ejercicio 2\n",
    "En este ejercicio vamos a implementar una clase *Perro* en Python. La clase tiene las siguientes características:\n",
    "* Cosas que sabemos seguro que tiene un perro\n",
    "    * Tiene 4 patas\n",
    "    * 2 orejas\n",
    "    * 2 ojos\n",
    "    * Una velocidad de 0. Por defecto, el perro está parado\n",
    "* Cuando se inicialice:\n",
    "    * El perro será de una determinada raza\n",
    "    * Por defecto tendrá pelo \"Marrón\", a no ser que se diga lo contrario.\n",
    "    * Por defecto no tendrá dueño, a no ser que se diga lo contrario.\n",
    "    \n",
    "* Dispondrá también de un método llamado andar, que tiene un argumento de entrada (aumento_velocidad). Este valor se le sumará a la velocidad que ya llevaba el perro.\n",
    "* Necesita otro método (parar), donde pondremos la velocidad a 0.\n",
    "* Otro método llamado \"ladrar\", que tendrá un argumento de entrada, y la salida será el siguiente string: \"GUAU!\" + el argumento de entrada.\n",
    "\n",
    "\n",
    "Se pide:\n",
    "* Implementa la clase *Perro*\n",
    "* Crea un objeto de tipo *Perro*, sin dueño\n",
    "* Comprueba que están bien todos sus atributos\n",
    "* Prueba que ande, y comprueba su velocidad\n",
    "* Páralo\n",
    "* Documenta la clase *Perro*"
   ]
  },
  {
   "cell_type": "code",
   "execution_count": 30,
   "metadata": {},
   "outputs": [],
   "source": [
    "class Perro:\n",
    "    patas = 4\n",
    "    orejas = 2\n",
    "    ojos = 2\n",
    "    velocidad = 0\n",
    "\n",
    "    def __init__(self, raza, pelo = \"marron\", owner = False):\n",
    "        self.pelo = pelo\n",
    "        self.owner = owner\n",
    "        self.raza = raza\n",
    "\n",
    "    def andar(self, vel):\n",
    "        self.velocidad = self.velocidad + vel\n",
    "\n",
    "    def parar(self):\n",
    "        self.velocidad = 0\n",
    "\n",
    "    def ladrar(self, message):\n",
    "        return f\"Guau!! {message}\"\n",
    "    \n",
    "    \n",
    "\n",
    "\n"
   ]
  },
  {
   "cell_type": "code",
   "execution_count": 32,
   "metadata": {},
   "outputs": [],
   "source": [
    "perro = Perro(\"ghj\", \"vhjk\")"
   ]
  },
  {
   "cell_type": "code",
   "execution_count": 33,
   "metadata": {},
   "outputs": [
    {
     "data": {
      "text/plain": [
       "'Guau!! tuprima'"
      ]
     },
     "execution_count": 33,
     "metadata": {},
     "output_type": "execute_result"
    }
   ],
   "source": [
    "perro.ladrar(\"tuprima\")"
   ]
  },
  {
   "cell_type": "code",
   "execution_count": 43,
   "metadata": {},
   "outputs": [
    {
     "data": {
      "text/plain": [
       "0"
      ]
     },
     "execution_count": 43,
     "metadata": {},
     "output_type": "execute_result"
    }
   ],
   "source": [
    "perro.velocidad"
   ]
  }
 ],
 "metadata": {
  "kernelspec": {
   "display_name": "opencv_environ",
   "language": "python",
   "name": "python3"
  },
  "language_info": {
   "codemirror_mode": {
    "name": "ipython",
    "version": 3
   },
   "file_extension": ".py",
   "mimetype": "text/x-python",
   "name": "python",
   "nbconvert_exporter": "python",
   "pygments_lexer": "ipython3",
   "version": "3.9.19"
  }
 },
 "nbformat": 4,
 "nbformat_minor": 4
}
