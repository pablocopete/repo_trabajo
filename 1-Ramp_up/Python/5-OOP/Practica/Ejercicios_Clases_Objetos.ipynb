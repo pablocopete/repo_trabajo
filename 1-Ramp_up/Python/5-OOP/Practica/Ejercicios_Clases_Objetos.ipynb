{
 "cells": [
  {
   "cell_type": "markdown",
   "metadata": {},
   "source": [
    "![imagen](./img/ejercicios.png)\n",
    "\n",
    "# Ejercicios Clases y Objetos"
   ]
  },
  {
   "attachments": {},
   "cell_type": "markdown",
   "metadata": {},
   "source": [
    "## Ejercicio 1\n",
    "Somos una empresa que tiene varias tiendas de electrodomésticos. Necesitamos un programa para manejar las tiendas, ver las ventas que han tenido, cuántos empleados hay, etc... Para ello vamos a modelizar la tienda en una clase, que tendrá las siguientes características:\n",
    "* Nombre clase: \"Tienda\"\n",
    "* Atributos comunes:\n",
    "    * Tipo: \"Electrodomésticos\"\n",
    "    * Abierta: True\n",
    "* Atributos propios de cada tienda:\n",
    "    * Nombre - String\n",
    "    * Dirección - String\n",
    "    * Número de empleados - int\n",
    "    * Ventas últimos 3 meses - Lista de 3 numeros\n",
    "* Método para calcular las ventas de todos los meses, que devuelva un número con todas las ventas.\n",
    "* Método que calcula la media de ventas de los últimos meses, por empleado\n",
    "* Método que devuelve en un string el nombre de la tienda, junto con su dirección.\n",
    "* Método que obtiene las ventas del último mes.\n",
    "* Método para dar una proyección de las ventas en caso de haber invertido X dinero en marketing en esa tienda. Siendo X el parámetro de entrada. Si X es menor de 1000, las ventas de los ultimos 3 meses hubiesen sido de (1.2 x ventas), si es mayor o igual de 1000, las ventas hubiesen sido de (1.5 x venta). El método reescribe el atributo de ventas en los últimos 3 meses, y además devuelve las ventas con el aumento.\n",
    "\n",
    "Se pide:\n",
    "1. Implementar la clase \"Tienda\"\n",
    "2. Crear tres tiendas con datos inventados\n",
    "3. Comprueba en al menos una de ellas, todo lo implementado en la clase tienda (sus atributos, media de ventas, ventas/empleado...)\n",
    "3. Calcular las ventas del último mes de todas las tiendas. Para ello usa el bucle `for`\n",
    "4. Imprime por pantalla los nombres de las tiendas cuya dirección lleve el string \"Avenida\"\n",
    "5. Seguro que ya has hecho este apartado... Documenta la clase :)"
   ]
  },
  {
   "cell_type": "code",
   "execution_count": 25,
   "metadata": {},
   "outputs": [],
   "source": [
    "    class Tienda:\n",
    "        \"\"\"\n",
    "        Clase que representa una tienda de electrodomésticos.\n",
    "\n",
    "        Atributos de clase:\n",
    "            tipo (str): Tipo de tienda (por defecto: 'Electrodomésticos').\n",
    "            abierta (bool): Estado de apertura de la tienda (por defecto: True).\n",
    "        \"\"\"\n",
    "            \n",
    "        tipo = 'Electrodomésticos'\n",
    "        abierta = True\n",
    "\n",
    "        def __init__(self, nombre, direccion, n_empleados, ventas_3_meses):\n",
    "            \"\"\"\n",
    "            Inicializa una nueva instancia de Tienda.\n",
    "\n",
    "            Args:\n",
    "                nombre (str): Nombre de la tienda.\n",
    "                direccion (str): Dirección física de la tienda.\n",
    "                n_empleados (int): Número de empleados en la tienda.\n",
    "                ventas_3_meses (list): Lista con las ventas (números) de los últimos tres meses.\n",
    "            \"\"\"\n",
    "            self.nombre = nombre\n",
    "            self.direccion = direccion\n",
    "            self.n_empleados = n_empleados\n",
    "            self.ventas_3_meses = ventas_3_meses\n",
    "\n",
    "        def ventas_totales(self):\n",
    "            return(sum(self.ventas_3_meses))\n",
    "\n",
    "        def media_ventas_mes_empleado(self):\n",
    "            media = sum(self.ventas_3_meses)/(len(self.ventas_3_meses) * self.n_empleados)\n",
    "            return media\n",
    "        def nombre_direccion(self):\n",
    "            return (f'Tienda: {self.nombre}, {self.direccion}')\n",
    "\n",
    "        def ventas_ultimo_mes(self):\n",
    "            return self.ventas_3_meses[-1]\n",
    "\n",
    "        def proyeccion(self, inversion):\n",
    "            \"\"\"\n",
    "            Proyecta las ventas futuras en función de una inversión.\n",
    "\n",
    "            Si la inversión es menor a 1000, las ventas proyectadas aumentan un 20%.\n",
    "            Si es 1000 o más, las ventas aumentan un 50%.\n",
    "\n",
    "            Args:\n",
    "                inversion (float): Cantidad de dinero invertida.\n",
    "\n",
    "            Returns:\n",
    "                list: Lista con las ventas proyectadas.\n",
    "            \"\"\"\n",
    "\n",
    "            if inversion < 1000:\n",
    "                for i in range(len(self.ventas_3_meses)):\n",
    "                    self.ventas_3_meses[i] = self.ventas_3_meses[i] * 1.2\n",
    "            else:\n",
    "                for i in range(len(self.ventas_3_meses)):\n",
    "                    self.ventas_3_meses[i] = self.ventas_3_meses[i] * 1.5\n",
    "\n",
    "            return self.ventas_3_meses"
   ]
  },
  {
   "cell_type": "code",
   "execution_count": 26,
   "metadata": {},
   "outputs": [
    {
     "name": "stdout",
     "output_type": "stream",
     "text": [
      "{'nombre': 'Druni', 'direccion': 'C/ Cardenal Benlloch, 5', 'n_empleados': 7, 'ventas_3_meses': [10000, 5000, 8000]}\n",
      "23000\n",
      "1095.2380952380952\n",
      "8000\n",
      "[15000.0, 7500.0, 12000.0]\n",
      "Ventas último mes en Druni: 12000.0\n",
      "Ventas último mes en Mercadona: 8900\n",
      "Ventas último mes en Consum: 3500\n",
      "Ventas totales último mes: 24400.0\n",
      "Tienda: Mercadona, Av. Primado Reig, 8\n",
      "Tienda: Consum, Av. Isabel de Villena, 7\n"
     ]
    }
   ],
   "source": [
    "tienda1 = Tienda('Druni', 'C/ Cardenal Benlloch, 5', 7, [10000, 5000, 8000])\n",
    "tienda2 = Tienda('Mercadona', 'Av. Primado Reig, 8', 10, [5000, 40000, 8900])\n",
    "tienda3 = Tienda('Consum', 'Av. Isabel de Villena, 7', 3, [1000, 4000, 3500])\n",
    "\n",
    "tiendas = [tienda1, tienda2, tienda3]\n",
    "\n",
    "print(tienda1.__dict__)\n",
    "print(tienda1.ventas_totales())\n",
    "print(tienda1.media_ventas_mes_empleado())\n",
    "print(tienda1.ventas_ultimo_mes())\n",
    "print(tienda1.proyeccion(1500))\n",
    "\n",
    "suma = 0\n",
    "for tienda in tiendas:\n",
    "    print(f'Ventas último mes en {tienda.nombre}: {tienda.ventas_ultimo_mes()}')\n",
    "    suma += tienda.ventas_ultimo_mes()\n",
    "print(f'Ventas totales último mes: {suma}')\n",
    "\n",
    "for tienda in tiendas:\n",
    "    if 'Avenida' in tienda.direccion or 'Av.' in tienda.direccion:\n",
    "        print(tienda.nombre_direccion())"
   ]
  },
  {
   "cell_type": "markdown",
   "metadata": {},
   "source": [
    "## Ejercicio 2\n",
    "En este ejercicio vamos a implementar una clase *Perro* en Python. La clase tiene las siguientes características:\n",
    "* Cosas que sabemos seguro que tiene un perro\n",
    "    * Tiene 4 patas\n",
    "    * 2 orejas\n",
    "    * 2 ojos\n",
    "    * Una velocidad de 0. Por defecto, el perro está parado\n",
    "* Cuando se inicialice:\n",
    "    * El perro será de una determinada raza\n",
    "    * Por defecto tendrá pelo \"Marrón\", a no ser que se diga lo contrario.\n",
    "    * Por defecto no tendrá dueño, a no ser que se diga lo contrario.\n",
    "    \n",
    "* Dispondrá también de un método llamado andar, que tiene un argumento de entrada (aumento_velocidad). Este valor se le sumará a la velocidad que ya llevaba el perro.\n",
    "* Necesita otro método (parar), donde pondremos la velocidad a 0.\n",
    "* Otro método llamado \"ladrar\", que tendrá un argumento de entrada, y la salida será el siguiente string: \"GUAU!\" + el argumento de entrada.\n",
    "\n",
    "\n",
    "Se pide:\n",
    "* Implementa la clase *Perro*\n",
    "* Crea un objeto de tipo *Perro*, sin dueño\n",
    "* Comprueba que están bien todos sus atributos\n",
    "* Prueba que ande, y comprueba su velocidad\n",
    "* Páralo\n",
    "* Documenta la clase *Perro*"
   ]
  },
  {
   "cell_type": "code",
   "execution_count": 29,
   "metadata": {},
   "outputs": [],
   "source": [
    "class Perro:\n",
    "    patas = 4\n",
    "    orejas = 2\n",
    "    ojos = 2\n",
    "    velocidad = 0\n",
    "\n",
    "    def  __init__(self, raza, pelo='Marrón', owner=False):\n",
    "        self.raza = raza\n",
    "        self.pelo = pelo\n",
    "        self.owner = owner\n",
    "\n",
    "    def andar(self, increment):\n",
    "        self.velocidad += increment\n",
    "\n",
    "    def parar(self):\n",
    "        self.velocidad = 0\n",
    "\n",
    "    def ladrar(self, sentence):\n",
    "        return ('GUAU!' + sentence)\n"
   ]
  },
  {
   "cell_type": "code",
   "execution_count": 32,
   "metadata": {},
   "outputs": [
    {
     "name": "stdout",
     "output_type": "stream",
     "text": [
      "{'raza': 'Golden', 'pelo': 'negro', 'owner': False}\n",
      "10\n",
      "0\n"
     ]
    },
    {
     "data": {
      "text/plain": [
       "'GUAU!tuprima'"
      ]
     },
     "execution_count": 32,
     "metadata": {},
     "output_type": "execute_result"
    }
   ],
   "source": [
    "perro1 = Perro('Golden', 'negro')\n",
    "print(perro1.__dict__)\n",
    "perro1.andar(10)\n",
    "print(perro1.velocidad)\n",
    "perro1.parar()\n",
    "print(perro1.velocidad)\n",
    "perro1.ladrar('tuprima')"
   ]
  }
 ],
 "metadata": {
  "kernelspec": {
   "display_name": "data_analysis_env",
   "language": "python",
   "name": "python3"
  },
  "language_info": {
   "codemirror_mode": {
    "name": "ipython",
    "version": 3
   },
   "file_extension": ".py",
   "mimetype": "text/x-python",
   "name": "python",
   "nbconvert_exporter": "python",
   "pygments_lexer": "ipython3",
   "version": "3.11.11"
  }
 },
 "nbformat": 4,
 "nbformat_minor": 4
}
