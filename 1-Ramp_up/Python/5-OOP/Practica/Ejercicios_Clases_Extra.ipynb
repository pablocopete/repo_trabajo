{
 "cells": [
  {
   "cell_type": "markdown",
   "metadata": {},
   "source": [
    "## Ejercicio 3\n",
    "Vamos a crear una clase para representar una biblioteca. La clase debe permitir gestionar libros y su disponibilidad.\n",
    "\n",
    "* Nombre de la clase: \"Biblioteca\"\n",
    "* Atributos comunes:\n",
    "    * Tipo: \"Pública\"\n",
    "    * Horario: \"09:00 - 20:00\"\n",
    "* Atributos propios de cada biblioteca:\n",
    "    * Nombre - String\n",
    "    * Dirección - String\n",
    "    * Lista de libros disponibles - Lista de strings\n",
    "    * Lista de libros prestados - Lista de strings\n",
    "* Método para añadir un libro a la lista de disponibles\n",
    "* Método para prestar un libro, que lo elimine de la lista de disponibles y lo añada a la de prestados\n",
    "* Método para devolver un libro, que lo elimine de la lista de prestados y lo añada a la de disponibles\n",
    "* Método que imprime el nombre de la biblioteca y su dirección\n",
    "* Método que devuelve la cantidad total de libros en la biblioteca (sumando disponibles y prestados)\n",
    "\n",
    "Se pide:\n",
    "1. Implementar la clase \"Biblioteca\"\n",
    "2. Crear dos bibliotecas con datos inventados\n",
    "3. Añadir libros y prestar algunos de ellos\n",
    "4. Verificar la cantidad total de libros en ambas bibliotecas\n",
    "5. Imprimir el nombre y dirección de todas las bibliotecas que contengan la palabra \"Central\"\n"
   ]
  },
  {
   "cell_type": "code",
   "execution_count": 2,
   "metadata": {},
   "outputs": [],
   "source": [
    "class Biblioteca:\n",
    "\n",
    "    tipo = 'Pública'\n",
    "    horario = '09:00 - 20:00'\n",
    "\n",
    "    def __init__(self, nombre, direccion, libros_disponibles, libros_prestados):\n",
    "        self.nombre = nombre\n",
    "        self.direccion = direccion\n",
    "        self.libros_disponibles = libros_disponibles\n",
    "        self.libros_prestados = libros_prestados\n",
    "\n",
    "    def add_disponibles(self, libro):\n",
    "        self.libros_disponibles.append(libro)\n",
    "\n",
    "    def prestar_libro (self, libro):\n",
    "        if libro in self.libros_disponibles:\n",
    "            self.libros_disponibles.remove(libro)\n",
    "            self.libros_prestados.append(libro)\n",
    "        else:\n",
    "            if libro in self.libros_prestados:\n",
    "                print('Lo sentimo, el libro se encuentra prestado')\n",
    "            else:\n",
    "                print('Lo sentimos, no disponemos del libro')\n",
    "\n",
    "    def devolucion (self, libro):\n",
    "        if libro in self.libros_prestados:\n",
    "            self.libros_prestados.remove(libro)\n",
    "            self.libros_disponibles.append(libro)\n",
    "        else:\n",
    "            print('Este libro no pertenece a esta biblioteca')\n",
    "\n",
    "    def nombre_direccion (self):\n",
    "        print(f'{self.nombre}, {self.direccion}')\n",
    "\n",
    "    def libros_totales(self):\n",
    "        return(len(self.libros_disponibles) + len(self.libros_prestados))"
   ]
  },
  {
   "cell_type": "code",
   "execution_count": 12,
   "metadata": {},
   "outputs": [
    {
     "name": "stdout",
     "output_type": "stream",
     "text": [
      "['Don Quijote', 'La Constitución Española', 'Por qué fracasan los países', '1984', 'El Quijote'] \n",
      " ['Rebelión en la Granja', 'El Quijote', 'Tiranr lo Blanch', 'El Nombre del Viento']\n",
      "16\n",
      "Benetússer Central, C/ Serpis, 3\n"
     ]
    }
   ],
   "source": [
    "bib_1 = Biblioteca('Alaquas', 'C/ Cardenal Benlloch, 5', \n",
    "                   ['Don Quijote', 'El Nombre del Viento', 'La Constitución Española', 'Por qué fracasan los países', '1984'],\n",
    "                   ['Rebelión en la Granja', 'El Quijote', 'Tiranr lo Blanch'])\n",
    "\n",
    "bib_2 = Biblioteca('Benetússer Central', 'C/ Serpis, 3', \n",
    "                   ['Don Quijote', 'La Constitución Española', 'El Camino de los Reyes', '100 Años de Soledad'],\n",
    "                   ['Rebelión en la Granja', 'La Casa de los Espíritus', 'Tiranr lo Blanch'])\n",
    "\n",
    "bib_1.add_disponibles('El Quijote')\n",
    "bib_1.prestar_libro('El Nombre del Viento')\n",
    "print(bib_1.libros_disponibles, '\\n',bib_1.libros_prestados)\n",
    "print(bib_1.libros_totales() + bib_2.libros_totales())\n",
    "\n",
    "bibliotecas = [bib_1, bib_2]\n",
    "for biblioteca in bibliotecas:\n",
    "    if 'Central' in biblioteca.nombre:\n",
    "        biblioteca.nombre_direccion()"
   ]
  },
  {
   "cell_type": "markdown",
   "metadata": {},
   "source": [
    "\n",
    "## Ejercicio 4\n",
    "Vamos a modelar un vehículo que se puede alquilar, como en una empresa de alquiler de coches.\n",
    "\n",
    "* Nombre de la clase: \"VehículoAlquiler\"\n",
    "* Atributos comunes:\n",
    "    * Disponible: True\n",
    "* Atributos propios de cada vehículo:\n",
    "    * Marca - String\n",
    "    * Modelo - String\n",
    "    * Año - int\n",
    "    * Kilometraje - float\n",
    "* Método para alquilar el vehículo, que cambie el atributo `Disponible` a False\n",
    "* Método para devolver el vehículo, que cambie `Disponible` a True y aumente el kilometraje con el valor que se pasa como argumento\n",
    "* Método para obtener la descripción del vehículo (marca, modelo y año)\n",
    "* Método que calcula el precio del alquiler según los kilómetros recorridos, con una tarifa fija de 0.50€/km\n",
    "\n",
    "Se pide:\n",
    "1. Implementar la clase \"VehículoAlquiler\"\n",
    "2. Crear tres vehículos y alquilar dos de ellos\n",
    "3. Devolver uno de los vehículos con un kilometraje añadido\n",
    "4. Imprimir la descripción de todos los vehículos disponibles\n",
    "5. Calcular el precio del alquiler de uno de los vehículos devueltos\n"
   ]
  },
  {
   "cell_type": "code",
   "execution_count": 15,
   "metadata": {},
   "outputs": [],
   "source": [
    "class VehiculoAlquiler:\n",
    "\n",
    "    disponible = True\n",
    "\n",
    "    def __init__(self, marca, modelo, year, odometer):\n",
    "        self.marca = marca\n",
    "        self.modelo = modelo\n",
    "        self.year = year\n",
    "        self.odometer = odometer\n",
    "\n",
    "    def alquilar(self):\n",
    "        self.disponible = False\n",
    "    \n",
    "    def devolucion(self, km):\n",
    "        self.disponible = True\n",
    "        self.odometer += km\n",
    "\n",
    "    def descripcion(self):\n",
    "        return (f'Modelo: {self.modelo} \\nMarca: {self.marca} \\nAño: {self.year}')\n",
    "    \n",
    "    def precio_alquiler(self, km):\n",
    "        precio = 0.5*km\n",
    "        return precio\n",
    "    "
   ]
  },
  {
   "cell_type": "code",
   "execution_count": 20,
   "metadata": {},
   "outputs": [
    {
     "name": "stdout",
     "output_type": "stream",
     "text": [
      "[{'marca': 'Ford', 'modelo': 'Escort', 'year': 1996, 'odometer': 100450.5, 'disponible': True}, {'marca': 'Ford', 'modelo': 'Focus', 'year': 2008, 'odometer': 5200.78, 'disponible': False}, {'marca': 'Seat', 'modelo': 'León', 'year': 2010, 'odometer': 8000.54}]\n",
      "100.175\n"
     ]
    }
   ],
   "source": [
    "cars=[VehiculoAlquiler('Ford', 'Escort', 1996, 100000.5),\n",
    "      VehiculoAlquiler('Ford', 'Focus', 2008, 5200.78),\n",
    "      VehiculoAlquiler('Seat', 'León', 2010, 8000.54)]\n",
    "\n",
    "cars[0].alquilar(), cars[1].alquilar()\n",
    "cars[0].devolucion(450.0)\n",
    "print([coche.__dict__ for coche in cars])\n",
    "print(cars[2].precio_alquiler(200.35))\n"
   ]
  },
  {
   "cell_type": "markdown",
   "metadata": {},
   "source": [
    "\n",
    "## Ejercicio 5\n",
    "Vamos a modelar un sistema de gestión de cursos para una plataforma educativa.\n",
    "\n",
    "* Nombre de la clase: \"Curso\"\n",
    "* Atributos comunes:\n",
    "    * Modalidad: \"Online\"\n",
    "* Atributos propios de cada curso:\n",
    "    * Nombre - String\n",
    "    * Profesor - String\n",
    "    * Número de lecciones - int\n",
    "    * Estudiantes inscritos - Lista de strings (nombres de los estudiantes)\n",
    "* Método para inscribir un estudiante, que añade un nombre a la lista de inscritos\n",
    "* Método para calcular el número total de estudiantes inscritos\n",
    "* Método que imprime un resumen del curso con su nombre y profesor\n",
    "* Método para cambiar al profesor del curso\n",
    "\n",
    "Se pide:\n",
    "1. Implementar la clase \"Curso\"\n",
    "2. Crear dos cursos con información inventada\n",
    "3. Inscribir a algunos estudiantes en cada curso\n",
    "4. Cambiar el profesor de uno de los cursos\n",
    "5. Imprimir el resumen de todos los cursos con más de 3 estudiantes inscritos\n"
   ]
  },
  {
   "cell_type": "code",
   "execution_count": 30,
   "metadata": {},
   "outputs": [],
   "source": [
    "class Curso:\n",
    "\n",
    "    modalidad = 'Online'\n",
    "\n",
    "    def __init__(self, nombre, profesor, n_lecciones, estudiantes):\n",
    "        self.nombre = nombre\n",
    "        self.profesor = profesor\n",
    "        self.n_lecciones = n_lecciones\n",
    "        self.estudiantes = estudiantes\n",
    "        self.n_estudiantes = len(estudiantes)\n",
    "\n",
    "    def inscribir(self, estudiante):\n",
    "        string_check = ''.join(self.estudiantes)\n",
    "        n_veces = string_check.count(estudiante)\n",
    "        # Si no uso el string y compruebo if estudiante in self.estudiantes, solo escribe Monica1, no Monica2\n",
    "        if n_veces == 0:\n",
    "            self.estudiantes.append(estudiante)\n",
    "        else:\n",
    "            self.estudiantes.append(estudiante + str(n_veces))\n",
    "            \n",
    "\n",
    "        self.n_estudiantes += 1\n",
    "        \n",
    "    def total_estudiantes(self):\n",
    "        return self.n_estudiantes\n",
    "    \n",
    "    def resumen(self):\n",
    "        print(f'Imprimiendo resumen del curso: \\nCurso: {self.nombre} \\nProfesor: {self.profesor}')\n",
    "\n",
    "    def cambiar_profesor(self, nuevo_profesor):\n",
    "        self.profesor = nuevo_profesor\n"
   ]
  },
  {
   "cell_type": "code",
   "execution_count": 31,
   "metadata": {},
   "outputs": [
    {
     "name": "stdout",
     "output_type": "stream",
     "text": [
      "['Pablo', 'Maxi', 'Omar', 'Tomás', 'Marcos', 'Monica', 'Monica1', 'Monica2']\n",
      "Imprimiendo resumen del curso: \n",
      "Curso: Data Science \n",
      "Profesor: Jose Luís\n"
     ]
    }
   ],
   "source": [
    "cursos = [\n",
    "    Curso('Data Science', 'Jose Luís', 20, ['Pablo', 'Maxi', 'Omar', 'Tomás', 'Marcos']),\n",
    "    Curso('Cibersegurida', 'Niky', 50, ['Rebeca', 'Alejandro', 'Yair'])\n",
    "]\n",
    "\n",
    "cursos[0].inscribir('Monica')\n",
    "cursos[0].inscribir('Monica')\n",
    "cursos[0].inscribir('Monica')\n",
    "print(cursos[0].estudiantes)\n",
    "cursos[1].cambiar_profesor('Raúl')\n",
    "for curso in cursos:\n",
    "    if curso.n_estudiantes > 3: \n",
    "        curso.resumen()"
   ]
  },
  {
   "cell_type": "markdown",
   "metadata": {},
   "source": [
    "\n",
    "## Ejercicio 6\n",
    "Vamos a crear una clase para modelar una cuenta bancaria.\n",
    "\n",
    "* Nombre de la clase: \"CuentaBancaria\"\n",
    "* Atributos comunes:\n",
    "    * Moneda: \"EUR\"\n",
    "* Atributos propios de cada cuenta:\n",
    "    * Número de cuenta - String\n",
    "    * Titular - String\n",
    "    * Saldo - float\n",
    "* Método para realizar un depósito, que aumente el saldo con un valor pasado como argumento\n",
    "* Método para retirar una cantidad, que disminuya el saldo si hay fondos suficientes, sino devuelve un mensaje indicando falta de fondos\n",
    "* Método para obtener el saldo actual\n",
    "* Método para transferir dinero a otra cuenta (pasada como argumento), que disminuya el saldo si hay fondos suficientes y aumente el saldo de la cuenta destino\n",
    "\n",
    "Se pide:\n",
    "1. Implementar la clase \"CuentaBancaria\"\n",
    "2. Crear dos cuentas con información inventada\n",
    "3. Realizar depósitos y retirar dinero de las cuentas\n",
    "4. Transferir dinero de una cuenta a otra\n",
    "5. Imprimir el saldo de ambas cuentas después de la transferencia\n"
   ]
  },
  {
   "cell_type": "code",
   "execution_count": 38,
   "metadata": {},
   "outputs": [],
   "source": [
    "class CuentaBancaria:\n",
    "    \n",
    "    moneda = 'EUR'\n",
    "\n",
    "    def __init__(self, n_cuenta, titular, saldo):\n",
    "        self.n_cuenta = n_cuenta\n",
    "        self.titualr = titular\n",
    "        self.saldo = saldo\n",
    "\n",
    "    def ingresar(self, ingreso):\n",
    "        self.saldo += ingreso\n",
    "\n",
    "    def retirar(self, cantidad):\n",
    "        if cantidad <= self.saldo:\n",
    "            self.saldo -= cantidad\n",
    "        else:\n",
    "            print('No tienes saldo suficiente')\n",
    "\n",
    "    def obtener_saldo(self):\n",
    "        print(self.saldo)\n",
    "    \n",
    "    def transferencia(self, cantidad, destino):\n",
    "        if cantidad <= self.saldo:\n",
    "            self.saldo -= cantidad\n",
    "            destino.saldo += cantidad\n",
    "        else:\n",
    "            print('No tienes fondos suficientes')"
   ]
  },
  {
   "cell_type": "code",
   "execution_count": 40,
   "metadata": {},
   "outputs": [
    {
     "name": "stdout",
     "output_type": "stream",
     "text": [
      "[{'n_cuenta': '101', 'titualr': 'Pablo', 'saldo': 1300}, {'n_cuenta': '102', 'titualr': 'Christian', 'saldo': 2000}]\n",
      "1600\n",
      "1700\n"
     ]
    }
   ],
   "source": [
    "cuentas = [\n",
    "    CuentaBancaria('101', 'Pablo', 1500),\n",
    "    CuentaBancaria('102', 'Christian', 2000)\n",
    "]\n",
    "\n",
    "cuentas[0].ingresar(1000)\n",
    "cuentas[0].retirar(1200)\n",
    "print([cuenta.__dict__ for cuenta in cuentas])\n",
    "cuentas[1].transferencia(300, cuentas[0])\n",
    "cuentas[0].obtener_saldo()\n",
    "cuentas[1].obtener_saldo()\n"
   ]
  }
 ],
 "metadata": {
  "kernelspec": {
   "display_name": "data_analysis_env",
   "language": "python",
   "name": "python3"
  },
  "language_info": {
   "codemirror_mode": {
    "name": "ipython",
    "version": 3
   },
   "file_extension": ".py",
   "mimetype": "text/x-python",
   "name": "python",
   "nbconvert_exporter": "python",
   "pygments_lexer": "ipython3",
   "version": "3.11.11"
  }
 },
 "nbformat": 4,
 "nbformat_minor": 2
}
