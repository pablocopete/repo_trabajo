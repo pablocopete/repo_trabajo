{
 "cells": [
  {
   "cell_type": "markdown",
   "metadata": {},
   "source": [
    "![imagen](./img/ejercicios.png)"
   ]
  },
  {
   "cell_type": "markdown",
   "metadata": {},
   "source": [
    "## Ejercicio 1\n",
    "1. Crea un array que vaya del 0 al 9 y que se llame `my_array`\n",
    "2. Imprime por pantalla los elementos [9 7 5 3 1] en ese orden."
   ]
  },
  {
   "cell_type": "code",
   "execution_count": 3,
   "metadata": {},
   "outputs": [],
   "source": [
    "import numpy as np"
   ]
  },
  {
   "cell_type": "code",
   "execution_count": 4,
   "metadata": {},
   "outputs": [
    {
     "name": "stdout",
     "output_type": "stream",
     "text": [
      "[0 1 2 3 4 5 6 7 8 9]\n",
      "[9 7 5 3 1]\n"
     ]
    }
   ],
   "source": [
    "my_array = np.arange(0, 10, 1)\n",
    "print(my_array)\n",
    "print(my_array[9 : 0 :-2])"
   ]
  },
  {
   "cell_type": "markdown",
   "metadata": {},
   "source": [
    "## Ejercicio 2\n",
    "Imprime por pantalla la secuencia [8 7] del array `my_array`"
   ]
  },
  {
   "cell_type": "code",
   "execution_count": 5,
   "metadata": {},
   "outputs": [
    {
     "name": "stdout",
     "output_type": "stream",
     "text": [
      "[8 7]\n",
      "[8 7]\n"
     ]
    }
   ],
   "source": [
    "print(my_array[-2: -4 : -1])\n",
    "print(my_array[[8,7]])"
   ]
  },
  {
   "cell_type": "markdown",
   "metadata": {},
   "source": [
    "## Ejercicio 3\n",
    "Imprime por pantalla la secuencia [2 1 0] de `my_array`"
   ]
  },
  {
   "cell_type": "code",
   "execution_count": 15,
   "metadata": {},
   "outputs": [
    {
     "name": "stdout",
     "output_type": "stream",
     "text": [
      "[2 1 0]\n"
     ]
    }
   ],
   "source": [
    "print(my_array[2 :  : -1])"
   ]
  },
  {
   "cell_type": "markdown",
   "metadata": {},
   "source": [
    "## Ejercicio 4\n",
    "1. Crea una matriz de 4x5, con una secuencia del 1 al 20\n",
    "2. Invierte totalmente la matriz. Tanto las filas, como las columnas"
   ]
  },
  {
   "cell_type": "code",
   "execution_count": 7,
   "metadata": {},
   "outputs": [
    {
     "name": "stdout",
     "output_type": "stream",
     "text": [
      "[[ 1  2  3  4  5]\n",
      " [ 6  7  8  9 10]\n",
      " [11 12 13 14 15]\n",
      " [16 17 18 19 20]]\n",
      "[[20 19 18 17 16]\n",
      " [15 14 13 12 11]\n",
      " [10  9  8  7  6]\n",
      " [ 5  4  3  2  1]]\n"
     ]
    }
   ],
   "source": [
    "my_matrix = np.arange(1,21).reshape((4,5))\n",
    "print(my_matrix)\n",
    "print(my_matrix[::-1, ::-1])"
   ]
  },
  {
   "cell_type": "markdown",
   "metadata": {},
   "source": [
    "## Ejercicio 5\n",
    "\n",
    "Obtén el siguiente array, partiendo de la matriz del ejercicio 4\n",
    "```Python\n",
    "array([[1, 2],\n",
    "       [6, 7]])\n",
    "```"
   ]
  },
  {
   "cell_type": "code",
   "execution_count": 31,
   "metadata": {},
   "outputs": [
    {
     "name": "stdout",
     "output_type": "stream",
     "text": [
      "[[1 2]\n",
      " [6 7]]\n"
     ]
    }
   ],
   "source": [
    "print(my_matrix[0:2, 0:2])"
   ]
  },
  {
   "cell_type": "markdown",
   "metadata": {},
   "source": [
    "## Ejercicio 6\n",
    "Obtén el siguiente array, partiendo de la matriz del ejercicio 4\n",
    "```Python\n",
    "array([[ 1,  3,  5],\n",
    "       [11, 13, 15]])\n",
    "```"
   ]
  },
  {
   "cell_type": "code",
   "execution_count": 32,
   "metadata": {},
   "outputs": [
    {
     "name": "stdout",
     "output_type": "stream",
     "text": [
      "[[ 1  3  5]\n",
      " [11 13 15]]\n"
     ]
    }
   ],
   "source": [
    "print(my_matrix[0:3:2, 0::2])"
   ]
  },
  {
   "cell_type": "markdown",
   "metadata": {},
   "source": [
    "## Ejercicio 7\n",
    "Obtén el siguiente array, partiendo de la matriz del ejercicio 4\n",
    "```Python\n",
    "array([[ 5,  4,  3,  2,  1],\n",
    "       [10,  9,  8,  7,  6],\n",
    "       [15, 14, 13, 12, 11]])\n",
    "```"
   ]
  },
  {
   "cell_type": "code",
   "execution_count": 35,
   "metadata": {},
   "outputs": [
    {
     "name": "stdout",
     "output_type": "stream",
     "text": [
      "[[ 5  4  3  2  1]\n",
      " [10  9  8  7  6]\n",
      " [15 14 13 12 11]]\n"
     ]
    }
   ],
   "source": [
    "print(my_matrix[0:-1, -1::-1])"
   ]
  },
  {
   "cell_type": "markdown",
   "metadata": {},
   "source": [
    "## Ejercicio 8\n",
    "Dado el siguiente array:\n",
    "\n",
    "```Python\n",
    "x = np.array([\"Loro\", \"Perro\", \"Gato\", \"Loro\", \"Perro\"])\n",
    "```\n",
    "\n",
    "Filtra el array para quedarte únicamente con los loros.\n",
    "\n",
    "Resuélvelo de dos maneras diferentes"
   ]
  },
  {
   "cell_type": "code",
   "execution_count": 10,
   "metadata": {},
   "outputs": [
    {
     "name": "stdout",
     "output_type": "stream",
     "text": [
      "['Loro' 'Loro']\n",
      "['Loro' 'Loro']\n"
     ]
    }
   ],
   "source": [
    "x = np.array([\"Loro\", \"Perro\", \"Gato\", \"Loro\", \"Perro\"])\n",
    "\n",
    "# Manera numero 1:\n",
    "print(x[0: :3])\n",
    "\n",
    "# Manera numero 2:\n",
    "print(x[x == 'Loro'])"
   ]
  },
  {
   "cell_type": "code",
   "execution_count": 13,
   "metadata": {},
   "outputs": [
    {
     "name": "stdout",
     "output_type": "stream",
     "text": [
      "['Loro' 'Loro']\n"
     ]
    }
   ],
   "source": [
    "mask = x == 'Loro'\n",
    "print(x[mask])"
   ]
  },
  {
   "cell_type": "markdown",
   "metadata": {},
   "source": [
    "## Ejercicio 9\n",
    "Crea una secuencia de 20 elementos y transformala en un array compuesto por 2 matrices de 5x2"
   ]
  },
  {
   "cell_type": "code",
   "execution_count": 43,
   "metadata": {},
   "outputs": [
    {
     "name": "stdout",
     "output_type": "stream",
     "text": [
      "[ 1.  2.  3.  4.  5.  6.  7.  8.  9. 10. 11. 12. 13. 14. 15. 16. 17. 18.\n",
      " 19. 20.]\n",
      "[[[ 1.  2.]\n",
      "  [ 3.  4.]\n",
      "  [ 5.  6.]\n",
      "  [ 7.  8.]\n",
      "  [ 9. 10.]]\n",
      "\n",
      " [[11. 12.]\n",
      "  [13. 14.]\n",
      "  [15. 16.]\n",
      "  [17. 18.]\n",
      "  [19. 20.]]]\n"
     ]
    }
   ],
   "source": [
    "#np.linspace??\n",
    "my_sequence = np.linspace(1, 20, 20)\n",
    "print(my_sequence)\n",
    "my_sequence = my_sequence.reshape((2, 5, 2))\n",
    "print(my_sequence)"
   ]
  },
  {
   "cell_type": "markdown",
   "metadata": {},
   "source": [
    "## Ejercicio 10\n",
    "Obtén el siguiente array, partiendo de la matriz del ejercicio 4\n",
    "```Python\n",
    "array([[20, 19, 18, 17, 16],\n",
    "       [15, 14, 13, 12, 11],\n",
    "       [10,  9,  8,  7,  6],\n",
    "       [ 5,  4,  3,  2,  1]])\n",
    "```"
   ]
  },
  {
   "cell_type": "code",
   "execution_count": null,
   "metadata": {},
   "outputs": [
    {
     "name": "stdout",
     "output_type": "stream",
     "text": [
      "[[ 1  2  3  4  5]\n",
      " [ 6  7  8  9 10]\n",
      " [11 12 13 14 15]\n",
      " [16 17 18 19 20]]\n"
     ]
    }
   ],
   "source": [
    "my_matrix = np.arange(1,21).reshape((4,5))\n",
    "print(my_matrix)"
   ]
  },
  {
   "cell_type": "code",
   "execution_count": 45,
   "metadata": {},
   "outputs": [
    {
     "name": "stdout",
     "output_type": "stream",
     "text": [
      "[[20 19 18 17 16]\n",
      " [15 14 13 12 11]\n",
      " [10  9  8  7  6]\n",
      " [ 5  4  3  2  1]]\n"
     ]
    }
   ],
   "source": [
    "print(my_matrix[-1::-1, -1::-1])"
   ]
  },
  {
   "cell_type": "markdown",
   "metadata": {},
   "source": [
    "## Ejercicio 11\n",
    "Crea un array de 10 0s. ¿Cuánto ocupa en memoria?\n",
    "\n",
    "Sustituye el 4to elemento por 1, e imprime el array por pantalla"
   ]
  },
  {
   "cell_type": "code",
   "execution_count": 47,
   "metadata": {},
   "outputs": [
    {
     "name": "stdout",
     "output_type": "stream",
     "text": [
      "[0. 0. 0. 0. 0. 0. 0. 0. 0. 0.]\n",
      "192\n",
      "[0. 0. 0. 1. 0. 0. 0. 0. 0. 0.]\n"
     ]
    }
   ],
   "source": [
    "my_array = np.zeros(10)\n",
    "print(my_array)\n",
    "import sys\n",
    "print(sys.getsizeof(my_array))\n",
    "my_array[3] = 1\n",
    "print(my_array)"
   ]
  },
  {
   "cell_type": "markdown",
   "metadata": {},
   "source": [
    "## Ejercicio 12\n",
    "Crea un vector que vaya del 10 al 49\n",
    "\n",
    "Inviértelo"
   ]
  },
  {
   "cell_type": "code",
   "execution_count": 53,
   "metadata": {},
   "outputs": [
    {
     "name": "stdout",
     "output_type": "stream",
     "text": [
      "[10. 11. 12. 13. 14. 15. 16. 17. 18. 19. 20. 21. 22. 23. 24. 25. 26. 27.\n",
      " 28. 29. 30. 31. 32. 33. 34. 35. 36. 37. 38. 39. 40. 41. 42. 43. 44. 45.\n",
      " 46. 47. 48. 49.]\n",
      "[49. 48. 47. 46. 45. 44. 43. 42. 41. 40. 39. 38. 37. 36. 35. 34. 33. 32.\n",
      " 31. 30. 29. 28. 27. 26. 25. 24. 23. 22. 21. 20. 19. 18. 17. 16. 15. 14.\n",
      " 13. 12. 11. 10.]\n"
     ]
    }
   ],
   "source": [
    "my_array = np.linspace(10, 49, 40)\n",
    "print(my_array)\n",
    "print(my_array[::-1])"
   ]
  },
  {
   "cell_type": "markdown",
   "metadata": {},
   "source": [
    "## Ejericio 13\n",
    "Encuentra los indices de los valores que no sean 0 del siguiente vector [1,2,0,0,4,0]. El output sería [0, 1, 4]. [Encuentra el método apropiado en la documentación.](https://numpy.org/doc/)"
   ]
  },
  {
   "cell_type": "code",
   "execution_count": 17,
   "metadata": {},
   "outputs": [
    {
     "name": "stdout",
     "output_type": "stream",
     "text": [
      "[1 2 4]\n"
     ]
    }
   ],
   "source": [
    "my_array = np.array([1,2,0,0,4,0])\n",
    "print(my_array[my_array != 0])"
   ]
  },
  {
   "cell_type": "code",
   "execution_count": 19,
   "metadata": {},
   "outputs": [
    {
     "name": "stdout",
     "output_type": "stream",
     "text": [
      "(array([0, 1, 4]),)\n",
      "[0, 1, 4]\n"
     ]
    }
   ],
   "source": [
    "# Atencion, eran los indices\n",
    "print(np.where(my_array != 0))\n",
    "\n",
    "indices = []\n",
    "for indice, numero in enumerate(my_array):\n",
    "    if numero != 0:\n",
    "        indices.append(indice)\n",
    "\n",
    "print(indices)"
   ]
  },
  {
   "cell_type": "markdown",
   "metadata": {},
   "source": [
    "## Ejercicio 14\n",
    "Crea una matriz de numeros aleatorios 10x10. Encuentra los valores mínimo y máximo."
   ]
  },
  {
   "cell_type": "code",
   "execution_count": 56,
   "metadata": {},
   "outputs": [
    {
     "name": "stdout",
     "output_type": "stream",
     "text": [
      "[[0.53245833 0.5914952  0.6362342  0.57026438 0.7010202  0.2985966\n",
      "  0.0068033  0.13932367 0.60015657 0.99174248]\n",
      " [0.20547927 0.96352092 0.98710969 0.72174998 0.95684366 0.58163428\n",
      "  0.43881519 0.16430077 0.68087747 0.50923674]\n",
      " [0.57358499 0.88541279 0.04414817 0.73118326 0.41390945 0.07833613\n",
      "  0.34142448 0.94502181 0.05246937 0.4998233 ]\n",
      " [0.48944066 0.65525359 0.38161074 0.8370008  0.18787416 0.48115937\n",
      "  0.66591418 0.77608331 0.96064722 0.12704097]\n",
      " [0.00836734 0.48331536 0.68747782 0.98072779 0.75923152 0.76777591\n",
      "  0.57146307 0.11725511 0.96282155 0.02457449]\n",
      " [0.54075171 0.5121184  0.50098707 0.73719682 0.6339933  0.25065438\n",
      "  0.49387253 0.69866565 0.42169818 0.4622568 ]\n",
      " [0.81913629 0.64558592 0.98501503 0.38803758 0.13494117 0.63016155\n",
      "  0.97219597 0.31591712 0.78364179 0.12747719]\n",
      " [0.44606261 0.58114574 0.14896142 0.37347937 0.80158417 0.09657298\n",
      "  0.24791875 0.66302868 0.95995708 0.48184216]\n",
      " [0.2901034  0.89779052 0.20651819 0.14164042 0.9289045  0.55293034\n",
      "  0.81875402 0.43044186 0.45882234 0.81498539]\n",
      " [0.38225893 0.40177559 0.59026006 0.95783639 0.33208408 0.53602323\n",
      "  0.34295517 0.05038551 0.12919078 0.62510358]]\n",
      "El máximo es: 0.9917424798017388, el mínimos es: 0.006803301006763296\n"
     ]
    }
   ],
   "source": [
    "my_matrix = np.random.rand(10, 10)\n",
    "print(my_matrix)\n",
    "print(f'El máximo es: {np.max(my_matrix)}, el mínimos es: {np.min(my_matrix)}')\n"
   ]
  },
  {
   "cell_type": "markdown",
   "metadata": {},
   "source": [
    "## Ejercicio 15\n",
    "Crea un vector aleatorio de tamaño 30 y calcula su media"
   ]
  },
  {
   "cell_type": "code",
   "execution_count": null,
   "metadata": {},
   "outputs": [
    {
     "name": "stdout",
     "output_type": "stream",
     "text": [
      "Vector de tamaño 30, la media es: 0.4790679393800834, la cual debe ser cercana a 0.5\n"
     ]
    }
   ],
   "source": [
    "my_array = np.random.rand(30) \n",
    "print(f'Vector de tamaño {np.size(my_array)}, la media es: {np.mean(my_array)}, la cual debe ser cercana a 0.5')\n"
   ]
  },
  {
   "cell_type": "markdown",
   "metadata": {},
   "source": [
    "## Ejercicio 16\n",
    "Crea un array cuadrado de 2D, con las dimensiones que quiras, pero que todo el borde esté compuesto por 1s, y el interior por 0s"
   ]
  },
  {
   "cell_type": "code",
   "execution_count": 20,
   "metadata": {},
   "outputs": [
    {
     "name": "stdout",
     "output_type": "stream",
     "text": [
      "[[1. 1. 1. 1. 1.]\n",
      " [1. 1. 1. 1. 1.]\n",
      " [1. 1. 1. 1. 1.]\n",
      " [1. 1. 1. 1. 1.]\n",
      " [1. 1. 1. 1. 1.]]\n",
      "Nueva matriz\n",
      "[[1. 1. 1. 1. 1.]\n",
      " [1. 0. 0. 0. 1.]\n",
      " [1. 0. 0. 0. 1.]\n",
      " [1. 0. 0. 0. 1.]\n",
      " [1. 1. 1. 1. 1.]]\n"
     ]
    }
   ],
   "source": [
    "my_matrix = np.ones((5,5))\n",
    "print(my_matrix)\n",
    "my_matrix[1:-1, 1:-1] = 0\n",
    "print('Nueva matriz')\n",
    "print(my_matrix)"
   ]
  },
  {
   "cell_type": "markdown",
   "metadata": {},
   "source": [
    "## Ejercicio 17\n",
    "Crea una mtriz de 8x8, y rellénala con 0s y 1s. Tienes que replicar:\n",
    "```Python\n",
    "[[0 1 0 1 0 1 0 1]\n",
    " [1 0 1 0 1 0 1 0]\n",
    " [0 1 0 1 0 1 0 1]\n",
    " [1 0 1 0 1 0 1 0]\n",
    " [0 1 0 1 0 1 0 1]\n",
    " [1 0 1 0 1 0 1 0]\n",
    " [0 1 0 1 0 1 0 1]\n",
    " [1 0 1 0 1 0 1 0]]\n",
    "```"
   ]
  },
  {
   "cell_type": "code",
   "execution_count": 67,
   "metadata": {},
   "outputs": [
    {
     "name": "stdout",
     "output_type": "stream",
     "text": [
      "[[0. 0. 0. 0. 0. 0. 0. 0.]\n",
      " [0. 0. 0. 0. 0. 0. 0. 0.]\n",
      " [0. 0. 0. 0. 0. 0. 0. 0.]\n",
      " [0. 0. 0. 0. 0. 0. 0. 0.]\n",
      " [0. 0. 0. 0. 0. 0. 0. 0.]\n",
      " [0. 0. 0. 0. 0. 0. 0. 0.]\n",
      " [0. 0. 0. 0. 0. 0. 0. 0.]\n",
      " [0. 0. 0. 0. 0. 0. 0. 0.]]\n",
      "Nueva matriz\n",
      "[[0. 1. 0. 1. 0. 1. 0. 1.]\n",
      " [1. 0. 1. 0. 1. 0. 1. 0.]\n",
      " [0. 1. 0. 1. 0. 1. 0. 1.]\n",
      " [1. 0. 1. 0. 1. 0. 1. 0.]\n",
      " [0. 1. 0. 1. 0. 1. 0. 1.]\n",
      " [1. 0. 1. 0. 1. 0. 1. 0.]\n",
      " [0. 1. 0. 1. 0. 1. 0. 1.]\n",
      " [1. 0. 1. 0. 1. 0. 1. 0.]]\n"
     ]
    }
   ],
   "source": [
    "my_matrix = np.zeros((8,8))\n",
    "print(my_matrix)\n",
    "#my_matrix[my_matrix % 2 == 0] = 1\n",
    "for i in range(my_matrix.shape[0]):\n",
    "    for j in range(my_matrix.shape[1]):\n",
    "        if (i+j) % 2 != 0:\n",
    "            my_matrix[i,j] = 1 \n",
    "print('Nueva matriz')\n",
    "print(my_matrix)"
   ]
  },
  {
   "cell_type": "code",
   "execution_count": 73,
   "metadata": {},
   "outputs": [
    {
     "name": "stdout",
     "output_type": "stream",
     "text": [
      "[[0. 0. 0. 0. 0. 0. 0. 0.]\n",
      " [0. 0. 0. 0. 0. 0. 0. 0.]\n",
      " [0. 0. 0. 0. 0. 0. 0. 0.]\n",
      " [0. 0. 0. 0. 0. 0. 0. 0.]\n",
      " [0. 0. 0. 0. 0. 0. 0. 0.]\n",
      " [0. 0. 0. 0. 0. 0. 0. 0.]\n",
      " [0. 0. 0. 0. 0. 0. 0. 0.]\n",
      " [0. 0. 0. 0. 0. 0. 0. 0.]]\n",
      "Nueva matriz\n",
      "[[0. 1. 0. 1. 0. 1. 0. 1.]\n",
      " [1. 0. 1. 0. 1. 0. 1. 0.]\n",
      " [0. 1. 0. 1. 0. 1. 0. 1.]\n",
      " [1. 0. 1. 0. 1. 0. 1. 0.]\n",
      " [0. 1. 0. 1. 0. 1. 0. 1.]\n",
      " [1. 0. 1. 0. 1. 0. 1. 0.]\n",
      " [0. 1. 0. 1. 0. 1. 0. 1.]\n",
      " [1. 0. 1. 0. 1. 0. 1. 0.]]\n"
     ]
    }
   ],
   "source": [
    "# Forma más eficiente propuesta por el padre de Pinocho, A.K.A: GPT\n",
    "my_matrix = np.zeros((8,8))\n",
    "print(my_matrix)\n",
    "my_matrix[(np.indices(np.shape(my_matrix))).sum(axis=0) % 2 != 0] = 1 \n",
    "print('Nueva matriz')\n",
    "print(my_matrix)"
   ]
  },
  {
   "cell_type": "markdown",
   "metadata": {},
   "source": [
    "## Ejercicio 18\n",
    "Replica la matriz del apartado anterior, pero en este caso usando [la función `tile`](https://numpy.org/doc/stable/reference/generated/numpy.tile.html)"
   ]
  },
  {
   "cell_type": "code",
   "execution_count": 26,
   "metadata": {},
   "outputs": [
    {
     "name": "stdout",
     "output_type": "stream",
     "text": [
      "[[0 1 0 1 0 1 0 1]\n",
      " [1 0 1 0 1 0 1 0]\n",
      " [0 1 0 1 0 1 0 1]\n",
      " [1 0 1 0 1 0 1 0]\n",
      " [0 1 0 1 0 1 0 1]\n",
      " [1 0 1 0 1 0 1 0]\n",
      " [0 1 0 1 0 1 0 1]\n",
      " [1 0 1 0 1 0 1 0]]\n",
      "(8, 8)\n"
     ]
    }
   ],
   "source": [
    "my_matrix = np.array([[0, 1], [1,0]])\n",
    "my_matrix = np.tile(my_matrix, (4, 4))\n",
    "print(my_matrix)\n",
    "print(np.shape(my_matrix))"
   ]
  },
  {
   "cell_type": "markdown",
   "metadata": {},
   "source": [
    "## Ejercicio 19\n",
    "Crea una matriz aleatoria de 5x5 y normaliza sus valores. Para normalizar tienes que restar sus valores por la media(`np.mean`) y dividir el resultado por la desviación estándar(`np.std`)."
   ]
  },
  {
   "cell_type": "code",
   "execution_count": null,
   "metadata": {},
   "outputs": [
    {
     "name": "stdout",
     "output_type": "stream",
     "text": [
      "[[0.43072026 0.8534175  0.31434333 0.16680554 0.37380586]\n",
      " [0.30518728 0.47884494 0.29700036 0.1911651  0.48458489]\n",
      " [0.5304613  0.4946879  0.70390462 0.75242294 0.58960579]\n",
      " [0.82808692 0.17231938 0.27196316 0.83733586 0.99960137]\n",
      " [0.77268371 0.74594949 0.55454731 0.77432021 0.47695353]]\n",
      "[[-0.44625641  1.34497018 -0.9394166  -1.56462443 -0.68743753]\n",
      " [-0.97821639 -0.24232272 -1.01290939 -1.46139806 -0.21799904]\n",
      " [-0.02359264 -0.17518644  0.71139272  0.91699452  0.22703872]\n",
      " [ 1.23762904 -1.54125892 -1.11900729  1.27682246  1.9644406 ]\n",
      " [ 1.00285177  0.88956254  0.07847451  1.00978662 -0.25033779]]\n"
     ]
    }
   ],
   "source": [
    "my_matrix = np.random.rand (5,5)\n",
    "print(my_matrix)\n",
    "\n",
    "mean = np.mean(my_matrix)\n",
    "std = np.std(my_matrix)\n",
    "my_matrix_norm = (my_matrix-mean)/std\n",
    "print(my_matrix_norm)"
   ]
  },
  {
   "cell_type": "code",
   "execution_count": 88,
   "metadata": {},
   "outputs": [
    {
     "data": {
      "image/png": "[encoded data removed]",
      "text/plain": [
       "<Figure size 640x480 with 1 Axes>"
      ]
     },
     "metadata": {},
     "output_type": "display_data"
    },
    {
     "data": {
      "image/png": "[encoded data removed]",
      "text/plain": [
       "<Figure size 640x480 with 1 Axes>"
      ]
     },
     "metadata": {},
     "output_type": "display_data"
    }
   ],
   "source": [
    "import matplotlib.pyplot as plt\n",
    "plt.figure()\n",
    "plt.hist(my_matrix.flatten())\n",
    "plt.show()\n",
    "plt.figure()\n",
    "plt.hist(my_matrix_norm.flatten())\n",
    "plt.show()"
   ]
  },
  {
   "cell_type": "markdown",
   "metadata": {},
   "source": [
    "## Ejercicio 20\n",
    "1. Crea una secuencia de números que vayan del 0 al 10.\n",
    "2. Crea un nuevo array, que parta del anterior, pero sustituya por el valor -1, todos los elementos cuyo valor se encuentre entre el 3 y el 8.\n",
    "3. Crea un nuevo array que niegue todos los elementos entre el 3 y el 8"
   ]
  },
  {
   "cell_type": "code",
   "execution_count": 91,
   "metadata": {},
   "outputs": [
    {
     "name": "stdout",
     "output_type": "stream",
     "text": [
      "[ 0  1  2 -1 -1 -1 -1 -1 -1  9 10]\n",
      "[ 0  1  2  0  0  0  0  0  0  9 10]\n"
     ]
    }
   ],
   "source": [
    "my_sequence = np.arange(0, 11)\n",
    "my_sequence[3:9] = -1\n",
    "print(my_sequence)\n",
    "my_array = my_sequence.copy()\n",
    "my_array[my_array == -1] = False\n",
    "print(my_array)"
   ]
  },
  {
   "cell_type": "markdown",
   "metadata": {},
   "source": [
    "## Ejercicio 21\n",
    "#### Bonus track. Mini hundir la flota\n",
    "1. Crea un tablero de 10x10 relleno del carácter espacio ( ).\n",
    "2. Posiciona un par de barcos en [(0,1), (1,1)] y [(1,3), (1,4), (1,5), (1,6)]. Los barcos serán Os mayúsculas. Como ves, un barco de dos posiciones de eslora y otro de cuatro.\n",
    "3. Recibe un disparo en uno de los barcos, sustituyendo la O por una X\n",
    "4. Recibe un disparo en agua, sustituyendo uno de los espacios por un guión: -\n",
    "5. Ignorando los disparos recibidos, ahora prueba a posicionar otro barco de 4 posiciones dentro del tablero, pero **de manera ALEATORIA.**\n",
    "\n",
    "**TIP apartado 5**: El barco tendrá una posición inicial aleatoria dentro del tablero, y una orientación también aleatoria (N,S,E,O).\n",
    "\n",
    "Por ejemplo, si tu posicion inicial fuese (5,0) y la orientación O, no podrias ponerlo porque se sale del tablero. Ahora bien, si fuese orientación este, si podrías, y ocuparía las posiciones [(5,0), (5,1), (5,2), (5,3)]. Por tanto tendrás que iterar con un bucle si es posible encajar el barco en el tablero, y el bucle terminará cuando lo consigas encajar. **Ojo con las posiciones donde ya hay barco!!!**\n",
    "\n",
    "Usa `import random` para elegir las coordenadas aleatorias."
   ]
  },
  {
   "cell_type": "code",
   "execution_count": 18,
   "metadata": {},
   "outputs": [],
   "source": [
    "import numpy as np\n",
    "np.random.seed(42)"
   ]
  },
  {
   "cell_type": "code",
   "execution_count": null,
   "metadata": {},
   "outputs": [],
   "source": [
    "def crear_tablero(filas, columnas):\n",
    "    return np.full((filas, columnas), ' ')\n",
    "\n",
    "def colocar_barco(posiciones_barcos, tablero):\n",
    "\n",
    "    for barco in posiciones_barcos:\n",
    "        for coordenada in barco:\n",
    "            tablero[coordenada[0], coordenada[1]] = 'O'\n",
    "\n",
    "def recibir_disparo(coordenada, tablero):\n",
    "\n",
    "    if tablero[coordenada[0], coordenada[1]] == ' ':\n",
    "        tablero[coordenada[0], coordenada[1]] == '-'\n",
    "    else:\n",
    "        tablero[coordenada[0], coordenada[1]] == 'X'\n",
    "\n",
    "def is_coord_disparo_nueva(tablero, coordenada):\n",
    "    nuevo_disparo = False\n",
    "    if tablero[coordenada[0], coordenada[1]] == ' ' or tablero[coordenada[0], coordenada[1]] == 'O':\n",
    "        nuevo_disparo = True\n",
    "    \n",
    "    return nuevo_disparo\n",
    "\n",
    "def generar_coordenadas_barco(longitud, tablero, orientacion): # Posicion puede ser vertical o horizontal\n",
    "    \n",
    "    \n",
    "    # Start position\n",
    "    start_x = np.random.randint(0, tablero.shape[0])\n",
    "    start_y = np.random.randint(0, tablero.shape[1])\n",
    "    coordenadas = np.array([])\n",
    "\n",
    "    # Continue\n",
    "    match orientacion:\n",
    "\n",
    "        case 'N':\n",
    "            for i in range(0, longitud):\n",
    "                coordenadas[i, 0] = start_x + i\n",
    "                coordenadas[i, 1] = start_y \n",
    "        case 'S':\n",
    "            for i in range(0, longitud):\n",
    "                coordenadas[i, 0] = start_x - i\n",
    "                coordenadas[i, 1] = start_y\n",
    "        case 'E':\n",
    "            for j in range(0, longitud):\n",
    "                coordenadas[i, 0] = start_x\n",
    "                coordenadas[i, 1] = start_y + j\n",
    "        case 'W':\n",
    "            for j in range(0, longitud):\n",
    "                coordenadas[i, 0] = start_x\n",
    "                coordenadas[i, 1] = start_y - j\n",
    "\n",
    "    return coordenadas\n",
    "\n",
    "def is_coordenadas_libre(tablero, coordenadas): #Falta implementar que los barcos no se toquen\n",
    "\n",
    "    libre = True\n",
    "    for coordenada in coordenadas:\n",
    "        if tablero[coordenada[0], coordenada[1]] != ' ':\n",
    "            libre = False\n",
    "            return libre\n",
    "\n",
    "    return libre\n",
    "\n",
    "def is_coordenadas_in_limite_tablero (coordenadas, tablero):\n",
    "    dentro = True:\n",
    "    for coordenada in coordenadas: # cordenada es una tupla/lista (x,y)\n",
    "        if coordenada[0] >= tablero.shape[0] or coordenada[0] < 0 or coordenada[1] >= tablero.shape[1] or coordenada[1] < 0:\n",
    "            dentro = False\n",
    "            return dentro\n",
    "        \n",
    "    return dentro \n",
    "\n",
    "def is_coordenadas_valida(coordenadas, tablero):\n",
    "\n",
    "    valida = True\n",
    "\n",
    "    valida = is_coordenadas_in_limite_tablero(coordenadas, tablero)\n",
    "    if valida == False:\n",
    "        print('Coordenadas fuera de límites')\n",
    "        return valida\n",
    "    \n",
    "    valida = is_coordenadas_libre(tablero, coordenadas)\n",
    "    if valida == False:\n",
    "        print('Coordenada ocupada')\n",
    "        return valida\n",
    "    \n",
    "    return valida\n",
    "\n",
    "def crear_posiciones_barcos_aleatorio(tablero, numero_barcos, array_longitudes):\n",
    "    for i in range(len(array_longitudes)):\n",
    "        valida = False\n",
    "        while valida == False:\n",
    "            coordenadas = generar_coordenadas_barco(array_longitudes[i], tablero, orientacion)\n",
    "\n",
    "# Opcion para que una coordenada sea letra y otra número: A2, B2\n",
    "# Repetir disparo si has tocado\n",
    "# Incluir opciones de armas alternativas (rada, nuclear)\n",
    "# Incluir sonidos, personajes e interfaz grafica \n",
    "\n",
    "\n",
    "tablero = crear_tablero(filas=10, columnas=10)\n",
    "\n",
    "\n",
    "\n",
    "posiciones_barcos = [[(0,1), (1,1)],  [(1,3), (1,4), (1,5), (1,6)]]\n",
    "colocar_barcos(posiciones_barcos, tablero)\n",
    "\n"
   ]
  },
  {
   "cell_type": "code",
   "execution_count": null,
   "metadata": {},
   "outputs": [],
   "source": [
    "coordenadas = np.array([[0,1], [0,2], [0,3]])\n",
    "tablero = crear_tablero(filas=10, columnas=10)\n",
    "\n"
   ]
  },
  {
   "cell_type": "code",
   "execution_count": null,
   "metadata": {},
   "outputs": [],
   "source": []
  }
 ],
 "metadata": {
  "kernelspec": {
   "display_name": "data_analysis_env",
   "language": "python",
   "name": "python3"
  },
  "language_info": {
   "codemirror_mode": {
    "name": "ipython",
    "version": 3
   },
   "file_extension": ".py",
   "mimetype": "text/x-python",
   "name": "python",
   "nbconvert_exporter": "python",
   "pygments_lexer": "ipython3",
   "version": "3.11.11"
  }
 },
 "nbformat": 4,
 "nbformat_minor": 4
}
