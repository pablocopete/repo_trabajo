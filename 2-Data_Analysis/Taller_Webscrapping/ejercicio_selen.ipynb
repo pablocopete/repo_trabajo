{
 "cells": [
  {
   "cell_type": "markdown",
   "id": "e58c452c",
   "metadata": {},
   "source": [
    "# EJERCICIO SELENIUM\n",
    "\n",
    "### Os acordais de la tienda de teclados?\n",
    "\n",
    "https://extremetechcr.com/tienda/30-teclados\n",
    "\n",
    "\n",
    "Quiero:\n",
    "\n",
    "Todos los teclados (imagen, precio y descripcion) de las 4 primeras paginas.\n",
    "\n",
    "Tendreis que:\n",
    "- 1 montar el selenium\n",
    "- 2 darle a cookies si hay (creo que no)\n",
    "- 3 coger la pagina y a la sopa\n",
    "- 4 obtener todos los elementos\n",
    "- 5 hacer click en el numero de pagina siguiente o en el boton de pagina siguiente\n",
    "- 6 Volver al punto 3\n",
    "- 7 Repetir untill finished (6 PAGINAS)\n",
    "\n",
    "Todo terminadito en un dataframe bonito. Ya tu sabes."
   ]
  },
  {
   "cell_type": "code",
   "execution_count": 1,
   "id": "582f7ada",
   "metadata": {},
   "outputs": [],
   "source": [
    "# Qué son todos los elementos?  Nombre y precio"
   ]
  },
  {
   "cell_type": "code",
   "execution_count": 7,
   "id": "2045588c",
   "metadata": {},
   "outputs": [],
   "source": [
    "from bs4 import BeautifulSoup as bs\n",
    "from selenium import webdriver\n",
    "from selenium.webdriver.common.by import By\n",
    "from selenium.webdriver.common.keys import Keys\n",
    "import undetected_chromedriver as uc\n",
    "\n",
    "import time\n",
    "import pandas as pd"
   ]
  },
  {
   "cell_type": "code",
   "execution_count": 8,
   "id": "8dbdf442",
   "metadata": {},
   "outputs": [],
   "source": [
    "# url = 'https://extremetechcr.com/tienda/30-teclados/page-1'"
   ]
  },
  {
   "cell_type": "code",
   "execution_count": 9,
   "id": "512808a6",
   "metadata": {},
   "outputs": [],
   "source": [
    "options = uc.ChromeOptions()\n",
    "options.add_argument(\"--no-sandbox\")\n",
    "\n",
    "driver = uc.Chrome(options=options)"
   ]
  },
  {
   "cell_type": "code",
   "execution_count": 10,
   "id": "276a60da",
   "metadata": {},
   "outputs": [],
   "source": [
    "# driver.get(url)"
   ]
  },
  {
   "cell_type": "code",
   "execution_count": 11,
   "id": "27f3b358",
   "metadata": {},
   "outputs": [],
   "source": [
    "# soup = bs(driver.page_source, 'lxml')\n"
   ]
  },
  {
   "cell_type": "code",
   "execution_count": null,
   "id": "28793cd1",
   "metadata": {},
   "outputs": [],
   "source": [
    "soups = []\n",
    "for i in range (1, 10):\n",
    "    url = f\"https://extremetechcr.com/tienda/30-teclados/page-{i}\"\n",
    "    driver.get(url)\n",
    "    time.sleep(3)\n",
    "    driver.execute_script(\"window.scrollTo(0, document.body.scrollHeight);\")\n",
    "    time.sleep(2)\n",
    "    soups.append( bs(driver.page_source, 'lxml'))\n"
   ]
  },
  {
   "cell_type": "code",
   "execution_count": 21,
   "id": "2076bd10",
   "metadata": {},
   "outputs": [
    {
     "data": {
      "text/plain": [
       "<html class=\"default off-canvas\" lang=\"es-es\"><head> <script async=\"\" src=\"https://dash.callbell.eu/include/XPnQ8ncP97PyJWohHQKd5QBV.js\" type=\"text/javascript\"></script><script async=\"\" crossorigin=\"anonymous\" src=\"https://connect.facebook.net/en_US/sdk.js?hash=f054edd73ea44b9307004326b1e44ce8\"></script><script async=\"\" src=\"https://www.google-analytics.com/plugins/ua/ec.js\" type=\"text/javascript\"></script><script async=\"\" src=\"https://connect.facebook.net/signals/config/584605505879247?v=2.9.201&amp;r=stable&amp;domain=extremetechcr.com&amp;hme=9ebdfdd473ffce6bfe2267012c83f73483198ffe20d84139a2066b7682f827c0&amp;ex_m=73%2C128%2C113%2C117%2C64%2C6%2C106%2C72%2C19%2C100%2C92%2C54%2C57%2C181%2C202%2C209%2C205%2C206%2C208%2C32%2C107%2C56%2C80%2C207%2C176%2C179%2C203%2C204%2C189%2C139%2C44%2C194%2C191%2C192%2C37%2C151%2C18%2C53%2C198%2C197%2C141%2C21%2C43%2C2%2C46%2C68%2C69%2C70%2C74%2C96%2C20%2C17%2C99%2C95%2C94%2C114%2C55%2C116%2C42%2C115%2C33%2C97%2C29%2C177%2C180%2C148%2C14%2C15%2C16%2C8%2C9%2C28%2C25%2C26%2C60%2C65%2C67%2C78%2C105%2C108%2C30%2C79%2C12%2C10%2C83%2C51%2C24%2C110%2C109%2C111%2C102%2C13%2C23%2C4%2C41%2C77%2C22%2C160%2C89%2C135%2C76%2C1%2C98%2C59%2C87%2C36%2C31%2C85%2C86%2C91%2C40%2C7%2C93%2C84%2C47%2C35%2C38%2C0%2C71%2C118%2C90%2C5%2C50%2C49%2C101%2C88%2C246%2C174%2C126%2C163%2C156%2C3%2C39%2C66%2C45%2C112%2C48%2C82%2C63%2C62%2C34%2C103%2C61%2C58%2C52%2C81%2C75%2C27%2C104%2C11%2C119\"></script><script id=\"facebook-jssdk\" src=\"//connect.facebook.net/en_US/sdk.js#xfbml=1&amp;version=v2.0\"></script><script async=\"\" src=\"//www.google-analytics.com/analytics.js\"></script><script async=\"\" src=\"https://connect.facebook.net/en_US/fbevents.js\"></script><script></script> <script>!function(f,b,e,v,n,t,s)\n",
       "{if(f.fbq)return;n=f.fbq=function(){n.callMethod?\n",
       "n.callMethod.apply(n,arguments):n.queue.push(arguments)};\n",
       "if(!f._fbq)f._fbq=n;n.push=n;n.loaded=!0;n.version='2.0';\n",
       "n.queue=[];t=b.createElement(e);t.async=!0;\n",
       "t.src=v;s=b.getElementsByTagName(e)[0];\n",
       "s.parentNode.insertBefore(t,s)}(window, document,'script',\n",
       "'https://connect.facebook.net/en_US/fbevents.js');\n",
       "fbq('init', '584605505879247');\n",
       "fbq('track', 'PageView');</script> <noscript><img height=\"1\" src=\"https://www.facebook.com/tr?id=584605505879247&amp;ev=PageView&amp;noscript=1\" style=\"display:none\" width=\"1\"/></noscript><meta charset=\"utf-8\"/><title>TECLADOS - ExtremeTechCR</title><meta content=\"PrestaShop\" name=\"generator\"/><meta content=\"noindex,nofollow\" name=\"robots\"/><meta content=\"width=device-width, minimum-scale=0.25, maximum-scale=1.6, initial-scale=1.0\" name=\"viewport\"/><meta content=\"yes\" name=\"apple-mobile-web-app-capable\"/><link href=\"/tienda/img/favicon.ico?1711051585\" rel=\"icon\" type=\"image/vnd.microsoft.icon\"/><link href=\"/tienda/img/favicon.ico?1711051585\" rel=\"shortcut icon\" type=\"image/x-icon\"/><link href=\"https://extremetechcr.com/tienda/themes/leo_computer/cache/v_57_44f4fc8bd54144f27fcfdb880eb98301_all.css\" media=\"all\" rel=\"stylesheet\" type=\"text/css\"/> <script type=\"text/javascript\">var CUSTOMIZE_TEXTFIELD = 1;\n",
       "var FancyboxI18nClose = 'Cerrar';\n",
       "var FancyboxI18nNext = 'Siguiente';\n",
       "var FancyboxI18nPrev = 'Anterior';\n",
       "var ajax_allowed = true;\n",
       "var ajaxsearch = true;\n",
       "var baseDir = 'https://extremetechcr.com/tienda/';\n",
       "var baseUri = 'https://extremetechcr.com/tienda/';\n",
       "var blocklayeredSliderName = {\"price\":\"precio\",\"weight\":\"peso\"};\n",
       "var blocksearch_type = 'top';\n",
       "var contentOnly = false;\n",
       "var currency = {\"id\":1,\"name\":\"Col\\u00f3n\",\"iso_code\":\"CRC\",\"iso_code_num\":\"188\",\"sign\":\"\\u20a1\",\"blank\":\"1\",\"conversion_rate\":\"1.000000\",\"deleted\":\"0\",\"format\":\"1\",\"decimals\":\"0\",\"active\":\"1\",\"prefix\":\"\\u20a1 \",\"suffix\":\"\",\"id_shop_list\":null,\"force_id\":false};\n",
       "var currencyBlank = 1;\n",
       "var currencyFormat = 1;\n",
       "var currencyRate = 1;\n",
       "var currencySign = '₡';\n",
       "var customizationIdMessage = 'Personalización n°';\n",
       "var delete_txt = 'Eliminar';\n",
       "var displayList = false;\n",
       "var filters = [{\"type_lite\":\"price\",\"type\":\"price\",\"id_key\":0,\"name\":\"Precio\",\"slider\":true,\"max\":\"139000\",\"min\":\"2900\",\"values\":{\"1\":\"139000\",\"0\":\"2900\"},\"unit\":\"\\u20a1\",\"format\":\"1\",\"filter_show_limit\":\"0\",\"filter_type\":\"0\"},{\"type_lite\":\"id_attribute_group\",\"type\":\"id_attribute_group\",\"id_key\":1,\"name\":\"Marca\",\"is_color_group\":false,\"values\":{\"92\":{\"color\":\"\",\"name\":\"LOGITECH\",\"nbr\":51,\"url_name\":\"logitech\",\"meta_title\":\"LOGITECH\",\"link\":\"https:\\/\\/extremetechcr.com\\/tienda\\/30-teclados#marca-logitech\",\"rel\":\"\"},\"96\":{\"color\":\"\",\"name\":\"RAZER\",\"nbr\":22,\"url_name\":\"razer\",\"meta_title\":\"RAZER\",\"link\":\"https:\\/\\/extremetechcr.com\\/tienda\\/30-teclados#marca-razer\",\"rel\":\"\"},\"72\":{\"color\":\"\",\"name\":\"HYPERX\",\"nbr\":6,\"url_name\":\"hyperx\",\"meta_title\":\"HYPERX\",\"link\":\"https:\\/\\/extremetechcr.com\\/tienda\\/30-teclados#marca-hyperx\",\"rel\":\"\"},\"74\":{\"color\":\"\",\"name\":\"CORSAIR\",\"nbr\":12,\"url_name\":\"corsair\",\"meta_title\":\"CORSAIR\",\"link\":\"https:\\/\\/extremetechcr.com\\/tienda\\/30-teclados#marca-corsair\",\"rel\":\"\"},\"71\":{\"color\":\"\",\"name\":\"MSI\",\"nbr\":2,\"url_name\":\"msi\",\"meta_title\":\"MSI\",\"link\":\"https:\\/\\/extremetechcr.com\\/tienda\\/30-teclados#marca-msi\",\"rel\":\"\"},\"223\":{\"color\":\"\",\"name\":\"REDRAGON\",\"nbr\":28,\"url_name\":\"redragon\",\"meta_title\":\"\",\"link\":\"https:\\/\\/extremetechcr.com\\/tienda\\/30-teclados#marca-redragon\",\"rel\":\"\"},\"580\":{\"color\":\"\",\"name\":\"CHECKPOINT\",\"nbr\":1,\"url_name\":\"checkpoint\",\"meta_title\":\"\",\"link\":\"https:\\/\\/extremetechcr.com\\/tienda\\/30-teclados#marca-checkpoint\",\"rel\":\"\"},\"212\":{\"color\":\"\",\"name\":\"X-TECH\",\"nbr\":1,\"url_name\":\"x-tech\",\"meta_title\":\"\",\"link\":\"https:\\/\\/extremetechcr.com\\/tienda\\/30-teclados#marca-x_tech\",\"rel\":\"\"},\"337\":{\"color\":\"\",\"name\":\"KLIP\",\"nbr\":2,\"url_name\":\"klip\",\"meta_title\":\"\",\"link\":\"https:\\/\\/extremetechcr.com\\/tienda\\/30-teclados#marca-klip\",\"rel\":\"\"},\"423\":{\"color\":\"\",\"name\":\"DUCKY\",\"nbr\":59,\"url_name\":\"ducky\",\"meta_title\":\"\",\"link\":\"https:\\/\\/extremetechcr.com\\/tienda\\/30-teclados#marca-ducky\",\"rel\":\"\"},\"450\":{\"color\":\"\",\"name\":\"Argom\",\"nbr\":4,\"url_name\":\"argom\",\"meta_title\":\"\",\"link\":\"https:\\/\\/extremetechcr.com\\/tienda\\/30-teclados#marca-argom\",\"rel\":\"\"},\"470\":{\"color\":\"\",\"name\":\"El GATO\",\"nbr\":6,\"url_name\":\"el-gato\",\"meta_title\":\"\",\"link\":\"https:\\/\\/extremetechcr.com\\/tienda\\/30-teclados#marca-el_gato\",\"rel\":\"\"},\"494\":{\"color\":\"\",\"name\":\"PRIMUS\",\"nbr\":3,\"url_name\":\"primus\",\"meta_title\":\"\",\"link\":\"https:\\/\\/extremetechcr.com\\/tienda\\/30-teclados#marca-primus\",\"rel\":\"\"},\"625\":{\"color\":\"\",\"name\":\"UNNO\",\"nbr\":3,\"url_name\":\"unno\",\"meta_title\":\"\",\"link\":\"https:\\/\\/extremetechcr.com\\/tienda\\/30-teclados#marca-unno\",\"rel\":\"\"},\"777\":{\"color\":\"\",\"name\":\"BOETEC\",\"nbr\":1,\"url_name\":\"boetec\",\"meta_title\":\"\",\"link\":\"https:\\/\\/extremetechcr.com\\/tienda\\/30-teclados#marca-boetec\",\"rel\":\"\"}},\"url_name\":\"marca\",\"meta_title\":\"\",\"filter_show_limit\":\"0\",\"filter_type\":\"0\"},{\"type_lite\":\"id_attribute_group\",\"type\":\"id_attribute_group\",\"id_key\":17,\"name\":\"Tipo de Teclado\",\"is_color_group\":false,\"values\":{\"7\":{\"color\":\"\",\"name\":\"Membrana\",\"nbr\":35,\"url_name\":\"membrana\",\"meta_title\":\"Membrana\",\"link\":\"https:\\/\\/extremetechcr.com\\/tienda\\/30-teclados#tipo_de_teclado-membrana\",\"rel\":\"\"},\"8\":{\"color\":\"\",\"name\":\"Mecanico\",\"nbr\":145,\"url_name\":\"mecanico\",\"meta_title\":\"Mecanico\",\"link\":\"https:\\/\\/extremetechcr.com\\/tienda\\/30-teclados#tipo_de_teclado-mecanico\",\"rel\":\"\"}},\"url_name\":\"tipo-de-teclado\",\"meta_title\":\"\",\"filter_show_limit\":\"0\",\"filter_type\":\"0\"},{\"type_lite\":\"id_attribute_group\",\"type\":\"id_attribute_group\",\"id_key\":24,\"name\":\"Interfaz\",\"is_color_group\":false,\"values\":{\"199\":{\"color\":\"\",\"name\":\"Inalambrico\",\"nbr\":2,\"url_name\":\"inalambrico\",\"meta_title\":\"\",\"link\":\"https:\\/\\/extremetechcr.com\\/tienda\\/30-teclados#interfaz-inalambrico\",\"rel\":\"\"}},\"url_name\":\"interfaz\",\"meta_title\":\"\",\"filter_show_limit\":\"0\",\"filter_type\":\"0\"},{\"type_lite\":\"id_attribute_group\",\"type\":\"id_attribute_group\",\"id_key\":26,\"name\":\"LED\",\"is_color_group\":false,\"values\":{\"128\":{\"color\":\"\",\"name\":\"Blanco\",\"nbr\":3,\"url_name\":\"blanco\",\"meta_title\":\"\",\"link\":\"https:\\/\\/extremetechcr.com\\/tienda\\/30-teclados#led-blanco\",\"rel\":\"\"},\"129\":{\"color\":\"\",\"name\":\"RGB\",\"nbr\":151,\"url_name\":\"rgb\",\"meta_title\":\"\",\"link\":\"https:\\/\\/extremetechcr.com\\/tienda\\/30-teclados#led-rgb\",\"rel\":\"\"}},\"url_name\":\"led\",\"meta_title\":\"\",\"filter_show_limit\":\"0\",\"filter_type\":\"0\"},{\"type_lite\":\"id_attribute_group\",\"type\":\"id_attribute_group\",\"id_key\":29,\"name\":\"Conexion\",\"is_color_group\":false,\"values\":{\"150\":{\"color\":\"\",\"name\":\"USB\",\"nbr\":14,\"url_name\":\"usb\",\"meta_title\":\"\",\"link\":\"https:\\/\\/extremetechcr.com\\/tienda\\/30-teclados#conexion-usb\",\"rel\":\"\"},\"151\":{\"color\":\"\",\"name\":\"Wireless\",\"nbr\":43,\"url_name\":\"wireless\",\"meta_title\":\"\",\"link\":\"https:\\/\\/extremetechcr.com\\/tienda\\/30-teclados#conexion-wireless\",\"rel\":\"\"}},\"url_name\":\"conexion\",\"meta_title\":\"\",\"filter_show_limit\":\"0\",\"filter_type\":\"0\"},{\"type_lite\":\"id_attribute_group\",\"type\":\"id_attribute_group\",\"id_key\":34,\"name\":\"Tipo de Switch\",\"is_color_group\":false,\"values\":{\"297\":{\"color\":\"\",\"name\":\"Outemu Purple\",\"nbr\":1,\"url_name\":\"outemu-purple\",\"meta_title\":\"\",\"link\":\"https:\\/\\/extremetechcr.com\\/tienda\\/30-teclados#tipo_de_switch-outemu_purple\",\"rel\":\"\"}},\"url_name\":\"tipo-de-switch\",\"meta_title\":\"\",\"filter_show_limit\":\"0\",\"filter_type\":\"0\"}];\n",
       "var freeProductTranslation = '¡Gratis!';\n",
       "var freeShippingTranslation = 'Envío gratuito!';\n",
       "var generated_date = 1747152523;\n",
       "var hasDeliveryAddress = false;\n",
       "var highDPI = false;\n",
       "var id_lang = 1;\n",
       "var img_dir = 'https://extremetechcr.com/tienda/themes/leo_computer/img/';\n",
       "var instantsearch = false;\n",
       "var isGuest = 0;\n",
       "var isLogged = 0;\n",
       "var isMobile = false;\n",
       "var page_name = 'category';\n",
       "var param_product_url = '#';\n",
       "var priceDisplayMethod = 1;\n",
       "var priceDisplayPrecision = 0;\n",
       "var quickView = true;\n",
       "var removingLinkText = 'eliminar este producto de mi carrito';\n",
       "var roundMode = 2;\n",
       "var search_url = 'https://extremetechcr.com/tienda/module/leoproductsearch/productsearch';\n",
       "var static_token = 'b83b206aca3270aad6a4144df86a81b4';\n",
       "var toBeDetermined = 'A determinar';\n",
       "var token = '28112c985c8b471553f285fd33871636';\n",
       "var usingSecureMode = true;</script> <script src=\"https://extremetechcr.com/tienda/themes/leo_computer/cache/v_57_9cbb853a9a729f5f254bd76f1423bc5b.js\" type=\"text/javascript\"></script> <link href=\"https://extremetechcr.com/tienda/themes/leo_computer/css/responsive.css\" rel=\"stylesheet\" type=\"text/css\"/> <script type=\"text/javascript\">(window.gaDevIds=window.gaDevIds||[]).push('d6YPbH');\n",
       "\t\t\t\t(function(i,s,o,g,r,a,m){i['GoogleAnalyticsObject']=r;i[r]=i[r]||function(){\n",
       "\t\t\t\t(i[r].q=i[r].q||[]).push(arguments)},i[r].l=1*new Date();a=s.createElement(o),\n",
       "\t\t\t\tm=s.getElementsByTagName(o)[0];a.async=1;a.src=g;m.parentNode.insertBefore(a,m)\n",
       "\t\t\t\t})(window,document,'script','//www.google-analytics.com/analytics.js','ga');\n",
       "\t\t\t\tga('create', 'UA-140950344-1', 'auto');\n",
       "\t\t\t\tga('require', 'ec');</script><meta content=\"w0JP8XjuEUaYM-9DAoeYFRQdKvKqBdDlNNbarg_DuAg\" name=\"google-site-verification\"/><link href=\"/tienda/themes/leo_computer/css/customize/test33.css\" media=\"all\" rel=\"stylesheet\" type=\"text/css\"/><link href=\"//fonts.googleapis.com/css?family=Raleway:400,900,800,600,500\" rel=\"stylesheet\" type=\"text/css\"/> <!--[if IE 8]> <script src=\"https://oss.maxcdn.com/libs/html5shiv/3.7.0/html5shiv.js\"></script> <script src=\"https://oss.maxcdn.com/libs/respond.js/1.3.0/respond.min.js\"></script> <![endif]--> <script src=\"https://extremetechcr.com/tienda/themes/leo_computer/js/contactcenter.js\" type=\"text/javascript\"></script> <style type=\"text/css\">.fancybox-margin{margin-right:15px;}</style><style data-fbcssmodules=\"css:fb.css.base css:fb.css.dialog css:fb.css.iframewidget\" type=\"text/css\">.fb_hidden{position:absolute;top:-10000px;z-index:10001}.fb_reposition{overflow:hidden;position:relative}.fb_invisible{display:none}.fb_reset{background:none;border:0px;border-spacing:0;color:#000;cursor:auto;direction:ltr;font-family:'lucida grande', tahoma, verdana, arial, sans-serif;font-size:11px;font-style:normal;font-variant:normal;font-weight:normal;letter-spacing:normal;line-height:1;margin:0;overflow:visible;padding:0;text-align:left;text-decoration:none;text-indent:0;text-shadow:none;text-transform:none;visibility:visible;white-space:normal;word-spacing:normal}.fb_reset>div{overflow:hidden}@keyframes fb_transform{from{opacity:0;transform:scale(.95)}to{opacity:1;transform:scale(1)}}.fb_animate{animation:fb_transform .3s forwards}\n",
       ".fb_hidden{position:absolute;top:-10000px;z-index:10001}.fb_reposition{overflow:hidden;position:relative}.fb_invisible{display:none}.fb_reset{background:none;border:0px;border-spacing:0;color:#000;cursor:auto;direction:ltr;font-family:'lucida grande', tahoma, verdana, arial, sans-serif;font-size:11px;font-style:normal;font-variant:normal;font-weight:normal;letter-spacing:normal;line-height:1;margin:0;overflow:visible;padding:0;text-align:left;text-decoration:none;text-indent:0;text-shadow:none;text-transform:none;visibility:visible;white-space:normal;word-spacing:normal}.fb_reset>div{overflow:hidden}@keyframes fb_transform{from{opacity:0;transform:scale(.95)}to{opacity:1;transform:scale(1)}}.fb_animate{animation:fb_transform .3s forwards}\n",
       ".fb_dialog{background:rgba(82,82,82,.7);position:absolute;top:-10000px;z-index:10001}.fb_dialog_advanced{border-radius:8px;padding:10px}.fb_dialog_content{background:#fff;color:#373737}.fb_dialog_close_icon{background:url(https://connect.facebook.net/rsrc.php/v4/yq/r/IE9JII6Z1Ys.png) no-repeat scroll 0 0 transparent;cursor:pointer;display:block;height:15px;position:absolute;right:18px;top:17px;width:15px}.fb_dialog_mobile .fb_dialog_close_icon{left:5px;right:auto;top:5px}.fb_dialog_padding{background-color:transparent;position:absolute;width:1px;z-index:-1}.fb_dialog_close_icon:hover{background:url(https://connect.facebook.net/rsrc.php/v4/yq/r/IE9JII6Z1Ys.png) no-repeat scroll 0 -15px transparent}.fb_dialog_close_icon:active{background:url(https://connect.facebook.net/rsrc.php/v4/yq/r/IE9JII6Z1Ys.png) no-repeat scroll 0 -30px transparent}.fb_dialog_iframe{line-height:0}.fb_dialog_content .dialog_title{background:#6d84b4;border:1px solid #365899;color:#fff;font-size:14px;font-weight:bold;margin:0}.fb_dialog_content .dialog_title>span{background:url(https://connect.facebook.net/rsrc.php/v4/yd/r/Cou7n-nqK52.gif) no-repeat 5px 50%;float:left;padding:5px 0 7px 26px}body.fb_hidden{height:100%;left:0px;margin:0px;overflow:visible;position:absolute;top:-10000px;transform:none;width:100%}.fb_dialog.fb_dialog_mobile.loading{background:url(https://connect.facebook.net/rsrc.php/v4/ya/r/3rhSv5V8j3o.gif) white no-repeat 50% 50%;min-height:100%;min-width:100%;overflow:hidden;position:absolute;top:0;z-index:10001}.fb_dialog.fb_dialog_mobile.loading.centered{background:none;height:auto;min-height:initial;min-width:initial;width:auto}.fb_dialog.fb_dialog_mobile.loading.centered #fb_dialog_loader_spinner{width:100%}.fb_dialog.fb_dialog_mobile.loading.centered .fb_dialog_content{background:none}.loading.centered #fb_dialog_loader_close{clear:both;color:white;display:block;font-size:18px;padding-top:20px}#fb-root #fb_dialog_ipad_overlay{background:rgba(0,0,0,.4);bottom:0;left:0;min-height:100%;position:absolute;right:0;top:0;width:100%;z-index:10000}#fb-root #fb_dialog_ipad_overlay.hidden{display:none}.fb_dialog.fb_dialog_mobile.loading iframe{visibility:hidden}.fb_dialog_mobile .fb_dialog_iframe{position:sticky;top:0}.fb_dialog_content .dialog_header{background:linear-gradient(from(#738aba), to(#2c4987));border-bottom:1px solid;border-color:#043b87;box-shadow:white 0px 1px 1px -1px inset;color:#fff;font:bold 14px Helvetica, sans-serif;text-overflow:ellipsis;text-shadow:rgba(0,30,84,.296875) 0px -1px 0px;vertical-align:middle;white-space:nowrap}.fb_dialog_content .dialog_header table{height:43px;width:100%}.fb_dialog_content .dialog_header td.header_left{font-size:12px;padding-left:5px;vertical-align:middle;width:60px}.fb_dialog_content .dialog_header td.header_right{font-size:12px;padding-right:5px;vertical-align:middle;width:60px}.fb_dialog_content .touchable_button{background:linear-gradient(from(#4267b2), to(#2a4887));background-clip:padding-box;border:1px solid #29487d;border-radius:3px;display:inline-block;line-height:18px;margin-top:3px;max-width:85px;padding:4px 12px;position:relative}.fb_dialog_content .dialog_header .touchable_button input{background:none;border:none;color:white;font:bold 12px Helvetica, sans-serif;margin:2px -12px;padding:2px 6px 3px 6px;text-shadow:rgba(0,30,84,.296875) 0px -1px 0px}.fb_dialog_content .dialog_header .header_center{color:#fff;font-size:16px;font-weight:bold;line-height:18px;text-align:center;vertical-align:middle}.fb_dialog_content .dialog_content{background:url(https://connect.facebook.net/rsrc.php/v4/y9/r/jKEcVPZFk-2.gif) no-repeat 50% 50%;border:1px solid #4a4a4a;border-bottom:0;border-top:0;height:150px}.fb_dialog_content .dialog_footer{background:#f5f6f7;border:1px solid #4a4a4a;border-top-color:#ccc;height:40px}#fb_dialog_loader_close{float:left}.fb_dialog.fb_dialog_mobile .fb_dialog_close_icon{visibility:hidden}#fb_dialog_loader_spinner{animation:rotateSpinner 1.2s linear infinite;background-color:transparent;background-image:url(https://connect.facebook.net/rsrc.php/v4/yD/r/t-wz8gw1xG1.png);background-position:50% 50%;background-repeat:no-repeat;height:24px;width:24px}@keyframes rotateSpinner{0%{transform:rotate(0deg)}100%{transform:rotate(360deg)}}\n",
       ".fb_iframe_widget{display:inline-block;position:relative}.fb_iframe_widget span{display:inline-block;position:relative;text-align:justify}.fb_iframe_widget iframe{position:absolute}.fb_iframe_widget_fluid_desktop,.fb_iframe_widget_fluid_desktop span,.fb_iframe_widget_fluid_desktop iframe{max-width:100%}.fb_iframe_widget_fluid_desktop iframe{min-width:220px;position:relative}.fb_iframe_widget_lift{z-index:1}.fb_iframe_widget_fluid{display:inline}.fb_iframe_widget_fluid span{width:100%}</style></head><body class=\"category category-30 category-teclados show-left-column hide-right-column lang_es fullwidth header-default\" id=\"category\" style=\"\"> <section data-column=\"col-xs-12 col-sm-6 col-md-4\" data-type=\"grid\" id=\"page\"> <header class=\"header-center\" id=\"header\"> <section class=\"header-container\"><div id=\"topbar\"><div class=\"container\"><div class=\"row ApRow\" style=\"\"><div class=\"col-lg-12 col-md-12 col-sm-12 col-xs-12 col-sp-12 ApColumn\"><div class=\"header_user_info pull-left clearfix\"><div class=\"header_info hidden-sm hidden-xs hidden-sp pull-left\">Bienvenido, usted puede <a href=\"https://extremetechcr.com/tienda/mi-cuenta\">iniciar sesión</a> o <a href=\"https://extremetechcr.com/tienda/mi-cuenta\">crear una cuenta</a></div><div class=\"popup-over pull-left e-translate-top pull-left\"><div class=\"popup-title\" data-toggle=\"dropdown\"><a href=\"#\"><span><i class=\"fa fa-user\"></i></span></a></div><div class=\"popup-content\"><ul class=\"links\"><li><a class=\"login\" href=\"https://extremetechcr.com/tienda/mi-cuenta\" rel=\"nofollow\" title=\"Ingrese a su cuenta de cliente\"> <i class=\"fa fa-unlock-alt\"></i>Iniciar sesión </a></li><li> <a href=\"https://extremetechcr.com/tienda/mi-cuenta\" title=\"Mi cuenta\"><i class=\"fa fa-user\"></i>Mi Cuenta</a></li><li class=\"last\"><a class=\"last\" href=\"https://extremetechcr.com/tienda/\" title=\"Revisa\"><i class=\"fa fa-share\"></i>Revisa</a></li><li class=\"first\"> <a href=\"https://extremetechcr.com/tienda/module/blockwishlist/mywishlist\" id=\"wishlist-total\" title=\"Mis listas de regalo\"> <i class=\"fa fa-heart\"></i>Lista de deseos</a><span class=\"ap-total-wishlist ap-total\">0</span></li><li> <a href=\"https://extremetechcr.com/tienda/comparativa-productos\" rel=\"nofollow\" title=\"Comparar\"> <i class=\"fa fa-compress\"></i>Comparar<span class=\"ap-total-compare ap-total\">0</span> </a></li></ul></div></div></div><div class=\"pull-left e-translate-top popup-over\" id=\"leo_block_top\"> <span class=\"popup-title\"> <i class=\"fa fa-cog\"></i> </span><div class=\"popup-content\"><form action=\"/tienda/30-teclados?selected_filters=page-0\" id=\"setCurrency\" method=\"post\"><p> <input id=\"id_currency\" name=\"id_currency\" type=\"hidden\" value=\"\"/> <input name=\"SubmitCurrency\" type=\"hidden\" value=\"\"/> Moneda</p><ul class=\"currencies_ul links\" id=\"first-currencies\"><li class=\"selected\"> <a href=\"javascript:setCurrency(1);\" rel=\"nofollow\" title=\"Colón\">₡</a></li></ul></form></div> <script type=\"text/javascript\">$(document).ready(function () {\n",
       "\t\t\t$(\"#setCurrency\").mouseover(function(){\n",
       "\t\t\t\t$(this).addClass(\"countries_hover\");\n",
       "\t\t\t\t$(\".currencies_ul\").addClass(\"currencies_ul_hover\");\n",
       "\t\t\t});\n",
       "\t\t\t$(\"#setCurrency\").mouseout(function(){\n",
       "\t\t\t\t$(this).removeClass(\"countries_hover\");\n",
       "\t\t\t\t$(\".currencies_ul\").removeClass(\"currencies_ul_hover\");\n",
       "\t\t\t});\n",
       "\t\t});</script> </div> <script type=\"text/javascript\">$(document).ready(function () {\n",
       "\t$(\"#countries\").mouseover(function(){\n",
       "\t\t$(this).addClass(\"countries_hover\");\n",
       "\t\t$(\".countries_ul\").addClass(\"countries_ul_hover\");\n",
       "\t});\n",
       "\t$(\"#countries\").mouseout(function(){\n",
       "\t\t$(this).removeClass(\"countries_hover\");\n",
       "\t\t$(\".countries_ul\").removeClass(\"countries_ul_hover\");\n",
       "\t});\n",
       "});</script><div class=\"blockcart_top clearfix pull-right\"><div class=\"shopping_cart\" id=\"cart\"><div class=\"media heading\"><div class=\"cart-inner media-body\"> <a href=\"https://extremetechcr.com/tienda/pedido-rapido\" rel=\"nofollow\" title=\"Ver mi carrito de compra\"> <span class=\"title-cart\"></span> <span class=\"ajax_cart_total unvisible\"> </span> <span class=\"ajax_cart_product_empty ajax_cart_no_product\"> 0 artículo (s) - ₡ 0.00 </span> <span class=\"ajax_cart_quantity unvisible\">0</span> <span class=\"ajax_cart_product_txt unvisible\"> - artículo</span> <span class=\"ajax_cart_product_txt_s unvisible\"> - artículo (s)</span> </a></div></div><div class=\"cart_block block exclusive\"><div class=\"block_content\"><div class=\"cart_block_list\"><p class=\"cart_block_no_products\"> Ningún producto</p><div class=\"cart-prices\"><div class=\"cart-prices-line first-line\"> <span class=\"price cart_block_shipping_cost ajax_cart_shipping_cost unvisible\"> A determinar </span> <span class=\"unvisible\"> Transporte </span></div><div class=\"cart-prices-line last-line\"> <span class=\"price cart_block_total ajax_block_cart_total\">₡ 0</span> <span>Total</span></div></div><p class=\"cart-buttons clearfix\"> <a class=\"btn btn-warning button-medium button button-small pull-right\" href=\"https://extremetechcr.com/tienda/pedido-rapido\" id=\"button_order_cart\" rel=\"nofollow\" title=\"Confirmar\"> <span> Confirmar </span> </a></p></div></div></div></div></div><div id=\"layer_cart\"><div class=\"clearfix\"><div class=\"layer_cart_product col-xs-12 col-md-6\"> <span class=\"cross\" title=\"Cerrar Ventana\"></span> <span class=\"title\"> <i class=\"fa fa-ok\"></i>Producto añadido correctamente a su carrito de la compra </span><div class=\"product-image-container layer_cart_img\"></div><div class=\"layer_cart_product_info\"> <span class=\"product-name\" id=\"layer_cart_product_title\"></span> <span id=\"layer_cart_product_attributes\"></span><div> <strong class=\"dark\">Cantidad</strong> <span id=\"layer_cart_product_quantity\"></span></div><div> <strong class=\"dark\">Total</strong> <span id=\"layer_cart_product_price\"></span></div></div></div><div class=\"layer_cart_cart col-xs-12 col-md-6\"> <span class=\"title\"> <span class=\"ajax_cart_product_txt_s unvisible\"> Hay <span class=\"ajax_cart_quantity\">0</span> artículos en su carrito. </span> <span class=\"ajax_cart_product_txt\"> Hay 1 artículo en su carrito </span> </span><div class=\"layer_cart_row\"> <strong class=\"dark\"> Total productos: </strong> <span class=\"ajax_block_products_total\"> </span></div><div class=\"layer_cart_row\"> <strong class=\"dark unvisible\"> Total envío:  </strong> <span class=\"ajax_cart_shipping_cost unvisible\"> A determinar </span></div><div class=\"layer_cart_row\"> <strong class=\"dark\"> Total (sin IVA) </strong> <span class=\"ajax_block_cart_total\"> </span></div><div class=\"button-container\"> <span class=\"continue btn btn-outline btn-sm button exclusive-medium\" title=\"Continuar la compra\"> <span> Continuar la compra </span> </span> <a class=\"btn btn-outline btn-sm button pull-right\" href=\"https://extremetechcr.com/tienda/pedido-rapido\" rel=\"nofollow\" title=\"Ir a la caja\"> <span> Ir a la caja </span> </a></div></div></div><div class=\"crossseling\"></div></div><div class=\"layer_cart_overlay\"></div></div></div></div></div><div class=\"header-left\" id=\"header-main\"><div class=\"container\"><div class=\"row ApRow\" style=\"\"><div class=\"col-lg-3 col-md-3 col-sm-12 col-xs-12 col-sp-12 ApColumn\"> <a href=\"https://extremetechcr.com/tienda/\" title=\"ExtremeTechCR\"> <img alt=\"ExtremeTechCR\" class=\"logo img-responsive\" height=\"146\" src=\"https://extremetechcr.com/tienda/img/extremetechcr-logo-1464805590.jpg\" width=\"428\"/> </a></div><div class=\"col-lg-9 col-md-9 col-sm-12 col-xs-12 col-sp-12 ApColumn\"><div class=\"clearfix\" id=\"leo-megamenu\"> <nav class=\"sf-contener leo-megamenu\" id=\"cavas_menu\"><div role=\"navigation\"><div class=\"navbar-header\"> <button class=\"navbar-toggle btn-outline-inverse\" data-target=\".navbar-ex1-collapse\" data-toggle=\"collapse\" type=\"button\"> <span class=\"sr-only\">Navegación Toggle</span> <span class=\"fa fa-bars\"></span> </button></div><div class=\"collapse navbar-collapse navbar-ex1-collapse\" id=\"leo-top-menu\"><ul class=\"nav navbar-nav megamenu\"><li class=\"parent dropdown\"><a class=\"dropdown-toggle has-category\" data-toggle=\"dropdown\" href=\"https://extremetechcr.com/tienda/36-computadoras\" target=\"_self\"><span class=\"menu-title\">Computadoras</span><b class=\"caret\"></b></a><div class=\"dropdown-menu level1\"><div class=\"dropdown-menu-inner\"><div class=\"row\"><div class=\"col-sm-12 mega-col\" data-colwidth=\"12\" data-type=\"menu\"><div class=\"inner\"><ul><li class=\"\"><a href=\"https://extremetechcr.com/tienda/37-gaming\"><span class=\"menu-title\">Gaming</span></a></li><li class=\"\"><a href=\"https://extremetechcr.com/tienda/92-combos-kits\"><span class=\"menu-title\">Combos / Kits</span></a></li><li class=\"\"><a href=\"https://extremetechcr.com/tienda/38-hogar-y-oficina\"><span class=\"menu-title\">Hogar y Oficina</span></a></li><li class=\"parent dropdown-submenu\"><a class=\"dropdown-toggle\" data-toggle=\"dropdown\" href=\"https://extremetechcr.com/tienda/39-laptop\"><span class=\"menu-title\">Laptop</span><b class=\"caret\"></b></a><div class=\"dropdown-menu level2\"><div class=\"dropdown-menu-inner\"><div class=\"row\"><div class=\"col-sm-12 mega-col\" data-colwidth=\"12\" data-type=\"menu\"><div class=\"inner\"><ul><li class=\"\"><a href=\"https://extremetechcr.com/tienda/155-accesorios\"><span class=\"menu-title\">Accesorios</span></a></li></ul></div></div></div></div></div></li><li class=\"\"><a href=\"http://www.extremeoutletcr.com\"><span class=\"menu-title\">Laptops Usadas</span></a></li><li class=\"\"><a href=\"https://extremetechcr.com/tienda/233-tablets\"><span class=\"menu-title\">Tablets</span></a></li><li class=\"\"><a href=\"https://extremetechcr.com/tienda/147-tablet-dibujo\"><span class=\"menu-title\">Tablets Diseño</span></a></li><li class=\"\"><a href=\"https://extremetechcr.com/tienda/160-punto-de-venta\"><span class=\"menu-title\">Punto de Venta</span></a></li><li class=\"\"><a href=\"https://extremetechcr.com/tienda/236-consolas\"><span class=\"menu-title\">Consolas</span></a></li></ul></div></div></div></div></div></li><li class=\"parent dropdown\"><a class=\"dropdown-toggle has-category\" data-toggle=\"dropdown\" href=\"https://extremetechcr.com/tienda/12-componentes\" target=\"_self\"><span class=\"menu-title\">Componentes</span><b class=\"caret\"></b></a><div class=\"dropdown-menu level1\"><div class=\"dropdown-menu-inner\"><div class=\"row\"><div class=\"col-sm-12 mega-col\" data-colwidth=\"12\" data-type=\"menu\"><div class=\"inner\"><ul><li class=\"parent dropdown-submenu\"><a class=\"dropdown-toggle\" data-toggle=\"dropdown\" href=\"https://extremetechcr.com/tienda/13-procesadores\"><span class=\"menu-title\">Procesadores</span><b class=\"caret\"></b></a><div class=\"dropdown-menu level2\"><div class=\"dropdown-menu-inner\"><div class=\"row\"><div class=\"col-sm-12 mega-col\" data-colwidth=\"12\" data-type=\"menu\"><div class=\"inner\"><ul><li class=\"\"><a href=\"https://extremetechcr.com/tienda/14-procesadores-amd\"><span class=\"menu-title\">Procesadores AMD</span></a></li><li class=\"\"><a href=\"https://extremetechcr.com/tienda/15-procesadores-intel\"><span class=\"menu-title\">Procesadores Intel</span></a></li></ul></div></div></div></div></div></li><li class=\"\"><a href=\"https://extremetechcr.com/tienda/16-tarjeta-madre\"><span class=\"menu-title\">Tarjeta Madre</span></a></li><li class=\"parent dropdown-submenu\"><a class=\"dropdown-toggle\" data-toggle=\"dropdown\" href=\"https://extremetechcr.com/tienda/17-memoria-ram\"><span class=\"menu-title\">Memoria RAM</span><b class=\"caret\"></b></a><div class=\"dropdown-menu level2\"><div class=\"dropdown-menu-inner\"><div class=\"row\"><div class=\"col-sm-12 mega-col\" data-colwidth=\"12\" data-type=\"menu\"><div class=\"inner\"><ul><li class=\"\"><a href=\"https://extremetechcr.com/tienda/112-memoria-laptop\"><span class=\"menu-title\">Memoria Laptop</span></a></li></ul></div></div></div></div></div></li><li class=\"\"><a href=\"https://extremetechcr.com/tienda/18-tarjetas-de-video\"><span class=\"menu-title\">Tarjetas de Video</span></a></li><li class=\"parent dropdown-submenu\"><a class=\"dropdown-toggle\" data-toggle=\"dropdown\" href=\"https://extremetechcr.com/tienda/19-almacenamiento\"><span class=\"menu-title\">Almacenamiento</span><b class=\"caret\"></b></a><div class=\"dropdown-menu level2\"><div class=\"dropdown-menu-inner\"><div class=\"row\"><div class=\"col-sm-12 mega-col\" data-colwidth=\"12\" data-type=\"menu\"><div class=\"inner\"><ul><li class=\"\"><a href=\"https://extremetechcr.com/tienda/20-disco-duro\"><span class=\"menu-title\">Disco Duro</span></a></li><li class=\"\"><a href=\"https://extremetechcr.com/tienda/21-ssd\"><span class=\"menu-title\">SSD</span></a></li><li class=\"\"><a href=\"https://extremetechcr.com/tienda/41-disco-externo\"><span class=\"menu-title\">Disco Externo</span></a></li><li class=\"\"><a href=\"https://extremetechcr.com/tienda/22-memoria-flash\"><span class=\"menu-title\">Memoria Flash</span></a></li><li class=\"\"><a href=\"https://extremetechcr.com/tienda/113-unidades-dvd\"><span class=\"menu-title\">Unidades DVD</span></a></li></ul></div></div></div></div></div></li><li class=\"parent dropdown-submenu\"><a class=\"dropdown-toggle\" data-toggle=\"dropdown\" href=\"https://extremetechcr.com/tienda/23-enfriamiento\"><span class=\"menu-title\">Enfriamiento</span><b class=\"caret\"></b></a><div class=\"dropdown-menu level2\"><div class=\"dropdown-menu-inner\"><div class=\"row\"><div class=\"col-sm-12 mega-col\" data-colwidth=\"12\" data-type=\"menu\"><div class=\"inner\"><ul><li class=\"\"><a href=\"https://extremetechcr.com/tienda/89-enfriamiento-liquido\"><span class=\"menu-title\">Enfriamiento Liquido</span></a></li><li class=\"\"><a href=\"https://extremetechcr.com/tienda/90-enfriamiento-aire\"><span class=\"menu-title\">Enfriamiento Aire</span></a></li><li class=\"\"><a href=\"https://extremetechcr.com/tienda/101-laptops\"><span class=\"menu-title\">Enfriamiento Laptops</span></a></li><li class=\"\"><a href=\"https://bit.ly/3DsMwW6\"><span class=\"menu-title\">Enfriamiento Liquido Personalizado</span></a></li></ul></div></div></div></div></div></li><li class=\"\"><a href=\"https://extremetechcr.com/tienda/24-fuentes-de-poder\"><span class=\"menu-title\">Fuentes de Poder</span></a></li><li class=\"parent dropdown-submenu\"><a class=\"dropdown-toggle\" data-toggle=\"dropdown\" href=\"https://extremetechcr.com/tienda/25-cases\"><span class=\"menu-title\">Cases</span><b class=\"caret\"></b></a><div class=\"dropdown-menu level2\"><div class=\"dropdown-menu-inner\"><div class=\"row\"><div class=\"col-sm-12 mega-col\" data-colwidth=\"12\" data-type=\"menu\"><div class=\"inner\"><ul><li class=\"\"><a href=\"https://extremetechcr.com/tienda/117-accesorios-case\"><span class=\"menu-title\">Accesorios</span></a></li></ul></div></div></div></div></div></li><li class=\"\"><a href=\"https://extremetechcr.com/tienda/26-ventiladores\"><span class=\"menu-title\">Ventiladores</span></a></li><li class=\"parent dropdown-submenu\"><a class=\"dropdown-toggle\" data-toggle=\"dropdown\" href=\"https://extremetechcr.com/tienda/27-monitores\"><span class=\"menu-title\">Monitores</span><b class=\"caret\"></b></a><div class=\"dropdown-menu level2\"><div class=\"dropdown-menu-inner\"><div class=\"row\"><div class=\"col-sm-12 mega-col\" data-colwidth=\"12\" data-type=\"menu\"><div class=\"inner\"><ul><li class=\"\"><a href=\"https://extremetechcr.com/tienda/157-accesorios\"><span class=\"menu-title\">Accesorios</span></a></li></ul></div></div></div></div></div></li><li class=\"\"><a href=\"https://extremetechcr.com/tienda/28-reguladores-y-ups\"><span class=\"menu-title\">Reguladores y UPS</span></a></li></ul></div></div></div></div></div></li><li class=\"parent dropdown\"><a class=\"dropdown-toggle has-category\" data-toggle=\"dropdown\" href=\"https://extremetechcr.com/tienda/29-perifericos\" target=\"_self\"><span class=\"menu-title\">Perifericos</span><b class=\"caret\"></b></a><div class=\"dropdown-menu level1\"><div class=\"dropdown-menu-inner\"><div class=\"row\"><div class=\"col-sm-12 mega-col\" data-colwidth=\"12\" data-type=\"menu\"><div class=\"inner\"><ul><li class=\"\"><a href=\"https://extremetechcr.com/tienda/30-teclados\"><span class=\"menu-title\">Teclados</span></a></li><li class=\"\"><a href=\"https://extremetechcr.com/tienda/31-mouse\"><span class=\"menu-title\">Mouse</span></a></li><li class=\"\"><a href=\"https://extremetechcr.com/tienda/32-combos-gaming\"><span class=\"menu-title\">Combos Gaming</span></a></li><li class=\"\"><a href=\"https://extremetechcr.com/tienda/33-headset\"><span class=\"menu-title\">Headset</span></a></li><li class=\"\"><a href=\"https://extremetechcr.com/tienda/34-mousepad\"><span class=\"menu-title\">Mousepad</span></a></li><li class=\"\"><a href=\"https://extremetechcr.com/tienda/76-controles\"><span class=\"menu-title\">Controles</span></a></li><li class=\"\"><a href=\"https://extremetechcr.com/tienda/86-parlantes\"><span class=\"menu-title\">Parlantes</span></a></li><li class=\"\"><a href=\"https://extremetechcr.com/tienda/140-webcam\"><span class=\"menu-title\">Webcam</span></a></li><li class=\"\"><a href=\"https://extremetechcr.com/tienda/145-audio\"><span class=\"menu-title\">Microfonos</span></a></li><li class=\"\"><a href=\"https://extremetechcr.com/tienda/206-streaming\"><span class=\"menu-title\">Streaming</span></a></li><li class=\"\"><a href=\"https://extremetechcr.com/tienda/159-impresoras\"><span class=\"menu-title\">Impresoras</span></a></li><li class=\"\"><a href=\"https://extremetechcr.com/tienda/242-sim-racing\"><span class=\"menu-title\">SIM RACING</span></a></li></ul></div></div></div></div></div></li><li class=\"parent dropdown\"><a class=\"dropdown-toggle has-category\" data-toggle=\"dropdown\" href=\"https://extremetechcr.com/tienda/77-accesorios\" target=\"_self\"><span class=\"menu-title\">Accesorios</span><b class=\"caret\"></b></a><div class=\"dropdown-menu level1\"><div class=\"dropdown-menu-inner\"><div class=\"row\"><div class=\"col-sm-12 mega-col\" data-colwidth=\"12\" data-type=\"menu\"><div class=\"inner\"><ul><li class=\"\"><a href=\"https://extremetechcr.com/tienda/78-adaptadores\"><span class=\"menu-title\">Adaptadores</span></a></li><li class=\"\"><a href=\"https://extremetechcr.com/tienda/79-cables\"><span class=\"menu-title\">Cables</span></a></li><li class=\"\"><a href=\"https://extremetechcr.com/tienda/85-encapsuladores\"><span class=\"menu-title\">Encapsuladores</span></a></li><li class=\"\"><a href=\"https://extremetechcr.com/tienda/80-extensiones\"><span class=\"menu-title\">Extensiones</span></a></li><li class=\"\"><a href=\"https://extremetechcr.com/tienda/144-herramientas\"><span class=\"menu-title\">Herramientas</span></a></li><li class=\"\"><a href=\"https://extremetechcr.com/tienda/81-led\"><span class=\"menu-title\">LED</span></a></li><li class=\"\"><a href=\"https://extremetechcr.com/tienda/82-control-de-ventiladores\"><span class=\"menu-title\">Control de Ventiladores</span></a></li><li class=\"\"><a href=\"https://extremetechcr.com/tienda/83-pasta-termica\"><span class=\"menu-title\">Pasta Térmica</span></a></li><li class=\"\"><a href=\"https://extremetechcr.com/tienda/84-redes\"><span class=\"menu-title\">Redes</span></a></li><li class=\"\"><a href=\"https://extremetechcr.com/tienda/87-sillas-gamer\"><span class=\"menu-title\">Sillas Gamer</span></a></li><li class=\"\"><a href=\"https://extremetechcr.com/tienda/242-sim-racing\"><span class=\"menu-title\">SIM RACING</span></a></li></ul></div></div></div></div></div></li><li class=\"parent dropdown\"><a class=\"dropdown-toggle has-category\" data-toggle=\"dropdown\" href=\"https://extremetechcr.com/tienda/35-celulares\" target=\"_self\"><span class=\"menu-title\">Celulares</span><b class=\"caret\"></b></a><div class=\"dropdown-menu level1\"><div class=\"dropdown-menu-inner\"><div class=\"row\"><div class=\"col-sm-12 mega-col\" data-colwidth=\"12\" data-type=\"menu\"><div class=\"inner\"><ul><li class=\"\"><a href=\"https://extremetechcr.com/tienda/108-one-plus\"><span class=\"menu-title\">One Plus</span></a></li><li class=\"\"><a href=\"https://extremetechcr.com/tienda/109-xiaomi\"><span class=\"menu-title\">Xiaomi</span></a></li><li class=\"\"><a href=\"https://extremetechcr.com/tienda/203-realme\"><span class=\"menu-title\">Realme</span></a></li><li class=\"\"><a href=\"https://extremetechcr.com/tienda/107-motorola\"><span class=\"menu-title\">Motorola</span></a></li><li class=\"\"><a href=\"https://extremetechcr.com/tienda/208-samsung\"><span class=\"menu-title\">Samsung</span></a></li><li class=\"\"><a href=\"https://extremetechcr.com/tienda/226-honor\"><span class=\"menu-title\">Honor</span></a></li><li class=\"\"><a href=\"https://extremetechcr.com/tienda/204-relojes\"><span class=\"menu-title\">Relojes</span></a></li><li class=\"\"><a href=\"https://extremetechcr.com/tienda/202-powerbank\"><span class=\"menu-title\">Powerbank</span></a></li><li class=\"\"><a href=\"https://extremetechcr.com/tienda/110-accesorios\"><span class=\"menu-title\">Accesorios</span></a></li></ul></div></div></div></div></div></li><li class=\"parent dropdown\"><a class=\"dropdown-toggle has-category\" data-toggle=\"dropdown\" href=\"\" target=\"_self\"><span class=\"menu-title\">MAS...</span><b class=\"caret\"></b></a><div class=\"dropdown-menu level1\"><div class=\"dropdown-menu-inner\"><div class=\"row\"><div class=\"col-sm-12 mega-col\" data-colwidth=\"12\" data-type=\"menu\"><div class=\"inner\"><ul><li class=\"\"><a href=\"https://extremetechcr.com/tienda/158-audio\"><span class=\"menu-title\">Audio</span></a></li><li class=\"\"><a href=\"https://extremetechcr.com/tienda/193-televisores\"><span class=\"menu-title\">Televisores</span></a></li><li class=\"\"><a href=\"https://extremetechcr.com/tienda/236-consolas\"><span class=\"menu-title\">Consolas</span></a></li><li class=\"\"><a href=\"https://extremetechcr.com/tienda/205-hogar-inteligente\"><span class=\"menu-title\">Smart Home</span></a></li><li class=\"\"><a href=\"https://extremetechcr.com/tienda/147-tablet-dibujo\"><span class=\"menu-title\">Tablets Dibujo</span></a></li><li class=\"\"><a href=\"https://extremetechcr.com/tienda/220-gopro\"><span class=\"menu-title\">GoPro</span></a></li><li class=\"\"><a href=\"https://extremetechcr.com/tienda/228-lentes\"><span class=\"menu-title\">Lentes Gunnar</span></a></li><li class=\"\"><a href=\"https://bit.ly/3h0Ma1B\"><span class=\"menu-title\">Techzilla</span></a></li></ul></div></div></div></div></div></li><li class=\"parent dropdown\"><a class=\"dropdown-toggle has-category\" data-toggle=\"dropdown\" href=\"https://extremetechcr.com/tienda/241-noviembre-negro-2024\" target=\"_self\"><span class=\"menu-title\">Verano 2025</span><b class=\"caret\"></b></a><div class=\"dropdown-menu level1\"><div class=\"dropdown-menu-inner\"><div class=\"row\"><div class=\"col-sm-12 mega-col\" data-colwidth=\"12\" data-type=\"menu\"><div class=\"inner\"><ul><li class=\"\"><a href=\"https://extremetechcr.com/tienda/243-navidad-razer-2024\"><span class=\"menu-title\">Promociones Razer</span></a></li><li class=\"\"><a href=\"https://extremetechcr.com/tienda/244-navidad-extrema-logitech-2024\"><span class=\"menu-title\">Promociones Logitech</span></a></li><li class=\"\"><a href=\"https://extremetechcr.com/tienda/236-consolas\"><span class=\"menu-title\">Consolas</span></a></li><li class=\"\"><a href=\"https://extremetechcr.com/tienda/242-sim-racing\"><span class=\"menu-title\">SIM RACING</span></a></li><li class=\"\"><a href=\"https://extremetechcr.com/tienda/224-promociones-epson\"><span class=\"menu-title\">Promociones Epson</span></a></li><li class=\"\"><a href=\"https://extremetechcr.com/tienda/37-gaming\"><span class=\"menu-title\">PCS Gaming</span></a></li></ul></div></div></div></div></div></li></ul></div></div> </nav></div> <script type=\"text/javascript\">// \n",
       "\tvar current_link = \"http://extremetechcr.com/tienda/\";\n",
       "\t//alert(request);\n",
       "    var currentURL = window.location;\n",
       "    currentURL = String(currentURL);\n",
       "    currentURL = currentURL.replace(\"https://\",\"\").replace(\"http://\",\"\").replace(\"www.\",\"\").replace( /#\\w*/, \"\" );\n",
       "    current_link = current_link.replace(\"https://\",\"\").replace(\"http://\",\"\").replace(\"www.\",\"\");\n",
       "    isHomeMenu = 0;\n",
       "    if($(\"body\").attr(\"id\")==\"index\") isHomeMenu = 1;\n",
       "    $(\".megamenu > li > a\").each(function() {\n",
       "        menuURL = $(this).attr(\"href\").replace(\"https://\",\"\").replace(\"http://\",\"\").replace(\"www.\",\"\").replace( /#\\w*/, \"\" );\n",
       "\t\tif( (currentURL == menuURL) || (currentURL.replace(current_link,\"\") == menuURL) || isHomeMenu){\n",
       "\t\t\t$(this).parent().addClass(\"active\");\n",
       "            return false;\n",
       "\t\t}\n",
       "    });\n",
       "//</script> <script type=\"text/javascript\">(function($) {\n",
       "        $.fn.OffCavasmenu = function(opts) {\n",
       "            // default configuration\n",
       "            var config = $.extend({}, {\n",
       "                opt1: null,\n",
       "                text_warning_select: \"Por favor seleccione uno de quitar?\",\n",
       "                text_confirm_remove: \"¿Seguro de eliminar la fila de pie de página?\",\n",
       "                JSON: null\n",
       "            }, opts);\n",
       "            // main function\n",
       "            // initialize every element\n",
       "            this.each(function() {\n",
       "                var $btn = $('#cavas_menu .navbar-toggle');\n",
       "                var $nav = null;\n",
       "                if (!$btn.length)\n",
       "                    return;\n",
       "                var $nav = $('<section id=\"off-canvas-nav\" class=\"leo-megamenu\"><nav class=\"offcanvas-mainnav\"><div id=\"off-canvas-button\"><span class=\"off-canvas-nav\"></span>Cerrar</div></nav></section>');\n",
       "                var $menucontent = $($btn.data('target')).find('.megamenu').clone();\n",
       "                $(\"body\").append($nav);\n",
       "                $(\"#off-canvas-nav .offcanvas-mainnav\").append($menucontent);\n",
       "                $(\"#off-canvas-nav .offcanvas-mainnav\").css('min-height',$(window).height()+30+\"px\");\n",
       "                $(\"html\").addClass (\"off-canvas\");\n",
       "                $(\"#off-canvas-button\").click( function(){\n",
       "                        $btn.click();\t\n",
       "                } );\n",
       "                $btn.toggle(function() {\n",
       "                    $(\"body\").removeClass(\"off-canvas-inactive\").addClass(\"off-canvas-active\");\n",
       "                }, function() {\n",
       "                    $(\"body\").removeClass(\"off-canvas-active\").addClass(\"off-canvas-inactive\");\n",
       "                });\n",
       "            });\n",
       "            return this;\n",
       "        }\n",
       "    })(jQuery);\n",
       "    $(document).ready(function() {\n",
       "        jQuery(\"#cavas_menu\").OffCavasmenu();\n",
       "        $('#cavas_menu .navbar-toggle').click(function() {\n",
       "            $('body,html').animate({\n",
       "                scrollTop: 0\n",
       "            }, 0);\n",
       "            return false;\n",
       "        });\n",
       "    });\n",
       "    $(document.body).on('click', '[data-toggle=\"dropdown\"]' ,function(){\n",
       "        if(!$(this).parent().hasClass('open') && this.href && this.href != '#'){\n",
       "            window.location.href = this.href;\n",
       "        }\n",
       "    });</script> </div></div></div></div> </section> </header><div class=\"clearfix\" id=\"slideshow\"><div class=\"container\"><div class=\"wrapper\"><div class=\"home_top\"><div class=\"clearfix ApRow has-bg bg-boxed\" data-bg=\" no-repeat\" style=\"background: no-repeat;\"><div class=\"nopadding col-lg-3 col-md-3 col-sm-4-8 col-xs-12 col-sp-12 ApColumn\"><div class=\"ApHtml block\"><div class=\"block_content\"><div class=\"alert-support\"><h3><em class=\"fa fa-phone\"></em>4001-4991 - 4350-2222</h3><p><em class=\"fa fa-envelope-o\"></em>ventas@extremetechcr.com</p><p><strong>Todos nuestros precios incluyen el I.V.A.</strong></p></div></div></div></div><div class=\"nopadding col-lg-9 col-md-9 col-sm-7-2 col-xs-12 col-sp-12 ApColumn\"><div class=\"block exclusive\" id=\"leo_search_block_top\"><h4 class=\"title_block\">Buscar en todos los productos</h4><form action=\"https://extremetechcr.com/tienda/index.php?controller=productsearch\" id=\"leosearchtopbox\" method=\"get\"> <input name=\"fc\" type=\"hidden\" value=\"module\"/> <input name=\"module\" type=\"hidden\" value=\"leoproductsearch\"/> <input name=\"controller\" type=\"hidden\" value=\"productsearch\"/> <input name=\"orderby\" type=\"hidden\" value=\"position\"/> <input name=\"orderway\" type=\"hidden\" value=\"desc\"/><p class=\"block_content clearfix\"> <select class=\"form-control form-select\" id=\"cate\" name=\"cate\"><option value=\"\">Todas Las Categorías</option><option value=\"2\">Inicio</option><option value=\"29\">PERIFERICOS</option><option value=\"12\">COMPONENTES</option><option value=\"35\">CELULARES</option><option value=\"77\">ACCESORIOS</option><option value=\"36\">COMPUTADORAS</option><option value=\"42\">MARCAS</option><option value=\"88\">LOGITECH</option><option value=\"93\">RAZER</option><option value=\"94\">Cougar</option><option value=\"95\">Azio</option><option value=\"97\">Corsair</option><option value=\"98\">ONEPLUS</option><option value=\"99\">Redragon</option><option value=\"100\">Marvo</option><option value=\"102\">Cougar</option><option value=\"103\">Thonet &amp; Vander</option><option value=\"104\">Sennheiser</option><option value=\"105\">HYPERX</option><option value=\"106\">Havit</option><option value=\"111\">Ryzen</option><option value=\"112\">MEMORIA LAPTOP</option><option value=\"114\">Noblechairs</option><option value=\"115\">NZXT</option><option value=\"117\">ACCESORIOS CASE</option><option value=\"118\">Intel Octava Generacion</option><option value=\"119\">InWin</option><option value=\"139\">AUDIO-TECHNICA</option><option value=\"141\">Adata</option><option value=\"142\">Audio Technica</option><option value=\"143\">GSKILL</option><option value=\"145\">Microfonos</option><option value=\"146\">Ryzen2</option><option value=\"148\">Bitfenix</option><option value=\"149\">Azza</option><option value=\"150\">Phanteks</option><option value=\"151\">Fractal Design</option><option value=\"152\">Adata</option><option value=\"153\">MSI Octava Generacion</option><option value=\"154\">MSI Optix</option><option value=\"155\">ACCESORIOS LAPTOP</option><option value=\"156\">Seasonic</option><option value=\"158\">Audio</option><option value=\"162\">Asrock</option><option value=\"163\">BEQUIET</option><option value=\"164\">XBOX</option><option value=\"165\">Steelseries</option><option value=\"166\">PromoIntel</option><option value=\"168\">Novedades</option><option value=\"169\">ASUS ROG</option><option value=\"170\">Ofertas Verano</option><option value=\"171\">demo0120</option><option value=\"172\">EXT00024</option><option value=\"173\">iPods</option><option value=\"175\">MSI Novena Generacion</option><option value=\"177\">Radeon RX590</option><option value=\"178\">Cooler Master</option><option value=\"179\">DXRACER</option><option value=\"180\">VERTAGEAR</option><option value=\"181\">MSI</option><option value=\"182\">Laptops Gamer</option><option value=\"183\">Ofertas AMD</option><option value=\"184\">GEFORCE</option><option value=\"185\">RADEON</option><option value=\"186\">Intel Novena Generacion</option><option value=\"187\">Asus STRIX</option><option value=\"188\">Logitech Gaming</option><option value=\"189\">IMEXX</option><option value=\"190\">DarkFlash</option><option value=\"191\">Promos Navideñas 2019</option><option value=\"192\">Sillas Aerocool</option><option value=\"193\">Televisores</option><option value=\"194\">EXTREME SERIES</option><option value=\"195\">EPSON</option><option value=\"197\">NN</option><option value=\"198\">MINI PC</option><option value=\"200\">Promociones Navideñas 2021</option><option value=\"201\">KOLINK</option><option value=\"205\">Hogar Inteligente</option><option value=\"207\">Logitech G</option><option value=\"209\">T-DAGGER</option><option value=\"210\">HyperX Loot Drop</option><option value=\"211\">Logitech Weekend</option><option value=\"213\">Sillas T-Dagger</option><option value=\"214\">Ofertas Extremas</option><option value=\"215\">Toshiba Dynabook</option><option value=\"216\">Ofertas AMD</option><option value=\"218\">Hyper Mega Sale</option><option value=\"219\">Descuentos de Verano</option><option value=\"220\">GOPRO</option><option value=\"223\">Promociones NZXT</option><option value=\"224\">Promociones Epson</option><option value=\"225\">Promociones Xiaomi</option><option value=\"227\">Consolas Portatiles</option><option value=\"228\">Lentes</option><option value=\"229\">Promociones Tarjetas de Video</option><option value=\"230\">BUNDLES AMD RYZEN 7000</option><option value=\"231\">Promos Sillas Gamer</option><option value=\"233\">Tablets</option><option value=\"234\">Proyectores</option><option value=\"236\">Consolas</option><option value=\"238\">LOGITECH 2024</option><option value=\"239\">LogiPlay</option><option value=\"240\">Descuentos Razer 2024</option><option value=\"241\">Promociones Fin de Año</option><option value=\"242\">SIM RACING</option><option value=\"243\">Promociones Razer</option><option value=\"244\">Promociones Logitech</option><option value=\"13\">PROCESADORES</option><option value=\"30\">TECLADOS</option><option value=\"37\">GAMING</option><option value=\"43\">AMD</option><option value=\"78\">Adaptadores</option><option value=\"107\">MOTOROLA</option><option value=\"221\">Nuevos Lanzamientos</option><option value=\"16\">TARJETA MADRE</option><option value=\"31\">MOUSE</option><option value=\"38\">HOGAR Y OFICINA</option><option value=\"44\">INTEL</option><option value=\"108\">ONE PLUS</option><option value=\"222\">Destacados</option><option value=\"17\">MEMORIA RAM</option><option value=\"32\">COMBOS GAMING</option><option value=\"39\">LAPTOP</option><option value=\"45\">GIGABYTE</option><option value=\"79\">Cables</option><option value=\"109\">XIAOMI</option><option value=\"18\">TARJETAS DE VIDEO</option><option value=\"33\">HEADSET</option><option value=\"46\">MSI</option><option value=\"85\">Encapsuladores</option><option value=\"208\">SAMSUNG</option><option value=\"34\">MOUSEPAD</option><option value=\"47\">ASUS</option><option value=\"80\">Extensiones</option><option value=\"92\">COMBOS / KITS</option><option value=\"161\">TARJETAS DE SONIDO</option><option value=\"226\">HONOR</option><option value=\"19\">ALMACENAMIENTO</option><option value=\"48\">HYPERX</option><option value=\"76\">CONTROLES</option><option value=\"81\">LED</option><option value=\"110\">ACCESORIOS</option><option value=\"23\">ENFRIAMIENTO</option><option value=\"49\">G.SKILL</option><option value=\"82\">Control de Ventiladores</option><option value=\"86\">PARLANTES</option><option value=\"160\">PUNTO DE VENTA</option><option value=\"202\">Powerbank</option><option value=\"24\">FUENTES DE PODER</option><option value=\"50\">CORSAIR</option><option value=\"83\">Pasta Térmica</option><option value=\"147\">Tablet Dibujo</option><option value=\"203\">REALME</option><option value=\"25\">CASES</option><option value=\"51\">ZOTAC</option><option value=\"84\">Redes</option><option value=\"159\">IMPRESORAS</option><option value=\"204\">RELOJES</option><option value=\"26\">VENTILADORES</option><option value=\"52\">EVGA</option><option value=\"87\">Sillas Gamer</option><option value=\"206\">Streaming</option><option value=\"27\">MONITORES</option><option value=\"53\">TOSHIBA</option><option value=\"138\">Realidad Virtual</option><option value=\"28\">REGULADORES Y UPS</option><option value=\"54\">KINGSTON</option><option value=\"140\">Webcam</option><option value=\"55\">SAMSUNG</option><option value=\"144\">Herramientas</option><option value=\"157\">ACCESORIOS</option><option value=\"56\">COOLER MASTER</option><option value=\"57\">PHANTEKS</option><option value=\"58\">EKWB</option><option value=\"59\">SEASONIC</option><option value=\"60\">NZXT</option><option value=\"61\">RIOTORO</option><option value=\"62\">FRACTAL DESING</option><option value=\"63\">THERMALTAKE</option><option value=\"64\">AOC</option><option value=\"65\">BENQ</option><option value=\"66\">APOLLO</option><option value=\"67\">CENTRA</option><option value=\"68\">LOGITECH</option><option value=\"69\">MOTOROLA</option><option value=\"70\">ONEPLUS</option><option value=\"71\">GOOGLE</option><option value=\"72\">RAZER</option><option value=\"121\">SANDISK</option><option value=\"137\">TEAMGROUP</option><option value=\"174\">CRUCIAL</option><option value=\"176\">MASTERFAN</option><option value=\"14\">PROCESADORES AMD</option><option value=\"20\">DISCO DURO</option><option value=\"89\">ENFRIAMIENTO LIQUIDO</option><option value=\"15\">PROCESADORES INTEL</option><option value=\"21\">SSD</option><option value=\"90\">ENFRIAMIENTO AIRE</option><option value=\"22\">MEMORIA FLASH</option><option value=\"91\">PERSONALIZADO</option><option value=\"41\">DISCO EXTERNO</option><option value=\"101\">ENFRIAMIENTO LAPTOPS</option><option value=\"113\">UNIDADES DVD</option> </select> <input autocomplete=\"off\" class=\"search_query form-control grey ac_input\" id=\"leo_search_query_top\" name=\"search_query\" type=\"text\" value=\"\"/> <button class=\"btn btn-default button button-small\" id=\"leo_search_top_button\" type=\"submit\"><span><i class=\"fa fa-search\"></i></span></button></p></form></div></div></div></div></div></div></div><div class=\"clearfix\" id=\"breadcrumb\"><div class=\"container\"><div class=\"breadcrumb clearfix\"> <a class=\"home\" href=\"https://extremetechcr.com/tienda/\" title=\"Vuelve a casa\">Inicio</a> <span class=\"navigation-pipe\">&gt;</span> <span class=\"navigation_page\"><span itemscope=\"\" itemtype=\"http://data-vocabulary.org/Breadcrumb\"><a href=\"https://extremetechcr.com/tienda/29-perifericos\" itemprop=\"url\" title=\"PERIFERICOS\"><span itemprop=\"title\">PERIFERICOS</span></a></span><span class=\"navigation-pipe\">&gt;</span>TECLADOS</span></div></div></div> <section class=\"columns-container\" id=\"columns\"><div class=\"container\"><div class=\"row\"> <section class=\"column sidebar col-md-3 accordion\" id=\"left_column\"><div class=\"block\" id=\"layered_block_left\"><h4 class=\"title_block\">Catálogo</h4><div class=\"block_content\" style=\"display: none;\"><form action=\"#\" id=\"layered_form\"><div><div id=\"enabled_filters\"> <span class=\"layered_subtitle\" style=\"float: none;\"> filtros habilitados: </span><ul></ul></div><div class=\"layered_price\" style=\"\"><div class=\"layered_subtitle_heading\"> <span class=\"layered_subtitle\">Precio</span></div><ul class=\"col-lg-12 layered_filter_ul\" id=\"ul_layered_price_0\"> <label for=\"price\"> Rango: </label> <span id=\"layered_price_range\">₡2,900 - ₡139,000</span><div class=\"layered_slider_container\"><div aria-disabled=\"false\" class=\"layered_slider ui-slider ui-slider-horizontal ui-widget ui-widget-content ui-corner-all\" data-format=\"1\" data-type=\"price\" data-unit=\"₡\" id=\"layered_price_slider\"><div class=\"ui-slider-range ui-widget-header ui-corner-all\" style=\"left: 0%; width: 100%;\"></div><a class=\"ui-slider-handle ui-state-default ui-corner-all\" href=\"#\" style=\"left: 0%;\"></a><a class=\"ui-slider-handle ui-state-default ui-corner-all\" href=\"#\" style=\"left: 100%;\"></a></div></div></ul></div><div class=\"layered_filter\"><div class=\"layered_subtitle_heading\"> <span class=\"layered_subtitle\">Marca</span></div><ul class=\"col-lg-12 layered_filter_ul\" id=\"ul_layered_id_attribute_group_1\"><li class=\"nomargin hiddable col-lg-12\"> <input class=\"checkbox\" id=\"layered_id_attribute_group_92\" name=\"layered_id_attribute_group_92\" type=\"checkbox\" value=\"92_1\"/> <label for=\"layered_id_attribute_group_92\"> <a href=\"https://extremetechcr.com/tienda/30-teclados#marca-logitech\">LOGITECH<span> (51)</span></a> </label></li><li class=\"nomargin hiddable col-lg-12\"> <input class=\"checkbox\" id=\"layered_id_attribute_group_96\" name=\"layered_id_attribute_group_96\" type=\"checkbox\" value=\"96_1\"/> <label for=\"layered_id_attribute_group_96\"> <a href=\"https://extremetechcr.com/tienda/30-teclados#marca-razer\">RAZER<span> (22)</span></a> </label></li><li class=\"nomargin hiddable col-lg-12\"> <input class=\"checkbox\" id=\"layered_id_attribute_group_72\" name=\"layered_id_attribute_group_72\" type=\"checkbox\" value=\"72_1\"/> <label for=\"layered_id_attribute_group_72\"> <a href=\"https://extremetechcr.com/tienda/30-teclados#marca-hyperx\">HYPERX<span> (6)</span></a> </label></li><li class=\"nomargin hiddable col-lg-12\"> <input class=\"checkbox\" id=\"layered_id_attribute_group_74\" name=\"layered_id_attribute_group_74\" type=\"checkbox\" value=\"74_1\"/> <label for=\"layered_id_attribute_group_74\"> <a href=\"https://extremetechcr.com/tienda/30-teclados#marca-corsair\">CORSAIR<span> (12)</span></a> </label></li><li class=\"nomargin hiddable col-lg-12\"> <input class=\"checkbox\" id=\"layered_id_attribute_group_71\" name=\"layered_id_attribute_group_71\" type=\"checkbox\" value=\"71_1\"/> <label for=\"layered_id_attribute_group_71\"> <a href=\"https://extremetechcr.com/tienda/30-teclados#marca-msi\">MSI<span> (2)</span></a> </label></li><li class=\"nomargin hiddable col-lg-12\"> <input class=\"checkbox\" id=\"layered_id_attribute_group_223\" name=\"layered_id_attribute_group_223\" type=\"checkbox\" value=\"223_1\"/> <label for=\"layered_id_attribute_group_223\"> <a href=\"https://extremetechcr.com/tienda/30-teclados#marca-redragon\">REDRAGON<span> (28)</span></a> </label></li><li class=\"nomargin hiddable col-lg-12\"> <input class=\"checkbox\" id=\"layered_id_attribute_group_580\" name=\"layered_id_attribute_group_580\" type=\"checkbox\" value=\"580_1\"/> <label for=\"layered_id_attribute_group_580\"> <a href=\"https://extremetechcr.com/tienda/30-teclados#marca-checkpoint\">CHECKPOINT<span> (1)</span></a> </label></li><li class=\"nomargin hiddable col-lg-12\"> <input class=\"checkbox\" id=\"layered_id_attribute_group_212\" name=\"layered_id_attribute_group_212\" type=\"checkbox\" value=\"212_1\"/> <label for=\"layered_id_attribute_group_212\"> <a href=\"https://extremetechcr.com/tienda/30-teclados#marca-x_tech\">X-TECH<span> (1)</span></a> </label></li><li class=\"nomargin hiddable col-lg-12\"> <input class=\"checkbox\" id=\"layered_id_attribute_group_337\" name=\"layered_id_attribute_group_337\" type=\"checkbox\" value=\"337_1\"/> <label for=\"layered_id_attribute_group_337\"> <a href=\"https://extremetechcr.com/tienda/30-teclados#marca-klip\">KLIP<span> (2)</span></a> </label></li><li class=\"nomargin hiddable col-lg-12\"> <input class=\"checkbox\" id=\"layered_id_attribute_group_423\" name=\"layered_id_attribute_group_423\" type=\"checkbox\" value=\"423_1\"/> <label for=\"layered_id_attribute_group_423\"> <a href=\"https://extremetechcr.com/tienda/30-teclados#marca-ducky\">DUCKY<span> (59)</span></a> </label></li><li class=\"nomargin hiddable col-lg-12\"> <input class=\"checkbox\" id=\"layered_id_attribute_group_450\" name=\"layered_id_attribute_group_450\" type=\"checkbox\" value=\"450_1\"/> <label for=\"layered_id_attribute_group_450\"> <a href=\"https://extremetechcr.com/tienda/30-teclados#marca-argom\">Argom<span> (4)</span></a> </label></li><li class=\"nomargin hiddable col-lg-12\"> <input class=\"checkbox\" id=\"layered_id_attribute_group_470\" name=\"layered_id_attribute_group_470\" type=\"checkbox\" value=\"470_1\"/> <label for=\"layered_id_attribute_group_470\"> <a href=\"https://extremetechcr.com/tienda/30-teclados#marca-el_gato\">El GATO<span> (6)</span></a> </label></li><li class=\"nomargin hiddable col-lg-12\"> <input class=\"checkbox\" id=\"layered_id_attribute_group_494\" name=\"layered_id_attribute_group_494\" type=\"checkbox\" value=\"494_1\"/> <label for=\"layered_id_attribute_group_494\"> <a href=\"https://extremetechcr.com/tienda/30-teclados#marca-primus\">PRIMUS<span> (3)</span></a> </label></li><li class=\"nomargin hiddable col-lg-12\"> <input class=\"checkbox\" id=\"layered_id_attribute_group_625\" name=\"layered_id_attribute_group_625\" type=\"checkbox\" value=\"625_1\"/> <label for=\"layered_id_attribute_group_625\"> <a href=\"https://extremetechcr.com/tienda/30-teclados#marca-unno\">UNNO<span> (3)</span></a> </label></li><li class=\"nomargin hiddable col-lg-12\"> <input class=\"checkbox\" id=\"layered_id_attribute_group_777\" name=\"layered_id_attribute_group_777\" type=\"checkbox\" value=\"777_1\"/> <label for=\"layered_id_attribute_group_777\"> <a href=\"https://extremetechcr.com/tienda/30-teclados#marca-boetec\">BOETEC<span> (1)</span></a> </label></li></ul></div><div class=\"layered_filter\"><div class=\"layered_subtitle_heading\"> <span class=\"layered_subtitle\">Tipo de Teclado</span></div><ul class=\"col-lg-12 layered_filter_ul\" id=\"ul_layered_id_attribute_group_17\"><li class=\"nomargin hiddable col-lg-12\"> <input class=\"checkbox\" id=\"layered_id_attribute_group_7\" name=\"layered_id_attribute_group_7\" type=\"checkbox\" value=\"7_17\"/> <label for=\"layered_id_attribute_group_7\"> <a href=\"https://extremetechcr.com/tienda/30-teclados#tipo_de_teclado-membrana\">Membrana<span> (35)</span></a> </label></li><li class=\"nomargin hiddable col-lg-12\"> <input class=\"checkbox\" id=\"layered_id_attribute_group_8\" name=\"layered_id_attribute_group_8\" type=\"checkbox\" value=\"8_17\"/> <label for=\"layered_id_attribute_group_8\"> <a href=\"https://extremetechcr.com/tienda/30-teclados#tipo_de_teclado-mecanico\">Mecanico<span> (145)</span></a> </label></li></ul></div><div class=\"layered_filter\"><div class=\"layered_subtitle_heading\"> <span class=\"layered_subtitle\">Interfaz</span></div><ul class=\"col-lg-12 layered_filter_ul\" id=\"ul_layered_id_attribute_group_24\"><li class=\"nomargin hiddable col-lg-12\"> <input class=\"checkbox\" id=\"layered_id_attribute_group_199\" name=\"layered_id_attribute_group_199\" type=\"checkbox\" value=\"199_24\"/> <label for=\"layered_id_attribute_group_199\"> <a href=\"https://extremetechcr.com/tienda/30-teclados#interfaz-inalambrico\">Inalambrico<span> (2)</span></a> </label></li></ul></div><div class=\"layered_filter\"><div class=\"layered_subtitle_heading\"> <span class=\"layered_subtitle\">LED</span></div><ul class=\"col-lg-12 layered_filter_ul\" id=\"ul_layered_id_attribute_group_26\"><li class=\"nomargin hiddable col-lg-12\"> <input class=\"checkbox\" id=\"layered_id_attribute_group_128\" name=\"layered_id_attribute_group_128\" type=\"checkbox\" value=\"128_26\"/> <label for=\"layered_id_attribute_group_128\"> <a href=\"https://extremetechcr.com/tienda/30-teclados#led-blanco\">Blanco<span> (3)</span></a> </label></li><li class=\"nomargin hiddable col-lg-12\"> <input class=\"checkbox\" id=\"layered_id_attribute_group_129\" name=\"layered_id_attribute_group_129\" type=\"checkbox\" value=\"129_26\"/> <label for=\"layered_id_attribute_group_129\"> <a href=\"https://extremetechcr.com/tienda/30-teclados#led-rgb\">RGB<span> (151)</span></a> </label></li></ul></div><div class=\"layered_filter\"><div class=\"layered_subtitle_heading\"> <span class=\"layered_subtitle\">Conexion</span></div><ul class=\"col-lg-12 layered_filter_ul\" id=\"ul_layered_id_attribute_group_29\"><li class=\"nomargin hiddable col-lg-12\"> <input class=\"checkbox\" id=\"layered_id_attribute_group_150\" name=\"layered_id_attribute_group_150\" type=\"checkbox\" value=\"150_29\"/> <label for=\"layered_id_attribute_group_150\"> <a href=\"https://extremetechcr.com/tienda/30-teclados#conexion-usb\">USB<span> (14)</span></a> </label></li><li class=\"nomargin hiddable col-lg-12\"> <input class=\"checkbox\" id=\"layered_id_attribute_group_151\" name=\"layered_id_attribute_group_151\" type=\"checkbox\" value=\"151_29\"/> <label for=\"layered_id_attribute_group_151\"> <a href=\"https://extremetechcr.com/tienda/30-teclados#conexion-wireless\">Wireless<span> (43)</span></a> </label></li></ul></div><div class=\"layered_filter\"><div class=\"layered_subtitle_heading\"> <span class=\"layered_subtitle\">Tipo de Switch</span></div><ul class=\"col-lg-12 layered_filter_ul\" id=\"ul_layered_id_attribute_group_34\"><li class=\"nomargin hiddable col-lg-12\"> <input class=\"checkbox\" id=\"layered_id_attribute_group_297\" name=\"layered_id_attribute_group_297\" type=\"checkbox\" value=\"297_34\"/> <label for=\"layered_id_attribute_group_297\"> <a href=\"https://extremetechcr.com/tienda/30-teclados#tipo_de_switch-outemu_purple\">Outemu Purple<span> (1)</span></a> </label></li></ul></div></div> <input name=\"id_category_layered\" type=\"hidden\" value=\"30\"/></form></div><div id=\"layered_ajax_loader\" style=\"display: none;\"><p> <img alt=\"\" src=\"https://extremetechcr.com/tienda/img/loader.gif\"/> <br/>Cargando ...</p></div></div> </section> <section class=\"col-md-9\" id=\"center_column\"><h1 class=\"page-heading\"> <span class=\"cat-name\"> TECLADOS  </span></h1><div class=\"content_scene_cat\"><div class=\"content_scene_cat_bg scene_cat\"><div class=\"image\"> <img alt=\"TECLADOS\" class=\"img-responsive\" id=\"categoryImage\" src=\"https://extremetechcr.com/tienda/c/30-category_default/teclados.jpg\" title=\"TECLADOS\"/></div></div></div> <small class=\"heading-counter\">Hay 200 productos</small> </section></div></div> </section> <footer class=\"footer-container accordion\" id=\"footer\"><div class=\"container\"><div class=\"row ApRow\" style=\"\"><div class=\"footer_about block col-lg-6 col-md-3 col-sm-6 col-xs-12 col-sp-12 ApColumn\"><h4 class=\"title_block\">Nuestras Tiendas</h4><div class=\"block ApImage\" id=\"image-form_8068792148421278\"> <img alt=\"\" class=\"img-responsive\" src=\"/tienda/themes/leo_computer/img/modules/appagebuilder/images/foto tienda.jpg\" style=\" width:auto; height:auto\" title=\"Nuestra Tienda\"/><div class=\"image_description\"><p></p><p><strong>Heredia - Plaza Heredia</strong></p><ul><li>Centro Comercial Plaza Heredia</li><li>Horario: Lunes a Sábado 9 AM a 7 PM / Domingo 10 AM a 6 PM</li></ul><p><strong>Heredia - Plaza San Francisco</strong></p><ul><li>Plaza San Francisco - Contiguo a Mall Oxígeno</li><li>Horario: Lunes a Sábado 9 AM a 7 PM / Domingo 10 AM a 6 PM</li></ul><p><strong>San José</strong></p><ul><li>De la Entrada del Barrio Chino, Avenida Segunda, 50 m al Norte, Comercial Nueva Era</li><li>Horario: Lunes a Sábado 9 AM a 7 PM / Domingo 10 AM a 6 PM</li></ul><p><strong>San Pedro</strong></p><ul><li>250 m Este del Banco Nacional de San Pedro</li><li>Horario: Lunes a Sábado 9 AM a 7 PM / Domingo 10 AM a 6 PM</li></ul><p><strong>Cartago</strong></p><ul><li>Costado Oeste del Banco de Costa Rica / 50 m Sur de la Iglesia del Carmen</li><li>Horario: Lunes a Sábado 9 AM a 7 PM / Domingo 10 AM a 6 PM</li></ul><p><strong>Alajuela</strong></p><ul><li>150 m Sur de la Tienda Llobet. Diagonal al Parque de los Niños</li><li>Horario: Lunes a Sábado 9 AM a 7 PM / Domingo 10 AM a 6 PM</li></ul><p><strong>Escazú</strong></p><ul><li>Plaza Florencia - Guachipelín. 300 m Norte de Centro Comercial Paco. Locales 6 y 7</li><li>Horario: Lunes a Sábado 9 AM a 7 PM / Domingo 10 AM a 6 PM</li></ul><p><strong>Desamparados</strong></p><ul><li>125 m Este de la Municipalidad. Contiguo a Coopeservidores</li><li>Horario: Lunes a Sábado 9 AM a 6 PM / Domingo 10 AM a 6 PM</li></ul></div></div></div><div class=\"footer_about block col-lg-6 col-md-3 col-sm-6 col-xs-12 col-sp-12 ApColumn\"><h4 class=\"title_block\">Nuestras Tiendas</h4><div class=\"block ApImage\" id=\"image-form_1639097680653247\"> <img alt=\"\" class=\"img-responsive\" src=\"/tienda/themes/leo_computer/img/modules/appagebuilder/images/foto tienda.jpg\" style=\" width:auto; height:auto\" title=\"\"/><div class=\"image_description\"><p></p><p><strong>S<strong>an Ramón</strong></strong></p><ul><li><span>Plaza Comercial San Ramón IPB - Frente a Gasolinera Chury</span></li><li>Horario: Lunes a Sábado 9 AM a 7 PM / <span><span>Domingo 10 AM a 6 PM</span></span></li></ul><p><strong>Guápiles</strong></p><ul><li>75 m Este de Correos de Costa Rica</li><li>Horario: Lunes a Sábado 9 AM a 7 PM / Domingo Cerrado</li></ul><p><strong>Perez Zeledón</strong></p><ul><li><span>De los Tribunales de Justicia 200 m Sur Este (Frente a la Y Griega)<br/></span></li><li><span>Horario: Lunes a Sábado 9 AM a 7 PM / Domingo Cerrado</span></li></ul><p><strong>San Carlos</strong></p><ul><li>Ciudad Quesada. De la esquina Noreste del Parque Central 400 m Norte y 20 m Este</li><li>Horario: Lunes a Sábado 9 AM a 7 PM / Domingo Cerrado</li></ul><p><strong>Heredia - La Valencia</strong></p><ul><li>Ofibodegas la Valencia. Local #3. Diagonal a Gasolinera Ruta 20. La Valencia, Heredia.</li><li>Horario: Lunes a Sábado 9 AM a 6 PM / Domingo Cerrado</li></ul><p><strong>Extreme Outlet - San Pedro</strong></p><ul><li><span>225 m Este del Banco Nacional de San Pedro / <strong><a href=\"http://www.extremeoutletcr.com\">www.extremeoutletcr.com</a></strong></span></li><li>Horario: Lunes a Sábado 9 AM a 6 PM / Domingo Cerrado</li></ul><p><strong>Techzilla - <a href=\"https://bit.ly/3FxzpFS\">www.techzilla.cr</a></strong></p><ul><li>200 metros N de Walmart Tibás, frente a Gasolinera JSM</li><li>Horario: Lunes a Sábado 9 AM a 6 PM / Domingo Cerrado</li></ul><p><strong>Ventas Corporativas</strong></p><ul><li>Teléfono: 4350-1111 / Correo Electrónico: <strong>ventascorporativas@extremetechcr.com</strong></li><li>Horario: Lunes a Viernes 8 AM a 6 PM / Sábado y Domingo Cerrado</li></ul><p></p><p></p><p></p><p></p><p></p><p></p><p></p><p></p><div id=\"gtx-trans\" style=\"position: absolute; left: 315px; top: 96.4px;\"><div class=\"gtx-trans-icon\"></div></div></div></div></div><div class=\"col-lg-12 col-md-3 col-sm-12 col-xs-12 col-sp-12 ApColumn\"><div class=\"widget-facebook block\"><div class=\"fb_reset\" id=\"fb-root\"><div style=\"position: absolute; top: -10000px; width: 0px; height: 0px;\"><div></div></div></div> <script type=\"text/javascript\">// Check avoid include duplicate library Facebook SDK\n",
       "    if($(\"#facebook-jssdk\").length == 0) {\n",
       "        (function(d, s, id) {\n",
       "          var js, fjs = d.getElementsByTagName(s)[0];\n",
       "          if (d.getElementById(id)) return;\n",
       "          js = d.createElement(s); js.id = id;\n",
       "          js.src = \"//connect.facebook.net/en_US/sdk.js#xfbml=1&version=v2.0\";\n",
       "          fjs.parentNode.insertBefore(js, fjs);\n",
       "        }(document, 'script', 'facebook-jssdk'));\n",
       "    }</script> <div class=\"fb-like-box fb_iframe_widget\" data-colorscheme=\"dark\" data-header=\"true\" data-height=\"683\" data-href=\"https://www.facebook.com/extremetechcr\" data-show-border=\"true\" data-show-faces=\"true\" data-stream=\"true\" data-width=\"1900\" fb-iframe-plugin-query=\"app_id=&amp;color_scheme=dark&amp;container_width=752&amp;header=true&amp;height=683&amp;href=https%3A%2F%2Fwww.facebook.com%2Fextremetechcr&amp;locale=en_US&amp;sdk=joey&amp;show_border=true&amp;show_faces=true&amp;stream=true&amp;width=1900\" fb-xfbml-state=\"rendered\"><span style=\"vertical-align: bottom; width: 500px; height: 683px;\"><iframe allow=\"encrypted-media\" allowfullscreen=\"true\" allowtransparency=\"true\" class=\"\" data-testid=\"fb:like_box Facebook Social Plugin\" frameborder=\"0\" height=\"683px\" name=\"ff37d4df05d5b1092\" scrolling=\"no\" src=\"https://www.facebook.com/v2.0/plugins/like_box.php?app_id=&amp;channel=https%3A%2F%2Fstaticxx.facebook.com%2Fx%2Fconnect%2Fxd_arbiter%2F%3Fversion%3D46%23cb%3Df3e7754ea6e34915a%26domain%3Dextremetechcr.com%26is_canvas%3Dfalse%26origin%3Dhttps%253A%252F%252Fextremetechcr.com%252Ffcf913e5defdf9382%26relation%3Dparent.parent&amp;color_scheme=dark&amp;container_width=752&amp;header=true&amp;height=683&amp;href=https%3A%2F%2Fwww.facebook.com%2Fextremetechcr&amp;locale=en_US&amp;sdk=joey&amp;show_border=true&amp;show_faces=true&amp;stream=true&amp;width=1900\" style=\"border: none; visibility: visible; width: 500px; height: 683px;\" title=\"fb:like_box Facebook Social Plugin\" width=\"1900px\"></iframe></span></div></div></div></div><div class=\"wrapper\"><div class=\"footer_bottom\"><div class=\"row ApRow has-bg bg-boxed\" data-bg=\" no-repeat\" style=\"background: no-repeat;\"><div class=\"col-md-6 col-lg-6 ApColumn\"><div class=\"ApHtml block\"><div class=\"block_content\"> <section><ul><li style=\"display: inline; width: 100px; height: 100px; padding: 5px;\"><span><a href=\"#\">Privacidad</a></span></li><li style=\"display: inline; width: 100px; height: 100px; padding: 5px;\"><span><a href=\"/tienda/content/3-terminos-y-condiciones-de-uso\">Términos y Condiciones</a></span></li></ul></section></div></div></div><div class=\"col-md-6 col-lg-6 ApColumn\"><div class=\"ApHtml block\"><div class=\"block_content\"> <section><ul><li style=\"display: inline; width: 100px; height: 100px; padding: 5px;\"><span style=\"float: right;\">Copyright@ <a href=\"#\">Extreme Tech Costa Rica </a> </span></li></ul></section></div></div></div></div></div></div> <script type=\"text/javascript\">var leoOption = {\n",
       "\t\tproductNumber:0,\n",
       "\t\tproductInfo:1,\n",
       "\t\tproductTran:1,\n",
       "\t\tproductCdown: 1,\n",
       "\t\tproductColor: 1,\n",
       "\t\thomeWidth: 502,\n",
       "\t\thomeheight: 490,\n",
       "\t}\n",
       "\n",
       "        $(document).ready(function(){\t\n",
       "            var leoCustomAjax = new $.LeoCustomAjax();\n",
       "            leoCustomAjax.processAjax();\n",
       "        });\n",
       "\t// Javascript code</script> <script type=\"text/javascript\">ga('send', 'pageview');</script> </div> </footer> </section><p id=\"back-top\" style=\"display: block;\"> <a href=\"#top\" title=\"Ir Al Inicio\"><i class=\"fa fa-angle-up\"></i>Cima</a></p>\n",
       "<script>(function(){function c(){var b=a.contentDocument||a.contentWindow.document;if(b){var d=b.createElement('script');d.innerHTML=\"window.__CF$cv$params={r:'93f36a867b730341',t:'MTc0NzE1MjUyMy4wMDAwMDA='};var a=document.createElement('script');a.nonce='';a.src='/cdn-cgi/challenge-platform/scripts/jsd/main.js';document.getElementsByTagName('head')[0].appendChild(a);\";b.getElementsByTagName('head')[0].appendChild(d)}}if(document.body){var a=document.createElement('iframe');a.height=1;a.width=1;a.style.position='absolute';a.style.top=0;a.style.left=0;a.style.border='none';a.style.visibility='hidden';document.body.appendChild(a);if('loading'!==document.readyState)c();else if(window.addEventListener)document.addEventListener('DOMContentLoaded',c);else{var e=document.onreadystatechange||function(){};document.onreadystatechange=function(b){e(b);'loading'!==document.readyState&&(document.onreadystatechange=e,c())}}}})();</script><iframe height=\"1\" style=\"position: absolute; top: 0px; left: 0px; border: none; visibility: hidden;\" width=\"1\"></iframe><section class=\"leo-megamenu\" id=\"off-canvas-nav\"><nav class=\"offcanvas-mainnav\" style=\"min-height: 760px;\"><div id=\"off-canvas-button\"><span class=\"off-canvas-nav\"></span>Cerrar</div><ul class=\"nav navbar-nav megamenu\"><li class=\"parent dropdown\"><a class=\"dropdown-toggle has-category\" data-toggle=\"dropdown\" href=\"https://extremetechcr.com/tienda/36-computadoras\" target=\"_self\"><span class=\"menu-title\">Computadoras</span><b class=\"caret\"></b></a><div class=\"dropdown-menu level1\"><div class=\"dropdown-menu-inner\"><div class=\"row\"><div class=\"col-sm-12 mega-col\" data-colwidth=\"12\" data-type=\"menu\"><div class=\"inner\"><ul><li class=\"\"><a href=\"https://extremetechcr.com/tienda/37-gaming\"><span class=\"menu-title\">Gaming</span></a></li><li class=\"\"><a href=\"https://extremetechcr.com/tienda/92-combos-kits\"><span class=\"menu-title\">Combos / Kits</span></a></li><li class=\"\"><a href=\"https://extremetechcr.com/tienda/38-hogar-y-oficina\"><span class=\"menu-title\">Hogar y Oficina</span></a></li><li class=\"parent dropdown-submenu\"><a class=\"dropdown-toggle\" data-toggle=\"dropdown\" href=\"https://extremetechcr.com/tienda/39-laptop\"><span class=\"menu-title\">Laptop</span><b class=\"caret\"></b></a><div class=\"dropdown-menu level2\"><div class=\"dropdown-menu-inner\"><div class=\"row\"><div class=\"col-sm-12 mega-col\" data-colwidth=\"12\" data-type=\"menu\"><div class=\"inner\"><ul><li class=\"\"><a href=\"https://extremetechcr.com/tienda/155-accesorios\"><span class=\"menu-title\">Accesorios</span></a></li></ul></div></div></div></div></div></li><li class=\"\"><a href=\"http://www.extremeoutletcr.com\"><span class=\"menu-title\">Laptops Usadas</span></a></li><li class=\"\"><a href=\"https://extremetechcr.com/tienda/233-tablets\"><span class=\"menu-title\">Tablets</span></a></li><li class=\"\"><a href=\"https://extremetechcr.com/tienda/147-tablet-dibujo\"><span class=\"menu-title\">Tablets Diseño</span></a></li><li class=\"\"><a href=\"https://extremetechcr.com/tienda/160-punto-de-venta\"><span class=\"menu-title\">Punto de Venta</span></a></li><li class=\"\"><a href=\"https://extremetechcr.com/tienda/236-consolas\"><span class=\"menu-title\">Consolas</span></a></li></ul></div></div></div></div></div></li><li class=\"parent dropdown\"><a class=\"dropdown-toggle has-category\" data-toggle=\"dropdown\" href=\"https://extremetechcr.com/tienda/12-componentes\" target=\"_self\"><span class=\"menu-title\">Componentes</span><b class=\"caret\"></b></a><div class=\"dropdown-menu level1\"><div class=\"dropdown-menu-inner\"><div class=\"row\"><div class=\"col-sm-12 mega-col\" data-colwidth=\"12\" data-type=\"menu\"><div class=\"inner\"><ul><li class=\"parent dropdown-submenu\"><a class=\"dropdown-toggle\" data-toggle=\"dropdown\" href=\"https://extremetechcr.com/tienda/13-procesadores\"><span class=\"menu-title\">Procesadores</span><b class=\"caret\"></b></a><div class=\"dropdown-menu level2\"><div class=\"dropdown-menu-inner\"><div class=\"row\"><div class=\"col-sm-12 mega-col\" data-colwidth=\"12\" data-type=\"menu\"><div class=\"inner\"><ul><li class=\"\"><a href=\"https://extremetechcr.com/tienda/14-procesadores-amd\"><span class=\"menu-title\">Procesadores AMD</span></a></li><li class=\"\"><a href=\"https://extremetechcr.com/tienda/15-procesadores-intel\"><span class=\"menu-title\">Procesadores Intel</span></a></li></ul></div></div></div></div></div></li><li class=\"\"><a href=\"https://extremetechcr.com/tienda/16-tarjeta-madre\"><span class=\"menu-title\">Tarjeta Madre</span></a></li><li class=\"parent dropdown-submenu\"><a class=\"dropdown-toggle\" data-toggle=\"dropdown\" href=\"https://extremetechcr.com/tienda/17-memoria-ram\"><span class=\"menu-title\">Memoria RAM</span><b class=\"caret\"></b></a><div class=\"dropdown-menu level2\"><div class=\"dropdown-menu-inner\"><div class=\"row\"><div class=\"col-sm-12 mega-col\" data-colwidth=\"12\" data-type=\"menu\"><div class=\"inner\"><ul><li class=\"\"><a href=\"https://extremetechcr.com/tienda/112-memoria-laptop\"><span class=\"menu-title\">Memoria Laptop</span></a></li></ul></div></div></div></div></div></li><li class=\"\"><a href=\"https://extremetechcr.com/tienda/18-tarjetas-de-video\"><span class=\"menu-title\">Tarjetas de Video</span></a></li><li class=\"parent dropdown-submenu\"><a class=\"dropdown-toggle\" data-toggle=\"dropdown\" href=\"https://extremetechcr.com/tienda/19-almacenamiento\"><span class=\"menu-title\">Almacenamiento</span><b class=\"caret\"></b></a><div class=\"dropdown-menu level2\"><div class=\"dropdown-menu-inner\"><div class=\"row\"><div class=\"col-sm-12 mega-col\" data-colwidth=\"12\" data-type=\"menu\"><div class=\"inner\"><ul><li class=\"\"><a href=\"https://extremetechcr.com/tienda/20-disco-duro\"><span class=\"menu-title\">Disco Duro</span></a></li><li class=\"\"><a href=\"https://extremetechcr.com/tienda/21-ssd\"><span class=\"menu-title\">SSD</span></a></li><li class=\"\"><a href=\"https://extremetechcr.com/tienda/41-disco-externo\"><span class=\"menu-title\">Disco Externo</span></a></li><li class=\"\"><a href=\"https://extremetechcr.com/tienda/22-memoria-flash\"><span class=\"menu-title\">Memoria Flash</span></a></li><li class=\"\"><a href=\"https://extremetechcr.com/tienda/113-unidades-dvd\"><span class=\"menu-title\">Unidades DVD</span></a></li></ul></div></div></div></div></div></li><li class=\"parent dropdown-submenu\"><a class=\"dropdown-toggle\" data-toggle=\"dropdown\" href=\"https://extremetechcr.com/tienda/23-enfriamiento\"><span class=\"menu-title\">Enfriamiento</span><b class=\"caret\"></b></a><div class=\"dropdown-menu level2\"><div class=\"dropdown-menu-inner\"><div class=\"row\"><div class=\"col-sm-12 mega-col\" data-colwidth=\"12\" data-type=\"menu\"><div class=\"inner\"><ul><li class=\"\"><a href=\"https://extremetechcr.com/tienda/89-enfriamiento-liquido\"><span class=\"menu-title\">Enfriamiento Liquido</span></a></li><li class=\"\"><a href=\"https://extremetechcr.com/tienda/90-enfriamiento-aire\"><span class=\"menu-title\">Enfriamiento Aire</span></a></li><li class=\"\"><a href=\"https://extremetechcr.com/tienda/101-laptops\"><span class=\"menu-title\">Enfriamiento Laptops</span></a></li><li class=\"\"><a href=\"https://bit.ly/3DsMwW6\"><span class=\"menu-title\">Enfriamiento Liquido Personalizado</span></a></li></ul></div></div></div></div></div></li><li class=\"\"><a href=\"https://extremetechcr.com/tienda/24-fuentes-de-poder\"><span class=\"menu-title\">Fuentes de Poder</span></a></li><li class=\"parent dropdown-submenu\"><a class=\"dropdown-toggle\" data-toggle=\"dropdown\" href=\"https://extremetechcr.com/tienda/25-cases\"><span class=\"menu-title\">Cases</span><b class=\"caret\"></b></a><div class=\"dropdown-menu level2\"><div class=\"dropdown-menu-inner\"><div class=\"row\"><div class=\"col-sm-12 mega-col\" data-colwidth=\"12\" data-type=\"menu\"><div class=\"inner\"><ul><li class=\"\"><a href=\"https://extremetechcr.com/tienda/117-accesorios-case\"><span class=\"menu-title\">Accesorios</span></a></li></ul></div></div></div></div></div></li><li class=\"\"><a href=\"https://extremetechcr.com/tienda/26-ventiladores\"><span class=\"menu-title\">Ventiladores</span></a></li><li class=\"parent dropdown-submenu\"><a class=\"dropdown-toggle\" data-toggle=\"dropdown\" href=\"https://extremetechcr.com/tienda/27-monitores\"><span class=\"menu-title\">Monitores</span><b class=\"caret\"></b></a><div class=\"dropdown-menu level2\"><div class=\"dropdown-menu-inner\"><div class=\"row\"><div class=\"col-sm-12 mega-col\" data-colwidth=\"12\" data-type=\"menu\"><div class=\"inner\"><ul><li class=\"\"><a href=\"https://extremetechcr.com/tienda/157-accesorios\"><span class=\"menu-title\">Accesorios</span></a></li></ul></div></div></div></div></div></li><li class=\"\"><a href=\"https://extremetechcr.com/tienda/28-reguladores-y-ups\"><span class=\"menu-title\">Reguladores y UPS</span></a></li></ul></div></div></div></div></div></li><li class=\"parent dropdown\"><a class=\"dropdown-toggle has-category\" data-toggle=\"dropdown\" href=\"https://extremetechcr.com/tienda/29-perifericos\" target=\"_self\"><span class=\"menu-title\">Perifericos</span><b class=\"caret\"></b></a><div class=\"dropdown-menu level1\"><div class=\"dropdown-menu-inner\"><div class=\"row\"><div class=\"col-sm-12 mega-col\" data-colwidth=\"12\" data-type=\"menu\"><div class=\"inner\"><ul><li class=\"\"><a href=\"https://extremetechcr.com/tienda/30-teclados\"><span class=\"menu-title\">Teclados</span></a></li><li class=\"\"><a href=\"https://extremetechcr.com/tienda/31-mouse\"><span class=\"menu-title\">Mouse</span></a></li><li class=\"\"><a href=\"https://extremetechcr.com/tienda/32-combos-gaming\"><span class=\"menu-title\">Combos Gaming</span></a></li><li class=\"\"><a href=\"https://extremetechcr.com/tienda/33-headset\"><span class=\"menu-title\">Headset</span></a></li><li class=\"\"><a href=\"https://extremetechcr.com/tienda/34-mousepad\"><span class=\"menu-title\">Mousepad</span></a></li><li class=\"\"><a href=\"https://extremetechcr.com/tienda/76-controles\"><span class=\"menu-title\">Controles</span></a></li><li class=\"\"><a href=\"https://extremetechcr.com/tienda/86-parlantes\"><span class=\"menu-title\">Parlantes</span></a></li><li class=\"\"><a href=\"https://extremetechcr.com/tienda/140-webcam\"><span class=\"menu-title\">Webcam</span></a></li><li class=\"\"><a href=\"https://extremetechcr.com/tienda/145-audio\"><span class=\"menu-title\">Microfonos</span></a></li><li class=\"\"><a href=\"https://extremetechcr.com/tienda/206-streaming\"><span class=\"menu-title\">Streaming</span></a></li><li class=\"\"><a href=\"https://extremetechcr.com/tienda/159-impresoras\"><span class=\"menu-title\">Impresoras</span></a></li><li class=\"\"><a href=\"https://extremetechcr.com/tienda/242-sim-racing\"><span class=\"menu-title\">SIM RACING</span></a></li></ul></div></div></div></div></div></li><li class=\"parent dropdown\"><a class=\"dropdown-toggle has-category\" data-toggle=\"dropdown\" href=\"https://extremetechcr.com/tienda/77-accesorios\" target=\"_self\"><span class=\"menu-title\">Accesorios</span><b class=\"caret\"></b></a><div class=\"dropdown-menu level1\"><div class=\"dropdown-menu-inner\"><div class=\"row\"><div class=\"col-sm-12 mega-col\" data-colwidth=\"12\" data-type=\"menu\"><div class=\"inner\"><ul><li class=\"\"><a href=\"https://extremetechcr.com/tienda/78-adaptadores\"><span class=\"menu-title\">Adaptadores</span></a></li><li class=\"\"><a href=\"https://extremetechcr.com/tienda/79-cables\"><span class=\"menu-title\">Cables</span></a></li><li class=\"\"><a href=\"https://extremetechcr.com/tienda/85-encapsuladores\"><span class=\"menu-title\">Encapsuladores</span></a></li><li class=\"\"><a href=\"https://extremetechcr.com/tienda/80-extensiones\"><span class=\"menu-title\">Extensiones</span></a></li><li class=\"\"><a href=\"https://extremetechcr.com/tienda/144-herramientas\"><span class=\"menu-title\">Herramientas</span></a></li><li class=\"\"><a href=\"https://extremetechcr.com/tienda/81-led\"><span class=\"menu-title\">LED</span></a></li><li class=\"\"><a href=\"https://extremetechcr.com/tienda/82-control-de-ventiladores\"><span class=\"menu-title\">Control de Ventiladores</span></a></li><li class=\"\"><a href=\"https://extremetechcr.com/tienda/83-pasta-termica\"><span class=\"menu-title\">Pasta Térmica</span></a></li><li class=\"\"><a href=\"https://extremetechcr.com/tienda/84-redes\"><span class=\"menu-title\">Redes</span></a></li><li class=\"\"><a href=\"https://extremetechcr.com/tienda/87-sillas-gamer\"><span class=\"menu-title\">Sillas Gamer</span></a></li><li class=\"\"><a href=\"https://extremetechcr.com/tienda/242-sim-racing\"><span class=\"menu-title\">SIM RACING</span></a></li></ul></div></div></div></div></div></li><li class=\"parent dropdown\"><a class=\"dropdown-toggle has-category\" data-toggle=\"dropdown\" href=\"https://extremetechcr.com/tienda/35-celulares\" target=\"_self\"><span class=\"menu-title\">Celulares</span><b class=\"caret\"></b></a><div class=\"dropdown-menu level1\"><div class=\"dropdown-menu-inner\"><div class=\"row\"><div class=\"col-sm-12 mega-col\" data-colwidth=\"12\" data-type=\"menu\"><div class=\"inner\"><ul><li class=\"\"><a href=\"https://extremetechcr.com/tienda/108-one-plus\"><span class=\"menu-title\">One Plus</span></a></li><li class=\"\"><a href=\"https://extremetechcr.com/tienda/109-xiaomi\"><span class=\"menu-title\">Xiaomi</span></a></li><li class=\"\"><a href=\"https://extremetechcr.com/tienda/203-realme\"><span class=\"menu-title\">Realme</span></a></li><li class=\"\"><a href=\"https://extremetechcr.com/tienda/107-motorola\"><span class=\"menu-title\">Motorola</span></a></li><li class=\"\"><a href=\"https://extremetechcr.com/tienda/208-samsung\"><span class=\"menu-title\">Samsung</span></a></li><li class=\"\"><a href=\"https://extremetechcr.com/tienda/226-honor\"><span class=\"menu-title\">Honor</span></a></li><li class=\"\"><a href=\"https://extremetechcr.com/tienda/204-relojes\"><span class=\"menu-title\">Relojes</span></a></li><li class=\"\"><a href=\"https://extremetechcr.com/tienda/202-powerbank\"><span class=\"menu-title\">Powerbank</span></a></li><li class=\"\"><a href=\"https://extremetechcr.com/tienda/110-accesorios\"><span class=\"menu-title\">Accesorios</span></a></li></ul></div></div></div></div></div></li><li class=\"parent dropdown\"><a class=\"dropdown-toggle has-category\" data-toggle=\"dropdown\" href=\"\" target=\"_self\"><span class=\"menu-title\">MAS...</span><b class=\"caret\"></b></a><div class=\"dropdown-menu level1\"><div class=\"dropdown-menu-inner\"><div class=\"row\"><div class=\"col-sm-12 mega-col\" data-colwidth=\"12\" data-type=\"menu\"><div class=\"inner\"><ul><li class=\"\"><a href=\"https://extremetechcr.com/tienda/158-audio\"><span class=\"menu-title\">Audio</span></a></li><li class=\"\"><a href=\"https://extremetechcr.com/tienda/193-televisores\"><span class=\"menu-title\">Televisores</span></a></li><li class=\"\"><a href=\"https://extremetechcr.com/tienda/236-consolas\"><span class=\"menu-title\">Consolas</span></a></li><li class=\"\"><a href=\"https://extremetechcr.com/tienda/205-hogar-inteligente\"><span class=\"menu-title\">Smart Home</span></a></li><li class=\"\"><a href=\"https://extremetechcr.com/tienda/147-tablet-dibujo\"><span class=\"menu-title\">Tablets Dibujo</span></a></li><li class=\"\"><a href=\"https://extremetechcr.com/tienda/220-gopro\"><span class=\"menu-title\">GoPro</span></a></li><li class=\"\"><a href=\"https://extremetechcr.com/tienda/228-lentes\"><span class=\"menu-title\">Lentes Gunnar</span></a></li><li class=\"\"><a href=\"https://bit.ly/3h0Ma1B\"><span class=\"menu-title\">Techzilla</span></a></li></ul></div></div></div></div></div></li><li class=\"parent dropdown\"><a class=\"dropdown-toggle has-category\" data-toggle=\"dropdown\" href=\"https://extremetechcr.com/tienda/241-noviembre-negro-2024\" target=\"_self\"><span class=\"menu-title\">Verano 2025</span><b class=\"caret\"></b></a><div class=\"dropdown-menu level1\"><div class=\"dropdown-menu-inner\"><div class=\"row\"><div class=\"col-sm-12 mega-col\" data-colwidth=\"12\" data-type=\"menu\"><div class=\"inner\"><ul><li class=\"\"><a href=\"https://extremetechcr.com/tienda/243-navidad-razer-2024\"><span class=\"menu-title\">Promociones Razer</span></a></li><li class=\"\"><a href=\"https://extremetechcr.com/tienda/244-navidad-extrema-logitech-2024\"><span class=\"menu-title\">Promociones Logitech</span></a></li><li class=\"\"><a href=\"https://extremetechcr.com/tienda/236-consolas\"><span class=\"menu-title\">Consolas</span></a></li><li class=\"\"><a href=\"https://extremetechcr.com/tienda/242-sim-racing\"><span class=\"menu-title\">SIM RACING</span></a></li><li class=\"\"><a href=\"https://extremetechcr.com/tienda/224-promociones-epson\"><span class=\"menu-title\">Promociones Epson</span></a></li><li class=\"\"><a href=\"https://extremetechcr.com/tienda/37-gaming\"><span class=\"menu-title\">PCS Gaming</span></a></li></ul></div></div></div></div></div></li></ul></nav></section><iframe allowfullscreen=\"\" frameborder=\"0\" id=\"callbell-iframe\" scrolling=\"no\" style=\"position: fixed; bottom: 0px; backface-visibility: hidden; right: 0px; left: initial; width: 352px; height: 108px; top: initial; z-index: 2147483647;\"></iframe></body></html>"
      ]
     },
     "execution_count": 21,
     "metadata": {},
     "output_type": "execute_result"
    }
   ],
   "source": [
    "soup"
   ]
  },
  {
   "cell_type": "code",
   "execution_count": null,
   "id": "e348c02c",
   "metadata": {},
   "outputs": [
    {
     "data": {
      "text/html": [
       "<div>\n",
       "<style scoped>\n",
       "    .dataframe tbody tr th:only-of-type {\n",
       "        vertical-align: middle;\n",
       "    }\n",
       "\n",
       "    .dataframe tbody tr th {\n",
       "        vertical-align: top;\n",
       "    }\n",
       "\n",
       "    .dataframe thead th {\n",
       "        text-align: right;\n",
       "    }\n",
       "</style>\n",
       "<table border=\"1\" class=\"dataframe\">\n",
       "  <thead>\n",
       "    <tr style=\"text-align: right;\">\n",
       "      <th></th>\n",
       "      <th>precio_actual</th>\n",
       "      <th>precio_anterior</th>\n",
       "    </tr>\n",
       "  </thead>\n",
       "  <tbody>\n",
       "  </tbody>\n",
       "</table>\n",
       "</div>"
      ],
      "text/plain": [
       "Empty DataFrame\n",
       "Columns: [precio_actual, precio_anterior]\n",
       "Index: []"
      ]
     },
     "execution_count": 50,
     "metadata": {},
     "output_type": "execute_result"
    }
   ],
   "source": [
    "precio_actual = []\n",
    "precio_anterior = []\n",
    "soups = soups[1:].copy()\n",
    "for soup in soups:\n",
    "    print(type(soup.select('div.content_price')))\n",
    "    for precios_html in soup.select('div.content_price'):\n",
    "        precios = precios_html[0].get_text()\n",
    "        precios = precios.split()\n",
    "        # if len(precios) == :\n",
    "        #     precio_actual.append(precios[1])\n",
    "        #     precio_anterior.append(precios[3])\n",
    "        # else:\n",
    "        #     precio_actual.append(precios[1])\n",
    "        #     precio_anterior.append(None)\n",
    "\n",
    "df = pd.DataFrame({\n",
    "    'precio_actual': precio_actual,\n",
    "    'precio_anterior': precio_anterior\n",
    "})\n",
    "\n",
    "df"
   ]
  },
  {
   "cell_type": "code",
   "execution_count": 51,
   "id": "c26961d1",
   "metadata": {},
   "outputs": [
    {
     "data": {
      "text/plain": [
       "[<div class=\"content_price\"> <span class=\"price product-price\"> ₡ 65,400 </span> <span class=\"old-price product-price\"> ₡ 85,000 </span></div>,\n",
       " <div class=\"content_price\"> <span class=\"price product-price\"> ₡ 65,500 </span> <span class=\"old-price product-price\"> ₡ 85,000 </span></div>,\n",
       " <div class=\"content_price\"> <span class=\"price product-price\"> ₡ 67,200 </span> <span class=\"old-price product-price\"> ₡ 85,000 </span></div>,\n",
       " <div class=\"content_price\"> <span class=\"price product-price\"> ₡ 67,200 </span> <span class=\"old-price product-price\"> ₡ 85,000 </span></div>,\n",
       " <div class=\"content_price\"> <span class=\"price product-price\"> ₡ 69,000 </span> <span class=\"old-price product-price\"> ₡ 85,000 </span></div>,\n",
       " <div class=\"content_price\"> <span class=\"price product-price\"> ₡ 69,000 </span> <span class=\"old-price product-price\"> ₡ 85,000 </span></div>,\n",
       " <div class=\"content_price\"> <span class=\"price product-price\"> ₡ 79,000 </span> <span class=\"old-price product-price\"> ₡ 89,000 </span></div>,\n",
       " <div class=\"content_price\"> <span class=\"price product-price\"> ₡ 79,000 </span> <span class=\"old-price product-price\"> ₡ 83,000 </span></div>,\n",
       " <div class=\"content_price\"> <span class=\"price product-price\"> ₡ 82,000 </span></div>,\n",
       " <div class=\"content_price\"> <span class=\"price product-price\"> ₡ 83,000 </span></div>,\n",
       " <div class=\"content_price\"> <span class=\"price product-price\"> ₡ 83,000 </span></div>,\n",
       " <div class=\"content_price\"> <span class=\"price product-price\"> ₡ 83,000 </span></div>,\n",
       " <div class=\"content_price\"> <span class=\"price product-price\"> ₡ 83,000 </span></div>,\n",
       " <div class=\"content_price\"> <span class=\"price product-price\"> ₡ 84,000 </span></div>,\n",
       " <div class=\"content_price\"> <span class=\"price product-price\"> ₡ 85,000 </span></div>,\n",
       " <div class=\"content_price\"> <span class=\"price product-price\"> ₡ 85,000 </span></div>,\n",
       " <div class=\"content_price\"> <span class=\"price product-price\"> ₡ 85,000 </span></div>,\n",
       " <div class=\"content_price\"> <span class=\"price product-price\"> ₡ 85,000 </span></div>,\n",
       " <div class=\"content_price\"> <span class=\"price product-price\"> ₡ 86,000 </span></div>,\n",
       " <div class=\"content_price\"> <span class=\"price product-price\"> ₡ 87,000 </span></div>,\n",
       " <div class=\"content_price\"> <span class=\"price product-price\"> ₡ 89,900 </span> <span class=\"old-price product-price\"> ₡ 92,900 </span></div>,\n",
       " <div class=\"content_price\"> <span class=\"price product-price\"> ₡ 92,000 </span> <span class=\"old-price product-price\"> ₡ 99,000 </span></div>,\n",
       " <div class=\"content_price\"> <span class=\"price product-price\"> ₡ 98,000 </span></div>,\n",
       " <div class=\"content_price\"> <span class=\"price product-price\"> ₡ 101,000 </span></div>]"
      ]
     },
     "execution_count": 51,
     "metadata": {},
     "output_type": "execute_result"
    }
   ],
   "source": [
    "soup.select('div.content_price')"
   ]
  },
  {
   "cell_type": "markdown",
   "id": "6cc66785",
   "metadata": {},
   "source": []
  },
  {
   "cell_type": "markdown",
   "id": "e165e02a",
   "metadata": {},
   "source": []
  },
  {
   "cell_type": "markdown",
   "id": "eb4b8403",
   "metadata": {},
   "source": [
    "//*[@id=\"center_column\"]/div[3]/div[19]/div/div[2]/div/div[1]/div\n",
    "\n",
    "<div class=\"content_price\"> <span class=\"price product-price\"> ₡ 79,000 </span></div>"
   ]
  },
  {
   "cell_type": "markdown",
   "id": "e22b1d56",
   "metadata": {},
   "source": []
  },
  {
   "cell_type": "markdown",
   "id": "ef6dbf37",
   "metadata": {},
   "source": []
  },
  {
   "cell_type": "markdown",
   "id": "443f7214",
   "metadata": {},
   "source": []
  },
  {
   "cell_type": "markdown",
   "id": "864a1d96",
   "metadata": {},
   "source": []
  },
  {
   "cell_type": "markdown",
   "id": "568c0a8a",
   "metadata": {},
   "source": []
  },
  {
   "cell_type": "markdown",
   "id": "225418df",
   "metadata": {},
   "source": []
  },
  {
   "cell_type": "markdown",
   "id": "513ec74a",
   "metadata": {},
   "source": []
  },
  {
   "cell_type": "markdown",
   "id": "b83818ec",
   "metadata": {},
   "source": []
  },
  {
   "cell_type": "code",
   "execution_count": null,
   "id": "1f0e90a0",
   "metadata": {},
   "outputs": [],
   "source": [
    "HINT 1\n",
    "\n",
    "Igual lo puedes hacer sin apretar el boton..."
   ]
  },
  {
   "cell_type": "code",
   "execution_count": null,
   "id": "cdd09e77",
   "metadata": {},
   "outputs": [],
   "source": [
    "HINT 2\n",
    "\n",
    "\n",
    "En el propio boton, en sus caracteristicas esta la solucion (ruta...)"
   ]
  },
  {
   "cell_type": "code",
   "execution_count": null,
   "id": "41faa608",
   "metadata": {},
   "outputs": [],
   "source": [
    "SOLUCION\n",
    "\n",
    "\n",
    "No le podemos dar al boton por que nos banea, pero como sabemos que la siguinte pagina es https://extremetechcr.com/tienda/30-teclados#/page-2, ya es simplemente iterar sobre ese numero de pagina e ir obteniendo el html de cada una de ellas..."
   ]
  }
 ],
 "metadata": {
  "kernelspec": {
   "display_name": "data_analysis_env",
   "language": "python",
   "name": "python3"
  },
  "language_info": {
   "codemirror_mode": {
    "name": "ipython",
    "version": 3
   },
   "file_extension": ".py",
   "mimetype": "text/x-python",
   "name": "python",
   "nbconvert_exporter": "python",
   "pygments_lexer": "ipython3",
   "version": "3.11.11"
  }
 },
 "nbformat": 4,
 "nbformat_minor": 5
}
