{
 "cells": [
  {
   "cell_type": "code",
   "execution_count": 108,
   "id": "1eccca4f",
   "metadata": {},
   "outputs": [],
   "source": [
    "from bs4 import BeautifulSoup as bs\n",
    "from selenium import webdriver\n",
    "from selenium.webdriver.common.by import By\n",
    "from selenium.webdriver.common.keys import Keys\n",
    "import undetected_chromedriver as uc\n",
    "\n",
    "import time\n",
    "import pandas as pd"
   ]
  },
  {
   "cell_type": "code",
   "execution_count": 124,
   "id": "04192734",
   "metadata": {},
   "outputs": [],
   "source": [
    "numero = 5"
   ]
  },
  {
   "cell_type": "code",
   "execution_count": 109,
   "id": "160736f4",
   "metadata": {},
   "outputs": [],
   "source": [
    "options = uc.ChromeOptions()\n",
    "options.add_argument(\"--no-sandbox\")\n",
    "\n",
    "driver = uc.Chrome(options=options)"
   ]
  },
  {
   "cell_type": "code",
   "execution_count": 110,
   "id": "8210cf7a",
   "metadata": {},
   "outputs": [],
   "source": [
    "url = 'https://www.filmaffinity.com/es/topgen.php'\n",
    "driver.get(url)"
   ]
  },
  {
   "cell_type": "code",
   "execution_count": 111,
   "id": "f360003f",
   "metadata": {},
   "outputs": [],
   "source": [
    "# Meterse en la web\n",
    "driver.get(url)\n",
    "\n",
    "# Rechazar cookies\n",
    "boton_rechazo_html = '//*[@id=\"disagree-btn\"]'\n",
    "boton_rechazo = driver.find_element(By.XPATH, boton_rechazo_html)\n",
    "boton_rechazo.click()"
   ]
  },
  {
   "cell_type": "code",
   "execution_count": 112,
   "id": "664c47d5",
   "metadata": {},
   "outputs": [],
   "source": [
    "n_reps = 250//30 + 1"
   ]
  },
  {
   "cell_type": "code",
   "execution_count": 113,
   "id": "7301f46d",
   "metadata": {},
   "outputs": [],
   "source": [
    "for _ in range(n_reps):\n",
    "    # Bajamos hasta abajo de la pagina\n",
    "    driver.execute_script(\"window.scrollTo(0, document.body.scrollHeight);\")\n",
    "    time.sleep(2)\n",
    "    # Cogemos el boton y pulsamos\n",
    "    boton_html = '//*[@id=\"load-more-bt\"]/i'\n",
    "    boton = driver.find_element(By.XPATH, boton_html)\n",
    "    boton.click()\n",
    "    # Esperamos\n",
    "    time.sleep(2)"
   ]
  },
  {
   "cell_type": "code",
   "execution_count": 114,
   "id": "83612359",
   "metadata": {},
   "outputs": [],
   "source": [
    "soup_original = bs(driver.page_source, 'lxml')"
   ]
  },
  {
   "cell_type": "code",
   "execution_count": null,
   "id": "0d471f20",
   "metadata": {},
   "outputs": [],
   "source": [
    "links_peli = []\n",
    "for i in range(numero):\n",
    "    links_peli.append(soup_original.select('div.mc-title a')[i]['href'])"
   ]
  },
  {
   "cell_type": "code",
   "execution_count": 117,
   "id": "9a4b1ff5",
   "metadata": {},
   "outputs": [
    {
     "data": {
      "text/plain": [
       "['https://www.filmaffinity.com/es/film809297.html',\n",
       " 'https://www.filmaffinity.com/es/film107937.html',\n",
       " 'https://www.filmaffinity.com/es/film730528.html',\n",
       " 'https://www.filmaffinity.com/es/film399474.html',\n",
       " 'https://www.filmaffinity.com/es/film489970.html']"
      ]
     },
     "execution_count": 117,
     "metadata": {},
     "output_type": "execute_result"
    }
   ],
   "source": [
    "links_peli"
   ]
  },
  {
   "cell_type": "code",
   "execution_count": 120,
   "id": "0beb3b36",
   "metadata": {},
   "outputs": [],
   "source": [
    "titulos = []\n",
    "years = []\n",
    "direcciones = []\n",
    "repartos = []\n",
    "\n",
    "for link in links_peli:\n",
    "    driver.get(link)\n",
    "    soup = bs(driver.page_source, 'lxml')\n",
    "    time.sleep(5)\n",
    "\n",
    "    todo = soup.select('#left-column')[0].get_text()\n",
    "    todo = todo.split('\\n')\n",
    "    todo_limpio =  list(filter(lambda x: x != '', todo))\n",
    "\n",
    "    index = todo_limpio.index('Título original')\n",
    "    titulo = todo_limpio[index+1].strip()\n",
    "    titulo_bueno = titulo.split('aka')[0]\n",
    "\n",
    "\n",
    "    index = todo_limpio.index('Año')\n",
    "    year = todo_limpio[index+1].strip()\n",
    "\n",
    "    index = todo_limpio.index('Dirección')\n",
    "    direccion = todo_limpio[index+1].strip()\n",
    "\n",
    "    index = todo_limpio.index('Reparto')\n",
    "    reparto= todo_limpio[index+1]\n",
    "\n",
    "    titulos.append(titulo_bueno)\n",
    "    years.append(year)\n",
    "    direcciones.append(direccion)\n",
    "    repartos.append(reparto)\n",
    "\n",
    "    time.sleep(5)\n",
    "\n"
   ]
  },
  {
   "cell_type": "code",
   "execution_count": 127,
   "id": "920cc966",
   "metadata": {},
   "outputs": [],
   "source": [
    "nota = []\n",
    "for i in range(numero):\n",
    "    nota.append(soup_original.select('div.avg-rating')[i].get_text())"
   ]
  },
  {
   "cell_type": "code",
   "execution_count": 129,
   "id": "72566950",
   "metadata": {},
   "outputs": [
    {
     "data": {
      "text/html": [
       "<div>\n",
       "<style scoped>\n",
       "    .dataframe tbody tr th:only-of-type {\n",
       "        vertical-align: middle;\n",
       "    }\n",
       "\n",
       "    .dataframe tbody tr th {\n",
       "        vertical-align: top;\n",
       "    }\n",
       "\n",
       "    .dataframe thead th {\n",
       "        text-align: right;\n",
       "    }\n",
       "</style>\n",
       "<table border=\"1\" class=\"dataframe\">\n",
       "  <thead>\n",
       "    <tr style=\"text-align: right;\">\n",
       "      <th></th>\n",
       "      <th>titulo</th>\n",
       "      <th>years</th>\n",
       "      <th>direccion</th>\n",
       "      <th>reparto</th>\n",
       "      <th>nota</th>\n",
       "    </tr>\n",
       "  </thead>\n",
       "  <tbody>\n",
       "    <tr>\n",
       "      <th>0</th>\n",
       "      <td>The Godfather</td>\n",
       "      <td>1972</td>\n",
       "      <td>Francis Ford Coppola</td>\n",
       "      <td>Marlon BrandoAl PacinoJames CaanRobert DuvallD...</td>\n",
       "      <td>9,0</td>\n",
       "    </tr>\n",
       "    <tr>\n",
       "      <th>1</th>\n",
       "      <td>Planet Earth II</td>\n",
       "      <td>2016</td>\n",
       "      <td>Elizabeth White, Justin Anderson, Ed Charles, ...</td>\n",
       "      <td>David Attenborough</td>\n",
       "      <td>8,9</td>\n",
       "    </tr>\n",
       "    <tr>\n",
       "      <th>2</th>\n",
       "      <td>The Godfather Part II</td>\n",
       "      <td>1974</td>\n",
       "      <td>Francis Ford Coppola</td>\n",
       "      <td>Al PacinoRobert De NiroDiane KeatonRobert Duva...</td>\n",
       "      <td>8,9</td>\n",
       "    </tr>\n",
       "    <tr>\n",
       "      <th>3</th>\n",
       "      <td>The Wire</td>\n",
       "      <td>2002</td>\n",
       "      <td>David Simon (Creador), Joe Chappelle, Ernest R...</td>\n",
       "      <td>Dominic WestLance ReddickSonja SohnClarke Pete...</td>\n",
       "      <td>8,8</td>\n",
       "    </tr>\n",
       "    <tr>\n",
       "      <th>4</th>\n",
       "      <td>Breaking Bad</td>\n",
       "      <td>2008</td>\n",
       "      <td>Vince Gilligan (Creador), Michelle MacLaren, A...</td>\n",
       "      <td>Bryan CranstonAaron PaulAnna GunnDean NorrisBe...</td>\n",
       "      <td>8,8</td>\n",
       "    </tr>\n",
       "  </tbody>\n",
       "</table>\n",
       "</div>"
      ],
      "text/plain": [
       "                  titulo years  \\\n",
       "0          The Godfather  1972   \n",
       "1        Planet Earth II  2016   \n",
       "2  The Godfather Part II  1974   \n",
       "3               The Wire  2002   \n",
       "4           Breaking Bad  2008   \n",
       "\n",
       "                                           direccion  \\\n",
       "0                               Francis Ford Coppola   \n",
       "1  Elizabeth White, Justin Anderson, Ed Charles, ...   \n",
       "2                               Francis Ford Coppola   \n",
       "3  David Simon (Creador), Joe Chappelle, Ernest R...   \n",
       "4  Vince Gilligan (Creador), Michelle MacLaren, A...   \n",
       "\n",
       "                                             reparto nota  \n",
       "0  Marlon BrandoAl PacinoJames CaanRobert DuvallD...  9,0  \n",
       "1                                 David Attenborough  8,9  \n",
       "2  Al PacinoRobert De NiroDiane KeatonRobert Duva...  8,9  \n",
       "3  Dominic WestLance ReddickSonja SohnClarke Pete...  8,8  \n",
       "4  Bryan CranstonAaron PaulAnna GunnDean NorrisBe...  8,8  "
      ]
     },
     "execution_count": 129,
     "metadata": {},
     "output_type": "execute_result"
    }
   ],
   "source": [
    "df = pd.DataFrame({\n",
    "    'titulo': titulos,\n",
    "    'years': years,\n",
    "    'direccion': direcciones,\n",
    "    'reparto': repartos,\n",
    "    'nota': nota\n",
    "})\n",
    "\n",
    "df"
   ]
  }
 ],
 "metadata": {
  "kernelspec": {
   "display_name": "data_analysis_env",
   "language": "python",
   "name": "python3"
  },
  "language_info": {
   "codemirror_mode": {
    "name": "ipython",
    "version": 3
   },
   "file_extension": ".py",
   "mimetype": "text/x-python",
   "name": "python",
   "nbconvert_exporter": "python",
   "pygments_lexer": "ipython3",
   "version": "3.11.11"
  }
 },
 "nbformat": 4,
 "nbformat_minor": 5
}
